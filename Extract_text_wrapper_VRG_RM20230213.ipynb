{
  "cells": [
    {
      "cell_type": "markdown",
      "metadata": {
        "id": "view-in-github",
        "colab_type": "text"
      },
      "source": [
        "<a href=\"https://colab.research.google.com/github/zenon10/POC-OCR/blob/main/Extract_text_wrapper_VRG_RM20230213.ipynb\" target=\"_parent\"><img src=\"https://colab.research.google.com/assets/colab-badge.svg\" alt=\"Open In Colab\"/></a>"
      ]
    },
    {
      "cell_type": "code",
      "execution_count": null,
      "id": "c4feafe9-fdad-403e-98df-f7d20015705d",
      "metadata": {
        "collapsed": true,
        "jupyter": {
          "outputs_hidden": true
        },
        "tags": [],
        "id": "c4feafe9-fdad-403e-98df-f7d20015705d",
        "outputId": "a03d2c46-73ac-4244-8fa4-a79bb6d2bc3e"
      },
      "outputs": [
        {
          "name": "stdout",
          "output_type": "stream",
          "text": [
            "Requirement already satisfied: pypdfium2 in c:\\users\\riyagupta\\anaconda3\\lib\\site-packages (3.20.1)\n"
          ]
        },
        {
          "name": "stderr",
          "output_type": "stream",
          "text": [
            "'apt-get' is not recognized as an internal or external command,\n",
            "operable program or batch file.\n"
          ]
        },
        {
          "name": "stdout",
          "output_type": "stream",
          "text": [
            "Collecting git+https://github.com/deanmalmgren/textract\n",
            "  Cloning https://github.com/deanmalmgren/textract to c:\\users\\riyagupta\\appdata\\local\\temp\\pip-req-build-jtfbvkfd\n",
            "  Resolved https://github.com/deanmalmgren/textract to commit 102a58418283fbc833ae1d6dad84e741e09eff66\n",
            "  Preparing metadata (setup.py): started\n",
            "  Preparing metadata (setup.py): finished with status 'done'\n",
            "Requirement already satisfied: argcomplete~=1.10.0 in c:\\users\\riyagupta\\anaconda3\\lib\\site-packages (from textract==1.6.5) (1.10.3)\n",
            "Requirement already satisfied: beautifulsoup4~=4.8.0 in c:\\users\\riyagupta\\anaconda3\\lib\\site-packages (from textract==1.6.5) (4.8.2)\n",
            "Requirement already satisfied: chardet==3.* in c:\\users\\riyagupta\\anaconda3\\lib\\site-packages (from textract==1.6.5) (3.0.4)\n",
            "Requirement already satisfied: docx2txt~=0.8 in c:\\users\\riyagupta\\anaconda3\\lib\\site-packages (from textract==1.6.5) (0.8)\n",
            "Requirement already satisfied: extract-msg<=0.29.* in c:\\users\\riyagupta\\anaconda3\\lib\\site-packages (from textract==1.6.5) (0.28.7)\n",
            "Requirement already satisfied: pdfminer.six==20191110 in c:\\users\\riyagupta\\anaconda3\\lib\\site-packages (from textract==1.6.5) (20191110)\n",
            "Requirement already satisfied: python-pptx~=0.6.18 in c:\\users\\riyagupta\\anaconda3\\lib\\site-packages (from textract==1.6.5) (0.6.21)\n",
            "Requirement already satisfied: six~=1.12.0 in c:\\users\\riyagupta\\anaconda3\\lib\\site-packages (from textract==1.6.5) (1.12.0)\n",
            "Requirement already satisfied: SpeechRecognition~=3.8.1 in c:\\users\\riyagupta\\anaconda3\\lib\\site-packages (from textract==1.6.5) (3.8.1)\n",
            "Requirement already satisfied: xlrd~=1.2.0 in c:\\users\\riyagupta\\anaconda3\\lib\\site-packages (from textract==1.6.5) (1.2.0)\n",
            "Requirement already satisfied: pycryptodome in c:\\users\\riyagupta\\anaconda3\\lib\\site-packages (from pdfminer.six==20191110->textract==1.6.5) (3.17)\n",
            "Requirement already satisfied: sortedcontainers in c:\\users\\riyagupta\\anaconda3\\lib\\site-packages (from pdfminer.six==20191110->textract==1.6.5) (2.4.0)\n",
            "Requirement already satisfied: soupsieve>=1.2 in c:\\users\\riyagupta\\anaconda3\\lib\\site-packages (from beautifulsoup4~=4.8.0->textract==1.6.5) (2.3.1)\n",
            "Requirement already satisfied: imapclient==2.1.0 in c:\\users\\riyagupta\\anaconda3\\lib\\site-packages (from extract-msg<=0.29.*->textract==1.6.5) (2.1.0)\n",
            "Requirement already satisfied: tzlocal>=2.1 in c:\\users\\riyagupta\\anaconda3\\lib\\site-packages (from extract-msg<=0.29.*->textract==1.6.5) (4.2)\n",
            "Requirement already satisfied: olefile>=0.46 in c:\\users\\riyagupta\\anaconda3\\lib\\site-packages (from extract-msg<=0.29.*->textract==1.6.5) (0.46)\n",
            "Requirement already satisfied: ebcdic>=1.1.1 in c:\\users\\riyagupta\\anaconda3\\lib\\site-packages (from extract-msg<=0.29.*->textract==1.6.5) (1.1.1)\n",
            "Requirement already satisfied: compressed-rtf>=1.0.6 in c:\\users\\riyagupta\\anaconda3\\lib\\site-packages (from extract-msg<=0.29.*->textract==1.6.5) (1.0.6)\n",
            "Requirement already satisfied: XlsxWriter>=0.5.7 in c:\\users\\riyagupta\\anaconda3\\lib\\site-packages (from python-pptx~=0.6.18->textract==1.6.5) (3.0.3)\n",
            "Requirement already satisfied: Pillow>=3.3.2 in c:\\users\\riyagupta\\anaconda3\\lib\\site-packages (from python-pptx~=0.6.18->textract==1.6.5) (9.2.0)\n",
            "Requirement already satisfied: lxml>=3.1.0 in c:\\users\\riyagupta\\anaconda3\\lib\\site-packages (from python-pptx~=0.6.18->textract==1.6.5) (4.9.1)\n",
            "Requirement already satisfied: pytz-deprecation-shim in c:\\users\\riyagupta\\anaconda3\\lib\\site-packages (from tzlocal>=2.1->extract-msg<=0.29.*->textract==1.6.5) (0.1.0.post0)\n",
            "Requirement already satisfied: tzdata in c:\\users\\riyagupta\\anaconda3\\lib\\site-packages (from tzlocal>=2.1->extract-msg<=0.29.*->textract==1.6.5) (2022.7)\n"
          ]
        },
        {
          "name": "stderr",
          "output_type": "stream",
          "text": [
            "  Running command git clone --filter=blob:none --quiet https://github.com/deanmalmgren/textract 'C:\\Users\\RiyaGupta\\AppData\\Local\\Temp\\pip-req-build-jtfbvkfd'\n"
          ]
        }
      ],
      "source": [
        "## For pdf\n",
        "! pip install pypdfium2\n",
        "## For textract \n",
        "!apt-get install python-dev libxml2-dev libxslt1-dev antiword unrtf poppler-utils \\\n",
        "     pstotext tesseract-ocr \\\n",
        "     \n",
        "!pip install textract"
      ]
    },
    {
      "cell_type": "code",
      "execution_count": null,
      "id": "74bb61bb-f125-4061-b944-ba75a3960de7",
      "metadata": {
        "id": "74bb61bb-f125-4061-b944-ba75a3960de7"
      },
      "outputs": [],
      "source": [
        "# Library to work with Operating System\n",
        "import os\n",
        "import glob\n",
        "import pandas as pd\n",
        "from PIL import Image\n",
        "import pytesseract\n",
        "import shutil\n",
        "import textract\n",
        "import random\n",
        "from statistics import mean\n",
        "\n",
        "# Library to create PDF, inspection, manupulation and rendering(turning into images)\n",
        "import pypdfium2 as pdfium\n",
        "\n",
        "# If you don't have tesseract executable in your PATH, include the following:\n",
        "pytesseract.pytesseract.tesseract_cmd = r'C:\\Users\\RiyaGupta\\AppData\\Local\\Programs\\Tesseract-OCR\\tesseract.exe'"
      ]
    },
    {
      "cell_type": "code",
      "execution_count": null,
      "id": "c749d86a",
      "metadata": {
        "scrolled": true,
        "id": "c749d86a"
      },
      "outputs": [],
      "source": [
        "pip install git+https://github.com/jpweytjens/textract"
      ]
    },
    {
      "cell_type": "code",
      "execution_count": null,
      "id": "5706e9e5-92b9-49e6-8c5f-417aad70491f",
      "metadata": {
        "jupyter": {
          "source_hidden": true
        },
        "tags": [],
        "id": "5706e9e5-92b9-49e6-8c5f-417aad70491f"
      },
      "outputs": [],
      "source": [
        "path = glob.glob(\"1_input/*\")\n",
        "metadata = pd.DataFrame({\"input_file_path\":path});metadata\n",
        "metadata.to_csv(\"metadata.csv\")"
      ]
    },
    {
      "cell_type": "code",
      "execution_count": null,
      "id": "c482a4cb-57d0-47fd-b092-205d19e797b0",
      "metadata": {
        "id": "c482a4cb-57d0-47fd-b092-205d19e797b0"
      },
      "outputs": [],
      "source": [
        "def pdf_to_txt(input_file_path, text_file_name, output_folder_path):\n",
        "    \n",
        "    pdf_info = pdfium.PdfDocument(input_file_path)\n",
        "        \n",
        "    # get the number of pages in the document\n",
        "    n_pages = len(pdf_info)\n",
        "    print('Number of pages {}'.format(n_pages))\n",
        "    \n",
        "    page_indices = [i for i in range(n_pages)]    \n",
        "    renderer = pdf_info.render_to(pdfium.BitmapConv.pil_image, page_indices = page_indices, scale = 300/72)\n",
        "    \n",
        "    combined_text = ''\n",
        "    ocr_conf = []\n",
        "    page = 0\n",
        "    for img in renderer:\n",
        "        page += 1\n",
        "        text = pytesseract.image_to_string(img, lang='fra')\n",
        "        ## Concatenating text-string outputs from each image into one master text-string\n",
        "        combined_text = (\"\\n**********\\n\"+str(page)+\"\\n**********\\n\").join([combined_text, text])\n",
        "        #confidence score—pytesseract\n",
        "        conf_score = pytesseract.image_to_data(img,output_type = 'data.frame')\n",
        "        conf_score = conf_score[conf_score.conf != -1]\n",
        "        ocr_conf.append(conf_score.conf.mean())\n",
        "\n",
        "    \n",
        "    ## Open a file with access mode 'w'\n",
        "    file_object2 = open(text_file_name, 'w', encoding=\"utf8\")\n",
        "    file_object2.write(combined_text)\n",
        "    file_object2.close()\n",
        "    return mean(ocr_conf)"
      ]
    },
    {
      "cell_type": "code",
      "execution_count": null,
      "id": "acaf192a-36f9-4877-a76a-1f16f52fd29d",
      "metadata": {
        "tags": [],
        "id": "acaf192a-36f9-4877-a76a-1f16f52fd29d"
      },
      "outputs": [],
      "source": [
        "def extract_text(input_file_path, output_folder_path):\n",
        "    '''\n",
        "    This function takes French PDFs, doc, docx, excels, \n",
        "    extract text and save it in a txt file.\n",
        "\n",
        "    Input parameters\n",
        "        input_file_path: Input file location\n",
        "        output_file_path: Output file location\n",
        "        extra_dir: Directory to save additional output files for PDFs\n",
        "    Output\n",
        "        For PDF files, the extra_dir will have jpeg files and output_file_path will have txt files\n",
        "        For doc, docx and the excel, output_file_path will be only txt files\n",
        "    '''\n",
        "    file_name = os.path.basename(input_file_path).split('.')[0]\n",
        "    \n",
        "    if not os.path.exists(output_folder_path):\n",
        "        os.makedirs(output_folder_path )\n",
        "        \n",
        "    if os.path.exists(input_file_path):\n",
        "        print(\"Text extraction process starting for...\",input_file_path)\n",
        "        \n",
        "        ## Storing extension of input_file_path\n",
        "        file_name_extn = os.path.basename(input_file_path).split('.')[1]\n",
        "        \n",
        "        ## Keeping a list of acceptable extensions\n",
        "        pdf_extension = ['PDF']\n",
        "        non_pdf_extension = ['DOC', 'DOCX', 'XLSX']\n",
        "        \n",
        "        text_file_name = output_folder_path + file_name + \".txt\"\n",
        "        \n",
        "        ## Applying text extraction process based on formats\n",
        "        if file_name_extn.upper() in pdf_extension:\n",
        "            \n",
        "            ## Converting each page of PDF to combined text file\n",
        "            conf = pdf_to_txt(input_file_path, text_file_name, output_folder_path)\n",
        "            \n",
        "        elif file_name_extn.upper() in non_pdf_extension:\n",
        "            text_file = textract.process(input_file_path)\n",
        "            conf = 'na'\n",
        "            ## Saving text in output_file_path\n",
        "            with open(text_file_name, 'w') as f:\n",
        "                f.write(text_file.decode('utf8', 'strict'))\n",
        "        else:\n",
        "            raise ValueError(\"File does not match required formats - PDF, doc, docx, xlsx\")\n",
        "    else:\n",
        "        raise ValueError(\"File does not exist!!\")\n",
        "    return text_file_name,conf"
      ]
    },
    {
      "cell_type": "code",
      "execution_count": null,
      "id": "2618f3c7-76b7-45a6-a590-fbf45af8f5d8",
      "metadata": {
        "id": "2618f3c7-76b7-45a6-a590-fbf45af8f5d8"
      },
      "outputs": [],
      "source": [
        "def extract_text_wrapper(metadata_file_path, output_folder_path):\n",
        "    metadata = pd.read_csv(metadata_file_path)\n",
        "    metadata['text_file_path'],metadata['confidence'] = metadata[\"input_file_path\"].apply(lambda x: extract_text(x, output_folder_path))\n",
        "    metadata.to_csv(\"metadata.csv\")"
      ]
    },
    {
      "cell_type": "code",
      "execution_count": null,
      "id": "83b5614f-4f9f-44c8-bab4-407f0cdb4c5a",
      "metadata": {
        "id": "83b5614f-4f9f-44c8-bab4-407f0cdb4c5a",
        "outputId": "26ebe0ee-130b-4c56-8a32-66365f0620da"
      },
      "outputs": [
        {
          "name": "stdout",
          "output_type": "stream",
          "text": [
            "Text extraction process starting for... 1_input\\f1.doc\n"
          ]
        },
        {
          "ename": "ShellError",
          "evalue": "The command `antiword 1_input\\f1.doc` failed with exit code 1\n------------- stdout -------------\nb''------------- stderr -------------\nb'Traceback (most recent call last):\\r\\n  File \"C:\\\\Users\\\\RiyaGupta\\\\anaconda3\\\\lib\\\\runpy.py\", line 197, in _run_module_as_main\\r\\n    return _run_code(code, main_globals, None,\\r\\n  File \"C:\\\\Users\\\\RiyaGupta\\\\anaconda3\\\\lib\\\\runpy.py\", line 87, in _run_code\\r\\n    exec(code, run_globals)\\r\\n  File \"C:\\\\Users\\\\RiyaGupta\\\\anaconda3\\\\Scripts\\\\antiword.exe\\\\__main__.py\", line 7, in <module>\\r\\n  File \"C:\\\\Users\\\\RiyaGupta\\\\anaconda3\\\\lib\\\\site-packages\\\\antiword.py\", line 21, in main\\r\\n    r = run(cmd)\\r\\n  File \"C:\\\\Users\\\\RiyaGupta\\\\anaconda3\\\\lib\\\\subprocess.py\", line 505, in run\\r\\n    with Popen(*popenargs, **kwargs) as process:\\r\\n  File \"C:\\\\Users\\\\RiyaGupta\\\\anaconda3\\\\lib\\\\subprocess.py\", line 951, in __init__\\r\\n    self._execute_child(args, executable, preexec_fn, close_fds,\\r\\n  File \"C:\\\\Users\\\\RiyaGupta\\\\anaconda3\\\\lib\\\\subprocess.py\", line 1420, in _execute_child\\r\\n    hp, ht, pid, tid = _winapi.CreateProcess(executable, args,\\r\\nFileNotFoundError: [WinError 2] The system cannot find the file specified\\r\\n'",
          "output_type": "error",
          "traceback": [
            "\u001b[1;31m---------------------------------------------------------------------------\u001b[0m",
            "\u001b[1;31mShellError\u001b[0m                                Traceback (most recent call last)",
            "\u001b[1;32m~\\AppData\\Local\\Temp\\ipykernel_8556\\2829137361.py\u001b[0m in \u001b[0;36m<module>\u001b[1;34m\u001b[0m\n\u001b[0;32m      1\u001b[0m \u001b[0mmetadata_file_path\u001b[0m \u001b[1;33m=\u001b[0m \u001b[1;34m\"metadata.csv\"\u001b[0m\u001b[1;33m\u001b[0m\u001b[1;33m\u001b[0m\u001b[0m\n\u001b[0;32m      2\u001b[0m \u001b[0moutput_folder_path\u001b[0m \u001b[1;33m=\u001b[0m \u001b[1;34m\"2_output/\"\u001b[0m\u001b[1;33m\u001b[0m\u001b[1;33m\u001b[0m\u001b[0m\n\u001b[1;32m----> 3\u001b[1;33m \u001b[0mextract_text_wrapper\u001b[0m\u001b[1;33m(\u001b[0m\u001b[0mmetadata_file_path\u001b[0m\u001b[1;33m,\u001b[0m \u001b[0moutput_folder_path\u001b[0m\u001b[1;33m)\u001b[0m\u001b[1;33m\u001b[0m\u001b[1;33m\u001b[0m\u001b[0m\n\u001b[0m",
            "\u001b[1;32m~\\AppData\\Local\\Temp\\ipykernel_8556\\3493941848.py\u001b[0m in \u001b[0;36mextract_text_wrapper\u001b[1;34m(metadata_file_path, output_folder_path)\u001b[0m\n\u001b[0;32m      1\u001b[0m \u001b[1;32mdef\u001b[0m \u001b[0mextract_text_wrapper\u001b[0m\u001b[1;33m(\u001b[0m\u001b[0mmetadata_file_path\u001b[0m\u001b[1;33m,\u001b[0m \u001b[0moutput_folder_path\u001b[0m\u001b[1;33m)\u001b[0m\u001b[1;33m:\u001b[0m\u001b[1;33m\u001b[0m\u001b[1;33m\u001b[0m\u001b[0m\n\u001b[0;32m      2\u001b[0m     \u001b[0mmetadata\u001b[0m \u001b[1;33m=\u001b[0m \u001b[0mpd\u001b[0m\u001b[1;33m.\u001b[0m\u001b[0mread_csv\u001b[0m\u001b[1;33m(\u001b[0m\u001b[0mmetadata_file_path\u001b[0m\u001b[1;33m)\u001b[0m\u001b[1;33m\u001b[0m\u001b[1;33m\u001b[0m\u001b[0m\n\u001b[1;32m----> 3\u001b[1;33m     \u001b[0mmetadata\u001b[0m\u001b[1;33m[\u001b[0m\u001b[1;34m'text_file_path'\u001b[0m\u001b[1;33m]\u001b[0m\u001b[1;33m,\u001b[0m\u001b[0mmetadata\u001b[0m\u001b[1;33m[\u001b[0m\u001b[1;34m'confidence'\u001b[0m\u001b[1;33m]\u001b[0m \u001b[1;33m=\u001b[0m \u001b[0mmetadata\u001b[0m\u001b[1;33m[\u001b[0m\u001b[1;34m\"input_file_path\"\u001b[0m\u001b[1;33m]\u001b[0m\u001b[1;33m.\u001b[0m\u001b[0mapply\u001b[0m\u001b[1;33m(\u001b[0m\u001b[1;32mlambda\u001b[0m \u001b[0mx\u001b[0m\u001b[1;33m:\u001b[0m \u001b[0mextract_text\u001b[0m\u001b[1;33m(\u001b[0m\u001b[0mx\u001b[0m\u001b[1;33m,\u001b[0m \u001b[0moutput_folder_path\u001b[0m\u001b[1;33m)\u001b[0m\u001b[1;33m)\u001b[0m\u001b[1;33m\u001b[0m\u001b[1;33m\u001b[0m\u001b[0m\n\u001b[0m\u001b[0;32m      4\u001b[0m     \u001b[0mmetadata\u001b[0m\u001b[1;33m.\u001b[0m\u001b[0mto_csv\u001b[0m\u001b[1;33m(\u001b[0m\u001b[1;34m\"metadata.csv\"\u001b[0m\u001b[1;33m)\u001b[0m\u001b[1;33m\u001b[0m\u001b[1;33m\u001b[0m\u001b[0m\n",
            "\u001b[1;32m~\\anaconda3\\lib\\site-packages\\pandas\\core\\series.py\u001b[0m in \u001b[0;36mapply\u001b[1;34m(self, func, convert_dtype, args, **kwargs)\u001b[0m\n\u001b[0;32m   4431\u001b[0m         \u001b[0mdtype\u001b[0m\u001b[1;33m:\u001b[0m \u001b[0mfloat64\u001b[0m\u001b[1;33m\u001b[0m\u001b[1;33m\u001b[0m\u001b[0m\n\u001b[0;32m   4432\u001b[0m         \"\"\"\n\u001b[1;32m-> 4433\u001b[1;33m         \u001b[1;32mreturn\u001b[0m \u001b[0mSeriesApply\u001b[0m\u001b[1;33m(\u001b[0m\u001b[0mself\u001b[0m\u001b[1;33m,\u001b[0m \u001b[0mfunc\u001b[0m\u001b[1;33m,\u001b[0m \u001b[0mconvert_dtype\u001b[0m\u001b[1;33m,\u001b[0m \u001b[0margs\u001b[0m\u001b[1;33m,\u001b[0m \u001b[0mkwargs\u001b[0m\u001b[1;33m)\u001b[0m\u001b[1;33m.\u001b[0m\u001b[0mapply\u001b[0m\u001b[1;33m(\u001b[0m\u001b[1;33m)\u001b[0m\u001b[1;33m\u001b[0m\u001b[1;33m\u001b[0m\u001b[0m\n\u001b[0m\u001b[0;32m   4434\u001b[0m \u001b[1;33m\u001b[0m\u001b[0m\n\u001b[0;32m   4435\u001b[0m     def _reduce(\n",
            "\u001b[1;32m~\\anaconda3\\lib\\site-packages\\pandas\\core\\apply.py\u001b[0m in \u001b[0;36mapply\u001b[1;34m(self)\u001b[0m\n\u001b[0;32m   1086\u001b[0m             \u001b[1;32mreturn\u001b[0m \u001b[0mself\u001b[0m\u001b[1;33m.\u001b[0m\u001b[0mapply_str\u001b[0m\u001b[1;33m(\u001b[0m\u001b[1;33m)\u001b[0m\u001b[1;33m\u001b[0m\u001b[1;33m\u001b[0m\u001b[0m\n\u001b[0;32m   1087\u001b[0m \u001b[1;33m\u001b[0m\u001b[0m\n\u001b[1;32m-> 1088\u001b[1;33m         \u001b[1;32mreturn\u001b[0m \u001b[0mself\u001b[0m\u001b[1;33m.\u001b[0m\u001b[0mapply_standard\u001b[0m\u001b[1;33m(\u001b[0m\u001b[1;33m)\u001b[0m\u001b[1;33m\u001b[0m\u001b[1;33m\u001b[0m\u001b[0m\n\u001b[0m\u001b[0;32m   1089\u001b[0m \u001b[1;33m\u001b[0m\u001b[0m\n\u001b[0;32m   1090\u001b[0m     \u001b[1;32mdef\u001b[0m \u001b[0magg\u001b[0m\u001b[1;33m(\u001b[0m\u001b[0mself\u001b[0m\u001b[1;33m)\u001b[0m\u001b[1;33m:\u001b[0m\u001b[1;33m\u001b[0m\u001b[1;33m\u001b[0m\u001b[0m\n",
            "\u001b[1;32m~\\anaconda3\\lib\\site-packages\\pandas\\core\\apply.py\u001b[0m in \u001b[0;36mapply_standard\u001b[1;34m(self)\u001b[0m\n\u001b[0;32m   1141\u001b[0m                 \u001b[1;31m# List[Union[Callable[..., Any], str]]]]]\"; expected\u001b[0m\u001b[1;33m\u001b[0m\u001b[1;33m\u001b[0m\u001b[0m\n\u001b[0;32m   1142\u001b[0m                 \u001b[1;31m# \"Callable[[Any], Any]\"\u001b[0m\u001b[1;33m\u001b[0m\u001b[1;33m\u001b[0m\u001b[0m\n\u001b[1;32m-> 1143\u001b[1;33m                 mapped = lib.map_infer(\n\u001b[0m\u001b[0;32m   1144\u001b[0m                     \u001b[0mvalues\u001b[0m\u001b[1;33m,\u001b[0m\u001b[1;33m\u001b[0m\u001b[1;33m\u001b[0m\u001b[0m\n\u001b[0;32m   1145\u001b[0m                     \u001b[0mf\u001b[0m\u001b[1;33m,\u001b[0m  \u001b[1;31m# type: ignore[arg-type]\u001b[0m\u001b[1;33m\u001b[0m\u001b[1;33m\u001b[0m\u001b[0m\n",
            "\u001b[1;32m~\\anaconda3\\lib\\site-packages\\pandas\\_libs\\lib.pyx\u001b[0m in \u001b[0;36mpandas._libs.lib.map_infer\u001b[1;34m()\u001b[0m\n",
            "\u001b[1;32m~\\AppData\\Local\\Temp\\ipykernel_8556\\3493941848.py\u001b[0m in \u001b[0;36m<lambda>\u001b[1;34m(x)\u001b[0m\n\u001b[0;32m      1\u001b[0m \u001b[1;32mdef\u001b[0m \u001b[0mextract_text_wrapper\u001b[0m\u001b[1;33m(\u001b[0m\u001b[0mmetadata_file_path\u001b[0m\u001b[1;33m,\u001b[0m \u001b[0moutput_folder_path\u001b[0m\u001b[1;33m)\u001b[0m\u001b[1;33m:\u001b[0m\u001b[1;33m\u001b[0m\u001b[1;33m\u001b[0m\u001b[0m\n\u001b[0;32m      2\u001b[0m     \u001b[0mmetadata\u001b[0m \u001b[1;33m=\u001b[0m \u001b[0mpd\u001b[0m\u001b[1;33m.\u001b[0m\u001b[0mread_csv\u001b[0m\u001b[1;33m(\u001b[0m\u001b[0mmetadata_file_path\u001b[0m\u001b[1;33m)\u001b[0m\u001b[1;33m\u001b[0m\u001b[1;33m\u001b[0m\u001b[0m\n\u001b[1;32m----> 3\u001b[1;33m     \u001b[0mmetadata\u001b[0m\u001b[1;33m[\u001b[0m\u001b[1;34m'text_file_path'\u001b[0m\u001b[1;33m]\u001b[0m\u001b[1;33m,\u001b[0m\u001b[0mmetadata\u001b[0m\u001b[1;33m[\u001b[0m\u001b[1;34m'confidence'\u001b[0m\u001b[1;33m]\u001b[0m \u001b[1;33m=\u001b[0m \u001b[0mmetadata\u001b[0m\u001b[1;33m[\u001b[0m\u001b[1;34m\"input_file_path\"\u001b[0m\u001b[1;33m]\u001b[0m\u001b[1;33m.\u001b[0m\u001b[0mapply\u001b[0m\u001b[1;33m(\u001b[0m\u001b[1;32mlambda\u001b[0m \u001b[0mx\u001b[0m\u001b[1;33m:\u001b[0m \u001b[0mextract_text\u001b[0m\u001b[1;33m(\u001b[0m\u001b[0mx\u001b[0m\u001b[1;33m,\u001b[0m \u001b[0moutput_folder_path\u001b[0m\u001b[1;33m)\u001b[0m\u001b[1;33m)\u001b[0m\u001b[1;33m\u001b[0m\u001b[1;33m\u001b[0m\u001b[0m\n\u001b[0m\u001b[0;32m      4\u001b[0m     \u001b[0mmetadata\u001b[0m\u001b[1;33m.\u001b[0m\u001b[0mto_csv\u001b[0m\u001b[1;33m(\u001b[0m\u001b[1;34m\"metadata.csv\"\u001b[0m\u001b[1;33m)\u001b[0m\u001b[1;33m\u001b[0m\u001b[1;33m\u001b[0m\u001b[0m\n",
            "\u001b[1;32m~\\AppData\\Local\\Temp\\ipykernel_8556\\3646300600.py\u001b[0m in \u001b[0;36mextract_text\u001b[1;34m(input_file_path, output_folder_path)\u001b[0m\n\u001b[0;32m     36\u001b[0m \u001b[1;33m\u001b[0m\u001b[0m\n\u001b[0;32m     37\u001b[0m         \u001b[1;32melif\u001b[0m \u001b[0mfile_name_extn\u001b[0m\u001b[1;33m.\u001b[0m\u001b[0mupper\u001b[0m\u001b[1;33m(\u001b[0m\u001b[1;33m)\u001b[0m \u001b[1;32min\u001b[0m \u001b[0mnon_pdf_extension\u001b[0m\u001b[1;33m:\u001b[0m\u001b[1;33m\u001b[0m\u001b[1;33m\u001b[0m\u001b[0m\n\u001b[1;32m---> 38\u001b[1;33m             \u001b[0mtext_file\u001b[0m \u001b[1;33m=\u001b[0m \u001b[0mtextract\u001b[0m\u001b[1;33m.\u001b[0m\u001b[0mprocess\u001b[0m\u001b[1;33m(\u001b[0m\u001b[0minput_file_path\u001b[0m\u001b[1;33m)\u001b[0m\u001b[1;33m\u001b[0m\u001b[1;33m\u001b[0m\u001b[0m\n\u001b[0m\u001b[0;32m     39\u001b[0m             \u001b[0mconf\u001b[0m \u001b[1;33m=\u001b[0m \u001b[1;34m'na'\u001b[0m\u001b[1;33m\u001b[0m\u001b[1;33m\u001b[0m\u001b[0m\n\u001b[0;32m     40\u001b[0m             \u001b[1;31m## Saving text in output_file_path\u001b[0m\u001b[1;33m\u001b[0m\u001b[1;33m\u001b[0m\u001b[0m\n",
            "\u001b[1;32m~\\anaconda3\\lib\\site-packages\\textract\\parsers\\__init__.py\u001b[0m in \u001b[0;36mprocess\u001b[1;34m(filename, input_encoding, output_encoding, extension, **kwargs)\u001b[0m\n\u001b[0;32m     77\u001b[0m \u001b[1;33m\u001b[0m\u001b[0m\n\u001b[0;32m     78\u001b[0m     \u001b[0mparser\u001b[0m \u001b[1;33m=\u001b[0m \u001b[0mfiletype_module\u001b[0m\u001b[1;33m.\u001b[0m\u001b[0mParser\u001b[0m\u001b[1;33m(\u001b[0m\u001b[1;33m)\u001b[0m\u001b[1;33m\u001b[0m\u001b[1;33m\u001b[0m\u001b[0m\n\u001b[1;32m---> 79\u001b[1;33m     \u001b[1;32mreturn\u001b[0m \u001b[0mparser\u001b[0m\u001b[1;33m.\u001b[0m\u001b[0mprocess\u001b[0m\u001b[1;33m(\u001b[0m\u001b[0mfilename\u001b[0m\u001b[1;33m,\u001b[0m \u001b[0minput_encoding\u001b[0m\u001b[1;33m,\u001b[0m \u001b[0moutput_encoding\u001b[0m\u001b[1;33m,\u001b[0m \u001b[1;33m**\u001b[0m\u001b[0mkwargs\u001b[0m\u001b[1;33m)\u001b[0m\u001b[1;33m\u001b[0m\u001b[1;33m\u001b[0m\u001b[0m\n\u001b[0m\u001b[0;32m     80\u001b[0m \u001b[1;33m\u001b[0m\u001b[0m\n\u001b[0;32m     81\u001b[0m \u001b[1;33m\u001b[0m\u001b[0m\n",
            "\u001b[1;32m~\\anaconda3\\lib\\site-packages\\textract\\parsers\\utils.py\u001b[0m in \u001b[0;36mprocess\u001b[1;34m(self, filename, input_encoding, output_encoding, **kwargs)\u001b[0m\n\u001b[0;32m     44\u001b[0m         \u001b[1;31m# output encoding\u001b[0m\u001b[1;33m\u001b[0m\u001b[1;33m\u001b[0m\u001b[0m\n\u001b[0;32m     45\u001b[0m         \u001b[1;31m# http://nedbatchelder.com/text/unipain/unipain.html#35\u001b[0m\u001b[1;33m\u001b[0m\u001b[1;33m\u001b[0m\u001b[0m\n\u001b[1;32m---> 46\u001b[1;33m         \u001b[0mbyte_string\u001b[0m \u001b[1;33m=\u001b[0m \u001b[0mself\u001b[0m\u001b[1;33m.\u001b[0m\u001b[0mextract\u001b[0m\u001b[1;33m(\u001b[0m\u001b[0mfilename\u001b[0m\u001b[1;33m,\u001b[0m \u001b[1;33m**\u001b[0m\u001b[0mkwargs\u001b[0m\u001b[1;33m)\u001b[0m\u001b[1;33m\u001b[0m\u001b[1;33m\u001b[0m\u001b[0m\n\u001b[0m\u001b[0;32m     47\u001b[0m         \u001b[0municode_string\u001b[0m \u001b[1;33m=\u001b[0m \u001b[0mself\u001b[0m\u001b[1;33m.\u001b[0m\u001b[0mdecode\u001b[0m\u001b[1;33m(\u001b[0m\u001b[0mbyte_string\u001b[0m\u001b[1;33m,\u001b[0m \u001b[0minput_encoding\u001b[0m\u001b[1;33m)\u001b[0m\u001b[1;33m\u001b[0m\u001b[1;33m\u001b[0m\u001b[0m\n\u001b[0;32m     48\u001b[0m         \u001b[1;32mreturn\u001b[0m \u001b[0mself\u001b[0m\u001b[1;33m.\u001b[0m\u001b[0mencode\u001b[0m\u001b[1;33m(\u001b[0m\u001b[0municode_string\u001b[0m\u001b[1;33m,\u001b[0m \u001b[0moutput_encoding\u001b[0m\u001b[1;33m)\u001b[0m\u001b[1;33m\u001b[0m\u001b[1;33m\u001b[0m\u001b[0m\n",
            "\u001b[1;32m~\\anaconda3\\lib\\site-packages\\textract\\parsers\\doc_parser.py\u001b[0m in \u001b[0;36mextract\u001b[1;34m(self, filename, **kwargs)\u001b[0m\n\u001b[0;32m      7\u001b[0m \u001b[1;33m\u001b[0m\u001b[0m\n\u001b[0;32m      8\u001b[0m     \u001b[1;32mdef\u001b[0m \u001b[0mextract\u001b[0m\u001b[1;33m(\u001b[0m\u001b[0mself\u001b[0m\u001b[1;33m,\u001b[0m \u001b[0mfilename\u001b[0m\u001b[1;33m,\u001b[0m \u001b[1;33m**\u001b[0m\u001b[0mkwargs\u001b[0m\u001b[1;33m)\u001b[0m\u001b[1;33m:\u001b[0m\u001b[1;33m\u001b[0m\u001b[1;33m\u001b[0m\u001b[0m\n\u001b[1;32m----> 9\u001b[1;33m         \u001b[0mstdout\u001b[0m\u001b[1;33m,\u001b[0m \u001b[0mstderr\u001b[0m \u001b[1;33m=\u001b[0m \u001b[0mself\u001b[0m\u001b[1;33m.\u001b[0m\u001b[0mrun\u001b[0m\u001b[1;33m(\u001b[0m\u001b[1;33m[\u001b[0m\u001b[1;34m'antiword'\u001b[0m\u001b[1;33m,\u001b[0m \u001b[0mfilename\u001b[0m\u001b[1;33m]\u001b[0m\u001b[1;33m)\u001b[0m\u001b[1;33m\u001b[0m\u001b[1;33m\u001b[0m\u001b[0m\n\u001b[0m\u001b[0;32m     10\u001b[0m         \u001b[1;32mreturn\u001b[0m \u001b[0mstdout\u001b[0m\u001b[1;33m\u001b[0m\u001b[1;33m\u001b[0m\u001b[0m\n",
            "\u001b[1;32m~\\anaconda3\\lib\\site-packages\\textract\\parsers\\utils.py\u001b[0m in \u001b[0;36mrun\u001b[1;34m(self, args)\u001b[0m\n\u001b[0;32m    104\u001b[0m         \u001b[1;31m# if pipe is busted, raise an error (unlike Fabric)\u001b[0m\u001b[1;33m\u001b[0m\u001b[1;33m\u001b[0m\u001b[0m\n\u001b[0;32m    105\u001b[0m         \u001b[1;32mif\u001b[0m \u001b[0mpipe\u001b[0m\u001b[1;33m.\u001b[0m\u001b[0mreturncode\u001b[0m \u001b[1;33m!=\u001b[0m \u001b[1;36m0\u001b[0m\u001b[1;33m:\u001b[0m\u001b[1;33m\u001b[0m\u001b[1;33m\u001b[0m\u001b[0m\n\u001b[1;32m--> 106\u001b[1;33m             raise exceptions.ShellError(\n\u001b[0m\u001b[0;32m    107\u001b[0m                 \u001b[1;34m' '\u001b[0m\u001b[1;33m.\u001b[0m\u001b[0mjoin\u001b[0m\u001b[1;33m(\u001b[0m\u001b[0margs\u001b[0m\u001b[1;33m)\u001b[0m\u001b[1;33m,\u001b[0m \u001b[0mpipe\u001b[0m\u001b[1;33m.\u001b[0m\u001b[0mreturncode\u001b[0m\u001b[1;33m,\u001b[0m \u001b[0mstdout\u001b[0m\u001b[1;33m,\u001b[0m \u001b[0mstderr\u001b[0m\u001b[1;33m,\u001b[0m\u001b[1;33m\u001b[0m\u001b[1;33m\u001b[0m\u001b[0m\n\u001b[0;32m    108\u001b[0m             )\n",
            "\u001b[1;31mShellError\u001b[0m: The command `antiword 1_input\\f1.doc` failed with exit code 1\n------------- stdout -------------\nb''------------- stderr -------------\nb'Traceback (most recent call last):\\r\\n  File \"C:\\\\Users\\\\RiyaGupta\\\\anaconda3\\\\lib\\\\runpy.py\", line 197, in _run_module_as_main\\r\\n    return _run_code(code, main_globals, None,\\r\\n  File \"C:\\\\Users\\\\RiyaGupta\\\\anaconda3\\\\lib\\\\runpy.py\", line 87, in _run_code\\r\\n    exec(code, run_globals)\\r\\n  File \"C:\\\\Users\\\\RiyaGupta\\\\anaconda3\\\\Scripts\\\\antiword.exe\\\\__main__.py\", line 7, in <module>\\r\\n  File \"C:\\\\Users\\\\RiyaGupta\\\\anaconda3\\\\lib\\\\site-packages\\\\antiword.py\", line 21, in main\\r\\n    r = run(cmd)\\r\\n  File \"C:\\\\Users\\\\RiyaGupta\\\\anaconda3\\\\lib\\\\subprocess.py\", line 505, in run\\r\\n    with Popen(*popenargs, **kwargs) as process:\\r\\n  File \"C:\\\\Users\\\\RiyaGupta\\\\anaconda3\\\\lib\\\\subprocess.py\", line 951, in __init__\\r\\n    self._execute_child(args, executable, preexec_fn, close_fds,\\r\\n  File \"C:\\\\Users\\\\RiyaGupta\\\\anaconda3\\\\lib\\\\subprocess.py\", line 1420, in _execute_child\\r\\n    hp, ht, pid, tid = _winapi.CreateProcess(executable, args,\\r\\nFileNotFoundError: [WinError 2] The system cannot find the file specified\\r\\n'"
          ]
        }
      ],
      "source": [
        "metadata_file_path = \"metadata.csv\"\n",
        "output_folder_path = \"2_output/\"\n",
        "extract_text_wrapper(metadata_file_path, output_folder_path)"
      ]
    }
  ],
  "metadata": {
    "kernelspec": {
      "display_name": "Python 3 (ipykernel)",
      "language": "python",
      "name": "python3"
    },
    "language_info": {
      "codemirror_mode": {
        "name": "ipython",
        "version": 3
      },
      "file_extension": ".py",
      "mimetype": "text/x-python",
      "name": "python",
      "nbconvert_exporter": "python",
      "pygments_lexer": "ipython3",
      "version": "3.9.13"
    },
    "colab": {
      "provenance": [],
      "include_colab_link": true
    }
  },
  "nbformat": 4,
  "nbformat_minor": 5
}