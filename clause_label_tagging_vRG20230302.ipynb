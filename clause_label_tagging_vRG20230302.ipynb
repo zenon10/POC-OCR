{
  "nbformat": 4,
  "nbformat_minor": 0,
  "metadata": {
    "colab": {
      "provenance": [],
      "authorship_tag": "ABX9TyNPXqgZ6eEJ4U5C0FMobaMI",
      "include_colab_link": true
    },
    "kernelspec": {
      "name": "python3",
      "display_name": "Python 3"
    },
    "language_info": {
      "name": "python"
    }
  },
  "cells": [
    {
      "cell_type": "markdown",
      "metadata": {
        "id": "view-in-github",
        "colab_type": "text"
      },
      "source": [
        "<a href=\"https://colab.research.google.com/github/zenon10/POC-OCR/blob/main/clause_label_tagging_vRG20230302.ipynb\" target=\"_parent\"><img src=\"https://colab.research.google.com/assets/colab-badge.svg\" alt=\"Open In Colab\"/></a>"
      ]
    },
    {
      "cell_type": "code",
      "source": [
        "import pandas as pd \n",
        "from unidecode import unidecode\n",
        "\n",
        "def excel_keyword_parser( keyword_excel):\n",
        "    '''\n",
        "    Make dict for all keywords with respected clause label\n",
        "    input : keyword excel\n",
        "    output : return dict\n",
        "    '''\n",
        "    df = pd.read_excel(keyword_excel,sheet_name = 'Clauses')\n",
        "    df_fr = df[['Clause Type in English','Keywords in Native Language']].copy()\n",
        "    df_fr.iloc[:,1] = df_fr.iloc[:,1].str.replace(';',',').replace(['\"','-'],' ',regex= True).str.split(',')\n",
        "    clause_kw_dict = dict(list(zip(df_fr.iloc[:,0],df_fr.iloc[:,1])))\n",
        "    return clause_kw_dict"
      ],
      "metadata": {
        "id": "pUijB-YMKsbp"
      },
      "execution_count": null,
      "outputs": []
    },
    {
      "cell_type": "code",
      "execution_count": null,
      "metadata": {
        "id": "_f-1NBesKhe8"
      },
      "outputs": [],
      "source": [
        "#for matching 1 word\n",
        "def match_word(word,clause):\n",
        "    '''\n",
        "    Match word with clause\n",
        "    input : word from list of keyword and clause\n",
        "    output : flag if keyword match\n",
        "    '''\n",
        "    count = 0\n",
        "    if '&' in word:\n",
        "        words = word.split('&')\n",
        "        for j in words: \n",
        "            if clause.__contains__(j):\n",
        "                count = count + 1\n",
        "        flag = word if count == len(words) else None\n",
        "    else:\n",
        "        flag = word if clause.__contains__(word) else None\n",
        "    return flag\n",
        "\n",
        "\n",
        "#Matching a keywords list from clause \n",
        "def match_keyword_to_clause(keyword_list,clause):\n",
        "    '''\n",
        "    Match list of keywords with clause\n",
        "    input : list of keyword and clause\n",
        "    output : return sum of keyword present\n",
        "    '''\n",
        "    keyword = [unidecode(j.strip().lower()) for j in keyword_list]\n",
        "    clause = unidecode(clause.lower().replace('-',' '))\n",
        "    clause = unidecode(clause.lower().replace('\\n',' '))\n",
        "    cleaned_clause = ' '.join(clause.splitlines())\n",
        "    key_match = []\n",
        "    for i in keyword:\n",
        "        key_match.append(matchv(i,cleaned_clause))\n",
        "    match_key = list(filter(None.__ne__, key_match))\n",
        "    return match_key\n",
        "\n",
        "def para_clause_tagging(clause, clause_kw_dict):\n",
        "    '''\n",
        "    Match clause with keyword\n",
        "    input : clause and dict of keyword\n",
        "    output : return clause label with max keyword\n",
        "    '''\n",
        "    d = dict((k, match_keyword_to_clause(v,clause)) for k, v in clause_kw_dict.items())\n",
        "    max_length = 0\n",
        "    max_key_value = None\n",
        "\n",
        "    for key, value in d.items():\n",
        "        if isinstance(value, list) and len(value) > max_length:\n",
        "            max_length = len(value)\n",
        "            max_key_value = (key, value)\n",
        "\n",
        "    return max_key_value     "
      ]
    },
    {
      "cell_type": "code",
      "source": [
        "def get_clause_type(excel_file,clause_kw_dict):\n",
        "    df1 = pd.read_excel(excel_file)\n",
        "    df1['section_id'].fillna('s0',inplace=True)\n",
        "\n",
        "    #gives paragraph level clause type\n",
        "    df1['para_level_clause_type'] = df1.iloc[:,1].apply(lambda x: para_clause_tagging(str(x),clause_kw_dict)[0] if para_clause_tagging(str(x),clause_kw_dict) is not None else None)\n",
        "    df1['para_level_clause_type_keyword'] = df1.iloc[:,1].apply(lambda x: para_clause_tagging(str(x),clause_kw_dict)[1] if para_clause_tagging(str(x),clause_kw_dict) is not None else None)\n",
        "\n",
        "    #combine text with identical section id\n",
        "    sec1 = df1.groupby('section_id')['paragraph'].apply(lambda x: (' '.join(x))).reset_index()\n",
        " \n",
        "    sec1['section_level_clause_type'] = sec1['paragraph'].apply(lambda x: para_clause_tagging(x,clause_kw_dict)[0] if para_clause_tagging(x,clause_kw_dict) is not None else None)\n",
        "    sec1['section_level_clause_type_keyword'] = sec1['paragraph'].apply(lambda x: para_clause_tagging(x,clause_kw_dict)[1] if para_clause_tagging(x,clause_kw_dict) is not None else None)\n",
        "    df_sec = pd.merge(df1,sec1.drop('paragraph', axis =1),on =['section_id'],how ='outer') \n",
        "\n",
        "    df_sec.to_excel(\"clause_with_label1.xlsx\")\n",
        "    return df_sec"
      ],
      "metadata": {
        "id": "XMUE5ER0Kw-x"
      },
      "execution_count": null,
      "outputs": []
    },
    {
      "cell_type": "code",
      "source": [
        "clause_kw_dict = excel_keyword_parser(\"J&J sample excel\\Clause Management_Deep Dive France_Mapping Document.xlsx\")"
      ],
      "metadata": {
        "id": "up5-c83UK2Wn"
      },
      "execution_count": null,
      "outputs": []
    },
    {
      "cell_type": "code",
      "source": [
        "ab = get_clause_type('s04_cctp_montpellier v2_ocr1.xlsx',clause_kw_dict)\n",
        "ab.head(15)"
      ],
      "metadata": {
        "id": "9LTr9zziK3Q2"
      },
      "execution_count": null,
      "outputs": []
    }
  ]
}