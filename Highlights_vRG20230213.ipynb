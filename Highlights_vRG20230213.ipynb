{
  "cells": [
    {
      "cell_type": "markdown",
      "metadata": {
        "id": "view-in-github",
        "colab_type": "text"
      },
      "source": [
        "<a href=\"https://colab.research.google.com/github/zenon10/POC-OCR/blob/main/Highlights_vRG20230213.ipynb\" target=\"_parent\"><img src=\"https://colab.research.google.com/assets/colab-badge.svg\" alt=\"Open In Colab\"/></a>"
      ]
    },
    {
      "cell_type": "code",
      "execution_count": null,
      "id": "661b2121",
      "metadata": {
        "id": "661b2121",
        "outputId": "44bad91d-313e-4f3d-8032-03a4838fd19c"
      },
      "outputs": [
        {
          "name": "stdout",
          "output_type": "stream",
          "text": [
            "^C\n",
            "^C\n"
          ]
        }
      ],
      "source": [
        "!pip install opencv-python"
      ]
    },
    {
      "cell_type": "code",
      "execution_count": null,
      "id": "74bb61bb-f125-4061-b944-ba75a3960de7",
      "metadata": {
        "id": "74bb61bb-f125-4061-b944-ba75a3960de7"
      },
      "outputs": [],
      "source": [
        "# Library to work with Operating System\n",
        "import os\n",
        "import glob\n",
        "import pandas as pd\n",
        "from PIL import Image\n",
        "import pytesseract\n",
        "import shutil\n",
        "import textract\n",
        "import random\n",
        "from statistics import mean\n",
        "from PIL import Image\n",
        " \n",
        "\n",
        "\n",
        "# Library to create PDF, inspection, manupulation and rendering(turning into images)\n",
        "import pypdfium2 as pdfium\n",
        "\n",
        "# If you don't have tesseract executable in your PATH, include the following:\n",
        "pytesseract.pytesseract.tesseract_cmd = r'C:\\Users\\RiyaGupta\\AppData\\Local\\Programs\\Tesseract-OCR\\tesseract.exe'"
      ]
    },
    {
      "cell_type": "code",
      "execution_count": null,
      "id": "c85b88bb",
      "metadata": {
        "id": "c85b88bb"
      },
      "outputs": [],
      "source": [
        "def pdf_to_img(input_file_path, output_folder_path):\n",
        "    \n",
        "    if not os.path.exists(output_folder_path):\n",
        "        os.makedirs(output_folder_path)\n",
        "\n",
        "    input_file_name = os.path.split(input_file_path)[-1].replace('.pdf','')    \n",
        "    print('Extracting text from {}'.format(input_file_name))\n",
        "    \n",
        "    # PdfDocument (supports file path strings, bytes, and byte buffers)\n",
        "    pdf_info = pdfium.PdfDocument(input_file_path)\n",
        "    \n",
        "    # get the number of pages in the document\n",
        "    n_pages = len(pdf_info)\n",
        "    print(n_pages)\n",
        "    \n",
        "    page_indices = [i for i in range(n_pages)]\n",
        "    \n",
        "    # Render multiple pages concurrently(converting into images).\n",
        "    # A bitmap is a type of memory organization or image file format used to store digital images.\n",
        "    # PIL python imaging Library and it's the original library that enabled Python to deal with images.\n",
        "    # Scale is the resolution of the image.\n",
        "    \n",
        "    renderer = pdf_info.render_to(pdfium.BitmapConv.pil_image, page_indices = page_indices, scale = 300/72)\n",
        "\n",
        "    page_number = 1\n",
        "    for images in renderer:\n",
        "#         print(images.show())\n",
        "\n",
        "        images.save(output_folder_path + \"/\" + str(page_number)  + '.jpeg')\n",
        "        page_number +=1"
      ]
    },
    {
      "cell_type": "code",
      "execution_count": null,
      "id": "7c5423ed",
      "metadata": {
        "id": "7c5423ed",
        "outputId": "2cd64f93-d5e5-417c-d56d-153ac6cee6b4"
      },
      "outputs": [
        {
          "name": "stdout",
          "output_type": "stream",
          "text": [
            "Extracting text from S23_NIMES_RC AO2023\n",
            "15\n"
          ]
        }
      ],
      "source": [
        "# paths for function(pdf to img)\n",
        "input_file_path = \"data/french/S23_NIMES_RC AO2023.pdf\"\n",
        "output_folder_path =\"images/S23_NIMES_RC AO2023\"\n",
        "\n",
        "## calling the function\n",
        "pdf_to_img(input_file_path, output_folder_path)"
      ]
    },
    {
      "cell_type": "code",
      "execution_count": null,
      "id": "40b25ce9",
      "metadata": {
        "id": "40b25ce9",
        "outputId": "ae479bbd-ba78-475e-9bc3-027cb2d84a7c"
      },
      "outputs": [
        {
          "name": "stdout",
          "output_type": "stream",
          "text": [
            "Extracting text from S03_RC_NIMES\n",
            "11\n"
          ]
        }
      ],
      "source": [
        "# paths for function(pdf to img)\n",
        "input_file_path = \"data/french/S03_RC_NIMES.pdf\"\n",
        "output_folder_path =\"images/S03_RC_NIMES\"\n",
        "\n",
        "## calling the function\n",
        "pdf_to_img(input_file_path, output_folder_path)"
      ]
    },
    {
      "cell_type": "code",
      "execution_count": null,
      "id": "83b5614f-4f9f-44c8-bab4-407f0cdb4c5a",
      "metadata": {
        "id": "83b5614f-4f9f-44c8-bab4-407f0cdb4c5a"
      },
      "outputs": [],
      "source": [
        "path = \"images/S23_NIMES_RC AO2023/8.jpeg\"\n",
        "import cv2\n",
        "# read the input RGB image as BGR format\n",
        "bgr_img = cv2.imread(path)\n",
        "\n",
        "# Convert the BGR image to HSV Image\n",
        "hsv_img = cv2.cvtColor(bgr_img, cv2.COLOR_BGR2HSV)\n",
        "gray_image = cv2.cvtColor(hsv_img, cv2.COLOR_BGR2GRAY)\n",
        "text = pytesseract.image_to_string(gray_image, lang='fra',config = '--psm 6')\n",
        "file_object2 = open(\"t1.txt\", 'w', encoding=\"utf8\")\n",
        "file_object2.write(text)\n",
        "file_object2.close()\n"
      ]
    },
    {
      "cell_type": "code",
      "execution_count": null,
      "id": "8b8c8a29",
      "metadata": {
        "id": "8b8c8a29"
      },
      "outputs": [],
      "source": [
        "path =\"images/S03_RC_NIMES/4.jpeg\"\n",
        "import cv2\n",
        "# read the input RGB image as BGR format\n",
        "bgr_img = cv2.imread(path)\n",
        "\n",
        "# Convert the BGR image to HSV Image\n",
        "hsv_img = cv2.cvtColor(bgr_img, cv2.COLOR_BGR2HSV)\n",
        "gray_image = cv2.cvtColor(hsv_img, cv2.COLOR_BGR2GRAY)\n",
        "text = pytesseract.image_to_string(gray_image, lang='fra',config = '--psm 6')\n",
        "file_object2 = open(\"t2.txt\", 'w', encoding=\"utf8\")\n",
        "file_object2.write(text)\n",
        "file_object2.close()"
      ]
    }
  ],
  "metadata": {
    "colab": {
      "provenance": [],
      "include_colab_link": true
    },
    "kernelspec": {
      "display_name": "Python 3 (ipykernel)",
      "language": "python",
      "name": "python3"
    },
    "language_info": {
      "codemirror_mode": {
        "name": "ipython",
        "version": 3
      },
      "file_extension": ".py",
      "mimetype": "text/x-python",
      "name": "python",
      "nbconvert_exporter": "python",
      "pygments_lexer": "ipython3",
      "version": "3.9.13"
    }
  },
  "nbformat": 4,
  "nbformat_minor": 5
}