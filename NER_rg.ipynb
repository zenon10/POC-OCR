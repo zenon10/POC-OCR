{
  "nbformat": 4,
  "nbformat_minor": 0,
  "metadata": {
    "colab": {
      "provenance": [],
      "collapsed_sections": [
        "aqtAVlPgs_Vz"
      ],
      "authorship_tag": "ABX9TyPhQT/x0vtzAunGhSHHUkr7",
      "include_colab_link": true
    },
    "kernelspec": {
      "name": "python3",
      "display_name": "Python 3"
    },
    "language_info": {
      "name": "python"
    },
    "widgets": {
      "application/vnd.jupyter.widget-state+json": {
        "34fe574ba828439ab034c1aa6511a1b4": {
          "model_module": "@jupyter-widgets/controls",
          "model_name": "HBoxModel",
          "model_module_version": "1.5.0",
          "state": {
            "_dom_classes": [],
            "_model_module": "@jupyter-widgets/controls",
            "_model_module_version": "1.5.0",
            "_model_name": "HBoxModel",
            "_view_count": null,
            "_view_module": "@jupyter-widgets/controls",
            "_view_module_version": "1.5.0",
            "_view_name": "HBoxView",
            "box_style": "",
            "children": [
              "IPY_MODEL_0553c59f6539433c8ba01f5fda7d42c4",
              "IPY_MODEL_a19d9d46d1e3401eb8fac4799894d63f",
              "IPY_MODEL_b4fbf700a88a4cc08fc5e81cc0e47246"
            ],
            "layout": "IPY_MODEL_25b47dbe583545f780ac5c07e500611d"
          }
        },
        "0553c59f6539433c8ba01f5fda7d42c4": {
          "model_module": "@jupyter-widgets/controls",
          "model_name": "HTMLModel",
          "model_module_version": "1.5.0",
          "state": {
            "_dom_classes": [],
            "_model_module": "@jupyter-widgets/controls",
            "_model_module_version": "1.5.0",
            "_model_name": "HTMLModel",
            "_view_count": null,
            "_view_module": "@jupyter-widgets/controls",
            "_view_module_version": "1.5.0",
            "_view_name": "HTMLView",
            "description": "",
            "description_tooltip": null,
            "layout": "IPY_MODEL_e60376da711a4c7d83e67f3680bee6ad",
            "placeholder": "​",
            "style": "IPY_MODEL_bba691bc366e4ceabfd75eabc6278569",
            "value": "100%"
          }
        },
        "a19d9d46d1e3401eb8fac4799894d63f": {
          "model_module": "@jupyter-widgets/controls",
          "model_name": "FloatProgressModel",
          "model_module_version": "1.5.0",
          "state": {
            "_dom_classes": [],
            "_model_module": "@jupyter-widgets/controls",
            "_model_module_version": "1.5.0",
            "_model_name": "FloatProgressModel",
            "_view_count": null,
            "_view_module": "@jupyter-widgets/controls",
            "_view_module_version": "1.5.0",
            "_view_name": "ProgressView",
            "bar_style": "success",
            "description": "",
            "description_tooltip": null,
            "layout": "IPY_MODEL_e761ebaf99ee4da9ac869ef6209e66c3",
            "max": 3,
            "min": 0,
            "orientation": "horizontal",
            "style": "IPY_MODEL_32580232b6eb4e53825af14ff57ffc0b",
            "value": 3
          }
        },
        "b4fbf700a88a4cc08fc5e81cc0e47246": {
          "model_module": "@jupyter-widgets/controls",
          "model_name": "HTMLModel",
          "model_module_version": "1.5.0",
          "state": {
            "_dom_classes": [],
            "_model_module": "@jupyter-widgets/controls",
            "_model_module_version": "1.5.0",
            "_model_name": "HTMLModel",
            "_view_count": null,
            "_view_module": "@jupyter-widgets/controls",
            "_view_module_version": "1.5.0",
            "_view_name": "HTMLView",
            "description": "",
            "description_tooltip": null,
            "layout": "IPY_MODEL_1b22adc1343648eaa234163c29f001f0",
            "placeholder": "​",
            "style": "IPY_MODEL_e0336f4e96fe4adf85efbccdf5695752",
            "value": " 3/3 [00:00&lt;00:00, 62.15it/s]"
          }
        },
        "25b47dbe583545f780ac5c07e500611d": {
          "model_module": "@jupyter-widgets/base",
          "model_name": "LayoutModel",
          "model_module_version": "1.2.0",
          "state": {
            "_model_module": "@jupyter-widgets/base",
            "_model_module_version": "1.2.0",
            "_model_name": "LayoutModel",
            "_view_count": null,
            "_view_module": "@jupyter-widgets/base",
            "_view_module_version": "1.2.0",
            "_view_name": "LayoutView",
            "align_content": null,
            "align_items": null,
            "align_self": null,
            "border": null,
            "bottom": null,
            "display": null,
            "flex": null,
            "flex_flow": null,
            "grid_area": null,
            "grid_auto_columns": null,
            "grid_auto_flow": null,
            "grid_auto_rows": null,
            "grid_column": null,
            "grid_gap": null,
            "grid_row": null,
            "grid_template_areas": null,
            "grid_template_columns": null,
            "grid_template_rows": null,
            "height": null,
            "justify_content": null,
            "justify_items": null,
            "left": null,
            "margin": null,
            "max_height": null,
            "max_width": null,
            "min_height": null,
            "min_width": null,
            "object_fit": null,
            "object_position": null,
            "order": null,
            "overflow": null,
            "overflow_x": null,
            "overflow_y": null,
            "padding": null,
            "right": null,
            "top": null,
            "visibility": null,
            "width": null
          }
        },
        "e60376da711a4c7d83e67f3680bee6ad": {
          "model_module": "@jupyter-widgets/base",
          "model_name": "LayoutModel",
          "model_module_version": "1.2.0",
          "state": {
            "_model_module": "@jupyter-widgets/base",
            "_model_module_version": "1.2.0",
            "_model_name": "LayoutModel",
            "_view_count": null,
            "_view_module": "@jupyter-widgets/base",
            "_view_module_version": "1.2.0",
            "_view_name": "LayoutView",
            "align_content": null,
            "align_items": null,
            "align_self": null,
            "border": null,
            "bottom": null,
            "display": null,
            "flex": null,
            "flex_flow": null,
            "grid_area": null,
            "grid_auto_columns": null,
            "grid_auto_flow": null,
            "grid_auto_rows": null,
            "grid_column": null,
            "grid_gap": null,
            "grid_row": null,
            "grid_template_areas": null,
            "grid_template_columns": null,
            "grid_template_rows": null,
            "height": null,
            "justify_content": null,
            "justify_items": null,
            "left": null,
            "margin": null,
            "max_height": null,
            "max_width": null,
            "min_height": null,
            "min_width": null,
            "object_fit": null,
            "object_position": null,
            "order": null,
            "overflow": null,
            "overflow_x": null,
            "overflow_y": null,
            "padding": null,
            "right": null,
            "top": null,
            "visibility": null,
            "width": null
          }
        },
        "bba691bc366e4ceabfd75eabc6278569": {
          "model_module": "@jupyter-widgets/controls",
          "model_name": "DescriptionStyleModel",
          "model_module_version": "1.5.0",
          "state": {
            "_model_module": "@jupyter-widgets/controls",
            "_model_module_version": "1.5.0",
            "_model_name": "DescriptionStyleModel",
            "_view_count": null,
            "_view_module": "@jupyter-widgets/base",
            "_view_module_version": "1.2.0",
            "_view_name": "StyleView",
            "description_width": ""
          }
        },
        "e761ebaf99ee4da9ac869ef6209e66c3": {
          "model_module": "@jupyter-widgets/base",
          "model_name": "LayoutModel",
          "model_module_version": "1.2.0",
          "state": {
            "_model_module": "@jupyter-widgets/base",
            "_model_module_version": "1.2.0",
            "_model_name": "LayoutModel",
            "_view_count": null,
            "_view_module": "@jupyter-widgets/base",
            "_view_module_version": "1.2.0",
            "_view_name": "LayoutView",
            "align_content": null,
            "align_items": null,
            "align_self": null,
            "border": null,
            "bottom": null,
            "display": null,
            "flex": null,
            "flex_flow": null,
            "grid_area": null,
            "grid_auto_columns": null,
            "grid_auto_flow": null,
            "grid_auto_rows": null,
            "grid_column": null,
            "grid_gap": null,
            "grid_row": null,
            "grid_template_areas": null,
            "grid_template_columns": null,
            "grid_template_rows": null,
            "height": null,
            "justify_content": null,
            "justify_items": null,
            "left": null,
            "margin": null,
            "max_height": null,
            "max_width": null,
            "min_height": null,
            "min_width": null,
            "object_fit": null,
            "object_position": null,
            "order": null,
            "overflow": null,
            "overflow_x": null,
            "overflow_y": null,
            "padding": null,
            "right": null,
            "top": null,
            "visibility": null,
            "width": null
          }
        },
        "32580232b6eb4e53825af14ff57ffc0b": {
          "model_module": "@jupyter-widgets/controls",
          "model_name": "ProgressStyleModel",
          "model_module_version": "1.5.0",
          "state": {
            "_model_module": "@jupyter-widgets/controls",
            "_model_module_version": "1.5.0",
            "_model_name": "ProgressStyleModel",
            "_view_count": null,
            "_view_module": "@jupyter-widgets/base",
            "_view_module_version": "1.2.0",
            "_view_name": "StyleView",
            "bar_color": null,
            "description_width": ""
          }
        },
        "1b22adc1343648eaa234163c29f001f0": {
          "model_module": "@jupyter-widgets/base",
          "model_name": "LayoutModel",
          "model_module_version": "1.2.0",
          "state": {
            "_model_module": "@jupyter-widgets/base",
            "_model_module_version": "1.2.0",
            "_model_name": "LayoutModel",
            "_view_count": null,
            "_view_module": "@jupyter-widgets/base",
            "_view_module_version": "1.2.0",
            "_view_name": "LayoutView",
            "align_content": null,
            "align_items": null,
            "align_self": null,
            "border": null,
            "bottom": null,
            "display": null,
            "flex": null,
            "flex_flow": null,
            "grid_area": null,
            "grid_auto_columns": null,
            "grid_auto_flow": null,
            "grid_auto_rows": null,
            "grid_column": null,
            "grid_gap": null,
            "grid_row": null,
            "grid_template_areas": null,
            "grid_template_columns": null,
            "grid_template_rows": null,
            "height": null,
            "justify_content": null,
            "justify_items": null,
            "left": null,
            "margin": null,
            "max_height": null,
            "max_width": null,
            "min_height": null,
            "min_width": null,
            "object_fit": null,
            "object_position": null,
            "order": null,
            "overflow": null,
            "overflow_x": null,
            "overflow_y": null,
            "padding": null,
            "right": null,
            "top": null,
            "visibility": null,
            "width": null
          }
        },
        "e0336f4e96fe4adf85efbccdf5695752": {
          "model_module": "@jupyter-widgets/controls",
          "model_name": "DescriptionStyleModel",
          "model_module_version": "1.5.0",
          "state": {
            "_model_module": "@jupyter-widgets/controls",
            "_model_module_version": "1.5.0",
            "_model_name": "DescriptionStyleModel",
            "_view_count": null,
            "_view_module": "@jupyter-widgets/base",
            "_view_module_version": "1.2.0",
            "_view_name": "StyleView",
            "description_width": ""
          }
        },
        "445184c44e8744d79bf15bfddca7c00e": {
          "model_module": "@jupyter-widgets/controls",
          "model_name": "HBoxModel",
          "model_module_version": "1.5.0",
          "state": {
            "_dom_classes": [],
            "_model_module": "@jupyter-widgets/controls",
            "_model_module_version": "1.5.0",
            "_model_name": "HBoxModel",
            "_view_count": null,
            "_view_module": "@jupyter-widgets/controls",
            "_view_module_version": "1.5.0",
            "_view_name": "HBoxView",
            "box_style": "",
            "children": [
              "IPY_MODEL_3b97b17c54df431783d8754c0d29596e",
              "IPY_MODEL_955e8e58835841558a18cfd45ec9b4d4",
              "IPY_MODEL_6c4833d266664c37b45815c612dcff66"
            ],
            "layout": "IPY_MODEL_78900c81be814018bfd6b029b9cdb5c2"
          }
        },
        "3b97b17c54df431783d8754c0d29596e": {
          "model_module": "@jupyter-widgets/controls",
          "model_name": "HTMLModel",
          "model_module_version": "1.5.0",
          "state": {
            "_dom_classes": [],
            "_model_module": "@jupyter-widgets/controls",
            "_model_module_version": "1.5.0",
            "_model_name": "HTMLModel",
            "_view_count": null,
            "_view_module": "@jupyter-widgets/controls",
            "_view_module_version": "1.5.0",
            "_view_name": "HTMLView",
            "description": "",
            "description_tooltip": null,
            "layout": "IPY_MODEL_4d78c19022124c3fbab2a37fe8d7b6f7",
            "placeholder": "​",
            "style": "IPY_MODEL_3cf3b7e12b694bf29099f0fe2a98cf00",
            "value": "Downloading (…)&quot;pytorch_model.bin&quot;;: 100%"
          }
        },
        "955e8e58835841558a18cfd45ec9b4d4": {
          "model_module": "@jupyter-widgets/controls",
          "model_name": "FloatProgressModel",
          "model_module_version": "1.5.0",
          "state": {
            "_dom_classes": [],
            "_model_module": "@jupyter-widgets/controls",
            "_model_module_version": "1.5.0",
            "_model_name": "FloatProgressModel",
            "_view_count": null,
            "_view_module": "@jupyter-widgets/controls",
            "_view_module_version": "1.5.0",
            "_view_name": "ProgressView",
            "bar_style": "success",
            "description": "",
            "description_tooltip": null,
            "layout": "IPY_MODEL_a425bb2139564133bea7133041936323",
            "max": 714314041,
            "min": 0,
            "orientation": "horizontal",
            "style": "IPY_MODEL_68fd3ac204344aca8f8db1ee882995f4",
            "value": 714314041
          }
        },
        "6c4833d266664c37b45815c612dcff66": {
          "model_module": "@jupyter-widgets/controls",
          "model_name": "HTMLModel",
          "model_module_version": "1.5.0",
          "state": {
            "_dom_classes": [],
            "_model_module": "@jupyter-widgets/controls",
            "_model_module_version": "1.5.0",
            "_model_name": "HTMLModel",
            "_view_count": null,
            "_view_module": "@jupyter-widgets/controls",
            "_view_module_version": "1.5.0",
            "_view_name": "HTMLView",
            "description": "",
            "description_tooltip": null,
            "layout": "IPY_MODEL_600f55f4cab240b5854d7dcfb4d937fb",
            "placeholder": "​",
            "style": "IPY_MODEL_b245c706398d4b4381a73f8dc21b54d7",
            "value": " 714M/714M [00:09&lt;00:00, 67.2MB/s]"
          }
        },
        "78900c81be814018bfd6b029b9cdb5c2": {
          "model_module": "@jupyter-widgets/base",
          "model_name": "LayoutModel",
          "model_module_version": "1.2.0",
          "state": {
            "_model_module": "@jupyter-widgets/base",
            "_model_module_version": "1.2.0",
            "_model_name": "LayoutModel",
            "_view_count": null,
            "_view_module": "@jupyter-widgets/base",
            "_view_module_version": "1.2.0",
            "_view_name": "LayoutView",
            "align_content": null,
            "align_items": null,
            "align_self": null,
            "border": null,
            "bottom": null,
            "display": null,
            "flex": null,
            "flex_flow": null,
            "grid_area": null,
            "grid_auto_columns": null,
            "grid_auto_flow": null,
            "grid_auto_rows": null,
            "grid_column": null,
            "grid_gap": null,
            "grid_row": null,
            "grid_template_areas": null,
            "grid_template_columns": null,
            "grid_template_rows": null,
            "height": null,
            "justify_content": null,
            "justify_items": null,
            "left": null,
            "margin": null,
            "max_height": null,
            "max_width": null,
            "min_height": null,
            "min_width": null,
            "object_fit": null,
            "object_position": null,
            "order": null,
            "overflow": null,
            "overflow_x": null,
            "overflow_y": null,
            "padding": null,
            "right": null,
            "top": null,
            "visibility": null,
            "width": null
          }
        },
        "4d78c19022124c3fbab2a37fe8d7b6f7": {
          "model_module": "@jupyter-widgets/base",
          "model_name": "LayoutModel",
          "model_module_version": "1.2.0",
          "state": {
            "_model_module": "@jupyter-widgets/base",
            "_model_module_version": "1.2.0",
            "_model_name": "LayoutModel",
            "_view_count": null,
            "_view_module": "@jupyter-widgets/base",
            "_view_module_version": "1.2.0",
            "_view_name": "LayoutView",
            "align_content": null,
            "align_items": null,
            "align_self": null,
            "border": null,
            "bottom": null,
            "display": null,
            "flex": null,
            "flex_flow": null,
            "grid_area": null,
            "grid_auto_columns": null,
            "grid_auto_flow": null,
            "grid_auto_rows": null,
            "grid_column": null,
            "grid_gap": null,
            "grid_row": null,
            "grid_template_areas": null,
            "grid_template_columns": null,
            "grid_template_rows": null,
            "height": null,
            "justify_content": null,
            "justify_items": null,
            "left": null,
            "margin": null,
            "max_height": null,
            "max_width": null,
            "min_height": null,
            "min_width": null,
            "object_fit": null,
            "object_position": null,
            "order": null,
            "overflow": null,
            "overflow_x": null,
            "overflow_y": null,
            "padding": null,
            "right": null,
            "top": null,
            "visibility": null,
            "width": null
          }
        },
        "3cf3b7e12b694bf29099f0fe2a98cf00": {
          "model_module": "@jupyter-widgets/controls",
          "model_name": "DescriptionStyleModel",
          "model_module_version": "1.5.0",
          "state": {
            "_model_module": "@jupyter-widgets/controls",
            "_model_module_version": "1.5.0",
            "_model_name": "DescriptionStyleModel",
            "_view_count": null,
            "_view_module": "@jupyter-widgets/base",
            "_view_module_version": "1.2.0",
            "_view_name": "StyleView",
            "description_width": ""
          }
        },
        "a425bb2139564133bea7133041936323": {
          "model_module": "@jupyter-widgets/base",
          "model_name": "LayoutModel",
          "model_module_version": "1.2.0",
          "state": {
            "_model_module": "@jupyter-widgets/base",
            "_model_module_version": "1.2.0",
            "_model_name": "LayoutModel",
            "_view_count": null,
            "_view_module": "@jupyter-widgets/base",
            "_view_module_version": "1.2.0",
            "_view_name": "LayoutView",
            "align_content": null,
            "align_items": null,
            "align_self": null,
            "border": null,
            "bottom": null,
            "display": null,
            "flex": null,
            "flex_flow": null,
            "grid_area": null,
            "grid_auto_columns": null,
            "grid_auto_flow": null,
            "grid_auto_rows": null,
            "grid_column": null,
            "grid_gap": null,
            "grid_row": null,
            "grid_template_areas": null,
            "grid_template_columns": null,
            "grid_template_rows": null,
            "height": null,
            "justify_content": null,
            "justify_items": null,
            "left": null,
            "margin": null,
            "max_height": null,
            "max_width": null,
            "min_height": null,
            "min_width": null,
            "object_fit": null,
            "object_position": null,
            "order": null,
            "overflow": null,
            "overflow_x": null,
            "overflow_y": null,
            "padding": null,
            "right": null,
            "top": null,
            "visibility": null,
            "width": null
          }
        },
        "68fd3ac204344aca8f8db1ee882995f4": {
          "model_module": "@jupyter-widgets/controls",
          "model_name": "ProgressStyleModel",
          "model_module_version": "1.5.0",
          "state": {
            "_model_module": "@jupyter-widgets/controls",
            "_model_module_version": "1.5.0",
            "_model_name": "ProgressStyleModel",
            "_view_count": null,
            "_view_module": "@jupyter-widgets/base",
            "_view_module_version": "1.2.0",
            "_view_name": "StyleView",
            "bar_color": null,
            "description_width": ""
          }
        },
        "600f55f4cab240b5854d7dcfb4d937fb": {
          "model_module": "@jupyter-widgets/base",
          "model_name": "LayoutModel",
          "model_module_version": "1.2.0",
          "state": {
            "_model_module": "@jupyter-widgets/base",
            "_model_module_version": "1.2.0",
            "_model_name": "LayoutModel",
            "_view_count": null,
            "_view_module": "@jupyter-widgets/base",
            "_view_module_version": "1.2.0",
            "_view_name": "LayoutView",
            "align_content": null,
            "align_items": null,
            "align_self": null,
            "border": null,
            "bottom": null,
            "display": null,
            "flex": null,
            "flex_flow": null,
            "grid_area": null,
            "grid_auto_columns": null,
            "grid_auto_flow": null,
            "grid_auto_rows": null,
            "grid_column": null,
            "grid_gap": null,
            "grid_row": null,
            "grid_template_areas": null,
            "grid_template_columns": null,
            "grid_template_rows": null,
            "height": null,
            "justify_content": null,
            "justify_items": null,
            "left": null,
            "margin": null,
            "max_height": null,
            "max_width": null,
            "min_height": null,
            "min_width": null,
            "object_fit": null,
            "object_position": null,
            "order": null,
            "overflow": null,
            "overflow_x": null,
            "overflow_y": null,
            "padding": null,
            "right": null,
            "top": null,
            "visibility": null,
            "width": null
          }
        },
        "b245c706398d4b4381a73f8dc21b54d7": {
          "model_module": "@jupyter-widgets/controls",
          "model_name": "DescriptionStyleModel",
          "model_module_version": "1.5.0",
          "state": {
            "_model_module": "@jupyter-widgets/controls",
            "_model_module_version": "1.5.0",
            "_model_name": "DescriptionStyleModel",
            "_view_count": null,
            "_view_module": "@jupyter-widgets/base",
            "_view_module_version": "1.2.0",
            "_view_name": "StyleView",
            "description_width": ""
          }
        },
        "e1d52ecc7dd543d5be96c7f54ff8878e": {
          "model_module": "@jupyter-widgets/controls",
          "model_name": "VBoxModel",
          "model_module_version": "1.5.0",
          "state": {
            "_dom_classes": [],
            "_model_module": "@jupyter-widgets/controls",
            "_model_module_version": "1.5.0",
            "_model_name": "VBoxModel",
            "_view_count": null,
            "_view_module": "@jupyter-widgets/controls",
            "_view_module_version": "1.5.0",
            "_view_name": "VBoxView",
            "box_style": "",
            "children": [
              "IPY_MODEL_d56d5c1dfc3940b2b62aa37b3007d043",
              "IPY_MODEL_7ebae101dcce48edaedf0045d71e3c11"
            ],
            "layout": "IPY_MODEL_08d3cd873b6c41c380bbe3500d3155b5"
          }
        },
        "d56d5c1dfc3940b2b62aa37b3007d043": {
          "model_module": "@jupyter-widgets/controls",
          "model_name": "LabelModel",
          "model_module_version": "1.5.0",
          "state": {
            "_dom_classes": [],
            "_model_module": "@jupyter-widgets/controls",
            "_model_module_version": "1.5.0",
            "_model_name": "LabelModel",
            "_view_count": null,
            "_view_module": "@jupyter-widgets/controls",
            "_view_module_version": "1.5.0",
            "_view_name": "LabelView",
            "description": "",
            "description_tooltip": null,
            "layout": "IPY_MODEL_3e10cdcea3f5430b9497fe1345c7dd7d",
            "placeholder": "​",
            "style": "IPY_MODEL_c91167f1ee8f4584bfd0e7d65964cfcf",
            "value": "Waiting for wandb.init()...\r"
          }
        },
        "7ebae101dcce48edaedf0045d71e3c11": {
          "model_module": "@jupyter-widgets/controls",
          "model_name": "FloatProgressModel",
          "model_module_version": "1.5.0",
          "state": {
            "_dom_classes": [],
            "_model_module": "@jupyter-widgets/controls",
            "_model_module_version": "1.5.0",
            "_model_name": "FloatProgressModel",
            "_view_count": null,
            "_view_module": "@jupyter-widgets/controls",
            "_view_module_version": "1.5.0",
            "_view_name": "ProgressView",
            "bar_style": "",
            "description": "",
            "description_tooltip": null,
            "layout": "IPY_MODEL_d82c3cb0350246c5bbc44b5e02d1d0e2",
            "max": 1,
            "min": 0,
            "orientation": "horizontal",
            "style": "IPY_MODEL_2ab6505e3eef472883dea4f5818ee31f",
            "value": 0.167179257500023
          }
        },
        "08d3cd873b6c41c380bbe3500d3155b5": {
          "model_module": "@jupyter-widgets/base",
          "model_name": "LayoutModel",
          "model_module_version": "1.2.0",
          "state": {
            "_model_module": "@jupyter-widgets/base",
            "_model_module_version": "1.2.0",
            "_model_name": "LayoutModel",
            "_view_count": null,
            "_view_module": "@jupyter-widgets/base",
            "_view_module_version": "1.2.0",
            "_view_name": "LayoutView",
            "align_content": null,
            "align_items": null,
            "align_self": null,
            "border": null,
            "bottom": null,
            "display": null,
            "flex": null,
            "flex_flow": null,
            "grid_area": null,
            "grid_auto_columns": null,
            "grid_auto_flow": null,
            "grid_auto_rows": null,
            "grid_column": null,
            "grid_gap": null,
            "grid_row": null,
            "grid_template_areas": null,
            "grid_template_columns": null,
            "grid_template_rows": null,
            "height": null,
            "justify_content": null,
            "justify_items": null,
            "left": null,
            "margin": null,
            "max_height": null,
            "max_width": null,
            "min_height": null,
            "min_width": null,
            "object_fit": null,
            "object_position": null,
            "order": null,
            "overflow": null,
            "overflow_x": null,
            "overflow_y": null,
            "padding": null,
            "right": null,
            "top": null,
            "visibility": null,
            "width": null
          }
        },
        "3e10cdcea3f5430b9497fe1345c7dd7d": {
          "model_module": "@jupyter-widgets/base",
          "model_name": "LayoutModel",
          "model_module_version": "1.2.0",
          "state": {
            "_model_module": "@jupyter-widgets/base",
            "_model_module_version": "1.2.0",
            "_model_name": "LayoutModel",
            "_view_count": null,
            "_view_module": "@jupyter-widgets/base",
            "_view_module_version": "1.2.0",
            "_view_name": "LayoutView",
            "align_content": null,
            "align_items": null,
            "align_self": null,
            "border": null,
            "bottom": null,
            "display": null,
            "flex": null,
            "flex_flow": null,
            "grid_area": null,
            "grid_auto_columns": null,
            "grid_auto_flow": null,
            "grid_auto_rows": null,
            "grid_column": null,
            "grid_gap": null,
            "grid_row": null,
            "grid_template_areas": null,
            "grid_template_columns": null,
            "grid_template_rows": null,
            "height": null,
            "justify_content": null,
            "justify_items": null,
            "left": null,
            "margin": null,
            "max_height": null,
            "max_width": null,
            "min_height": null,
            "min_width": null,
            "object_fit": null,
            "object_position": null,
            "order": null,
            "overflow": null,
            "overflow_x": null,
            "overflow_y": null,
            "padding": null,
            "right": null,
            "top": null,
            "visibility": null,
            "width": null
          }
        },
        "c91167f1ee8f4584bfd0e7d65964cfcf": {
          "model_module": "@jupyter-widgets/controls",
          "model_name": "DescriptionStyleModel",
          "model_module_version": "1.5.0",
          "state": {
            "_model_module": "@jupyter-widgets/controls",
            "_model_module_version": "1.5.0",
            "_model_name": "DescriptionStyleModel",
            "_view_count": null,
            "_view_module": "@jupyter-widgets/base",
            "_view_module_version": "1.2.0",
            "_view_name": "StyleView",
            "description_width": ""
          }
        },
        "d82c3cb0350246c5bbc44b5e02d1d0e2": {
          "model_module": "@jupyter-widgets/base",
          "model_name": "LayoutModel",
          "model_module_version": "1.2.0",
          "state": {
            "_model_module": "@jupyter-widgets/base",
            "_model_module_version": "1.2.0",
            "_model_name": "LayoutModel",
            "_view_count": null,
            "_view_module": "@jupyter-widgets/base",
            "_view_module_version": "1.2.0",
            "_view_name": "LayoutView",
            "align_content": null,
            "align_items": null,
            "align_self": null,
            "border": null,
            "bottom": null,
            "display": null,
            "flex": null,
            "flex_flow": null,
            "grid_area": null,
            "grid_auto_columns": null,
            "grid_auto_flow": null,
            "grid_auto_rows": null,
            "grid_column": null,
            "grid_gap": null,
            "grid_row": null,
            "grid_template_areas": null,
            "grid_template_columns": null,
            "grid_template_rows": null,
            "height": null,
            "justify_content": null,
            "justify_items": null,
            "left": null,
            "margin": null,
            "max_height": null,
            "max_width": null,
            "min_height": null,
            "min_width": null,
            "object_fit": null,
            "object_position": null,
            "order": null,
            "overflow": null,
            "overflow_x": null,
            "overflow_y": null,
            "padding": null,
            "right": null,
            "top": null,
            "visibility": null,
            "width": null
          }
        },
        "2ab6505e3eef472883dea4f5818ee31f": {
          "model_module": "@jupyter-widgets/controls",
          "model_name": "ProgressStyleModel",
          "model_module_version": "1.5.0",
          "state": {
            "_model_module": "@jupyter-widgets/controls",
            "_model_module_version": "1.5.0",
            "_model_name": "ProgressStyleModel",
            "_view_count": null,
            "_view_module": "@jupyter-widgets/base",
            "_view_module_version": "1.2.0",
            "_view_name": "StyleView",
            "bar_color": null,
            "description_width": ""
          }
        }
      }
    },
    "accelerator": "TPU",
    "gpuClass": "standard"
  },
  "cells": [
    {
      "cell_type": "markdown",
      "metadata": {
        "id": "view-in-github",
        "colab_type": "text"
      },
      "source": [
        "<a href=\"https://colab.research.google.com/github/zenon10/POC-OCR/blob/main/NER_rg.ipynb\" target=\"_parent\"><img src=\"https://colab.research.google.com/assets/colab-badge.svg\" alt=\"Open In Colab\"/></a>"
      ]
    },
    {
      "cell_type": "markdown",
      "source": [
        "## Option 1\n",
        "https://www.freecodecamp.org/news/getting-started-with-ner-models-using-huggingface/"
      ],
      "metadata": {
        "id": "ZehGjScK0VQt"
      }
    },
    {
      "cell_type": "code",
      "source": [
        "from google.colab import drive\n",
        "drive.mount('/content/drive')"
      ],
      "metadata": {
        "id": "uECf6UoDfTFM"
      },
      "execution_count": null,
      "outputs": []
    },
    {
      "cell_type": "code",
      "source": [
        "! git clone https://github.com/zenon10/POC-OCR"
      ],
      "metadata": {
        "id": "Bxs9cZWVfXhC",
        "colab": {
          "base_uri": "https://localhost:8080/"
        },
        "outputId": "a570dc4a-5726-4059-a535-9ea9f6ad4056"
      },
      "execution_count": null,
      "outputs": [
        {
          "output_type": "stream",
          "name": "stdout",
          "text": [
            "fatal: destination path 'POC-OCR' already exists and is not an empty directory.\n"
          ]
        }
      ]
    },
    {
      "cell_type": "code",
      "execution_count": null,
      "metadata": {
        "colab": {
          "base_uri": "https://localhost:8080/"
        },
        "id": "N4WCn67tfKER",
        "outputId": "c3c09070-9953-451b-c0f8-3553293f6d22"
      },
      "outputs": [
        {
          "output_type": "stream",
          "name": "stdout",
          "text": [
            "Looking in indexes: https://pypi.org/simple, https://us-python.pkg.dev/colab-wheels/public/simple/\n",
            "Requirement already satisfied: datasets in /usr/local/lib/python3.8/dist-packages (2.9.0)\n",
            "Requirement already satisfied: xxhash in /usr/local/lib/python3.8/dist-packages (from datasets) (3.2.0)\n",
            "Requirement already satisfied: pyarrow>=6.0.0 in /usr/local/lib/python3.8/dist-packages (from datasets) (9.0.0)\n",
            "Requirement already satisfied: dill<0.3.7 in /usr/local/lib/python3.8/dist-packages (from datasets) (0.3.6)\n",
            "Requirement already satisfied: aiohttp in /usr/local/lib/python3.8/dist-packages (from datasets) (3.8.3)\n",
            "Requirement already satisfied: packaging in /usr/local/lib/python3.8/dist-packages (from datasets) (23.0)\n",
            "Requirement already satisfied: requests>=2.19.0 in /usr/local/lib/python3.8/dist-packages (from datasets) (2.25.1)\n",
            "Requirement already satisfied: numpy>=1.17 in /usr/local/lib/python3.8/dist-packages (from datasets) (1.21.6)\n",
            "Requirement already satisfied: pandas in /usr/local/lib/python3.8/dist-packages (from datasets) (1.3.5)\n",
            "Requirement already satisfied: multiprocess in /usr/local/lib/python3.8/dist-packages (from datasets) (0.70.14)\n",
            "Requirement already satisfied: pyyaml>=5.1 in /usr/local/lib/python3.8/dist-packages (from datasets) (6.0)\n",
            "Requirement already satisfied: fsspec[http]>=2021.11.1 in /usr/local/lib/python3.8/dist-packages (from datasets) (2023.1.0)\n",
            "Requirement already satisfied: responses<0.19 in /usr/local/lib/python3.8/dist-packages (from datasets) (0.18.0)\n",
            "Requirement already satisfied: huggingface-hub<1.0.0,>=0.2.0 in /usr/local/lib/python3.8/dist-packages (from datasets) (0.12.0)\n",
            "Requirement already satisfied: tqdm>=4.62.1 in /usr/local/lib/python3.8/dist-packages (from datasets) (4.64.1)\n",
            "Requirement already satisfied: multidict<7.0,>=4.5 in /usr/local/lib/python3.8/dist-packages (from aiohttp->datasets) (6.0.4)\n",
            "Requirement already satisfied: charset-normalizer<3.0,>=2.0 in /usr/local/lib/python3.8/dist-packages (from aiohttp->datasets) (2.1.1)\n",
            "Requirement already satisfied: yarl<2.0,>=1.0 in /usr/local/lib/python3.8/dist-packages (from aiohttp->datasets) (1.8.2)\n",
            "Requirement already satisfied: aiosignal>=1.1.2 in /usr/local/lib/python3.8/dist-packages (from aiohttp->datasets) (1.3.1)\n",
            "Requirement already satisfied: async-timeout<5.0,>=4.0.0a3 in /usr/local/lib/python3.8/dist-packages (from aiohttp->datasets) (4.0.2)\n",
            "Requirement already satisfied: attrs>=17.3.0 in /usr/local/lib/python3.8/dist-packages (from aiohttp->datasets) (22.2.0)\n",
            "Requirement already satisfied: frozenlist>=1.1.1 in /usr/local/lib/python3.8/dist-packages (from aiohttp->datasets) (1.3.3)\n",
            "Requirement already satisfied: typing-extensions>=3.7.4.3 in /usr/local/lib/python3.8/dist-packages (from huggingface-hub<1.0.0,>=0.2.0->datasets) (4.4.0)\n",
            "Requirement already satisfied: filelock in /usr/local/lib/python3.8/dist-packages (from huggingface-hub<1.0.0,>=0.2.0->datasets) (3.9.0)\n",
            "Requirement already satisfied: certifi>=2017.4.17 in /usr/local/lib/python3.8/dist-packages (from requests>=2.19.0->datasets) (2022.12.7)\n",
            "Requirement already satisfied: idna<3,>=2.5 in /usr/local/lib/python3.8/dist-packages (from requests>=2.19.0->datasets) (2.10)\n",
            "Requirement already satisfied: chardet<5,>=3.0.2 in /usr/local/lib/python3.8/dist-packages (from requests>=2.19.0->datasets) (4.0.0)\n",
            "Requirement already satisfied: urllib3<1.27,>=1.21.1 in /usr/local/lib/python3.8/dist-packages (from requests>=2.19.0->datasets) (1.26.14)\n",
            "Requirement already satisfied: python-dateutil>=2.7.3 in /usr/local/lib/python3.8/dist-packages (from pandas->datasets) (2.8.2)\n",
            "Requirement already satisfied: pytz>=2017.3 in /usr/local/lib/python3.8/dist-packages (from pandas->datasets) (2022.7.1)\n",
            "Requirement already satisfied: six>=1.5 in /usr/local/lib/python3.8/dist-packages (from python-dateutil>=2.7.3->pandas->datasets) (1.15.0)\n",
            "Looking in indexes: https://pypi.org/simple, https://us-python.pkg.dev/colab-wheels/public/simple/\n",
            "Requirement already satisfied: tokenizers in /usr/local/lib/python3.8/dist-packages (0.13.2)\n",
            "Looking in indexes: https://pypi.org/simple, https://us-python.pkg.dev/colab-wheels/public/simple/\n",
            "Requirement already satisfied: transformers in /usr/local/lib/python3.8/dist-packages (4.26.0)\n",
            "Requirement already satisfied: huggingface-hub<1.0,>=0.11.0 in /usr/local/lib/python3.8/dist-packages (from transformers) (0.12.0)\n",
            "Requirement already satisfied: filelock in /usr/local/lib/python3.8/dist-packages (from transformers) (3.9.0)\n",
            "Requirement already satisfied: tqdm>=4.27 in /usr/local/lib/python3.8/dist-packages (from transformers) (4.64.1)\n",
            "Requirement already satisfied: packaging>=20.0 in /usr/local/lib/python3.8/dist-packages (from transformers) (23.0)\n",
            "Requirement already satisfied: tokenizers!=0.11.3,<0.14,>=0.11.1 in /usr/local/lib/python3.8/dist-packages (from transformers) (0.13.2)\n",
            "Requirement already satisfied: pyyaml>=5.1 in /usr/local/lib/python3.8/dist-packages (from transformers) (6.0)\n",
            "Requirement already satisfied: requests in /usr/local/lib/python3.8/dist-packages (from transformers) (2.25.1)\n",
            "Requirement already satisfied: numpy>=1.17 in /usr/local/lib/python3.8/dist-packages (from transformers) (1.21.6)\n",
            "Requirement already satisfied: regex!=2019.12.17 in /usr/local/lib/python3.8/dist-packages (from transformers) (2022.6.2)\n",
            "Requirement already satisfied: typing-extensions>=3.7.4.3 in /usr/local/lib/python3.8/dist-packages (from huggingface-hub<1.0,>=0.11.0->transformers) (4.4.0)\n",
            "Requirement already satisfied: chardet<5,>=3.0.2 in /usr/local/lib/python3.8/dist-packages (from requests->transformers) (4.0.0)\n",
            "Requirement already satisfied: certifi>=2017.4.17 in /usr/local/lib/python3.8/dist-packages (from requests->transformers) (2022.12.7)\n",
            "Requirement already satisfied: idna<3,>=2.5 in /usr/local/lib/python3.8/dist-packages (from requests->transformers) (2.10)\n",
            "Requirement already satisfied: urllib3<1.27,>=1.21.1 in /usr/local/lib/python3.8/dist-packages (from requests->transformers) (1.26.14)\n"
          ]
        }
      ],
      "source": [
        "!pip install datasets\n",
        "!pip install tokenizers\n",
        "!pip install transformers"
      ]
    },
    {
      "cell_type": "code",
      "source": [
        "from datasets import load_dataset\n",
        "\n",
        "dataset = load_dataset(\"wikiann\", \"bn\")"
      ],
      "metadata": {
        "colab": {
          "base_uri": "https://localhost:8080/",
          "height": 86,
          "referenced_widgets": [
            "34fe574ba828439ab034c1aa6511a1b4",
            "0553c59f6539433c8ba01f5fda7d42c4",
            "a19d9d46d1e3401eb8fac4799894d63f",
            "b4fbf700a88a4cc08fc5e81cc0e47246",
            "25b47dbe583545f780ac5c07e500611d",
            "e60376da711a4c7d83e67f3680bee6ad",
            "bba691bc366e4ceabfd75eabc6278569",
            "e761ebaf99ee4da9ac869ef6209e66c3",
            "32580232b6eb4e53825af14ff57ffc0b",
            "1b22adc1343648eaa234163c29f001f0",
            "e0336f4e96fe4adf85efbccdf5695752"
          ]
        },
        "id": "rNv2xCYcfPye",
        "outputId": "15671730-e2ca-4a64-99cb-9ef97618fdfa"
      },
      "execution_count": null,
      "outputs": [
        {
          "output_type": "stream",
          "name": "stderr",
          "text": [
            "WARNING:datasets.builder:Found cached dataset wikiann (/root/.cache/huggingface/datasets/wikiann/bn/1.1.0/4bfd4fe4468ab78bb6e096968f61fab7a888f44f9d3371c2f3fea7e74a5a354e)\n"
          ]
        },
        {
          "output_type": "display_data",
          "data": {
            "text/plain": [
              "  0%|          | 0/3 [00:00<?, ?it/s]"
            ],
            "application/vnd.jupyter.widget-view+json": {
              "version_major": 2,
              "version_minor": 0,
              "model_id": "34fe574ba828439ab034c1aa6511a1b4"
            }
          },
          "metadata": {}
        }
      ]
    },
    {
      "cell_type": "code",
      "source": [
        "label_names = dataset[\"train\"].features[\"ner_tags\"].feature.names"
      ],
      "metadata": {
        "id": "DUgAgafQfPoP"
      },
      "execution_count": null,
      "outputs": []
    },
    {
      "cell_type": "code",
      "source": [
        "#How to Preprocess the Dataset\n",
        "from transformers import AutoTokenizer\n",
        "tokenizer = AutoTokenizer.from_pretrained(\"bert-base-multilingual-cased\")\n",
        "\n",
        "#Get the values for input_ids, token_type_ids, attention_mask\n",
        "def tokenize_adjust_labels(all_samples_per_split):\n",
        "  tokenized_samples = tokenizer.batch_encode_plus(all_samples_per_split[\"tokens\"], is_split_into_words=True)\n",
        "  #tokenized_samples is not a datasets object so this alone won't work with Trainer API, hence map is used \n",
        "  #so the new keys [input_ids, labels (after adjustment)]\n",
        "  #can be added to the datasets dict for each train test validation split\n",
        "  total_adjusted_labels = []\n",
        "  print(len(tokenized_samples[\"input_ids\"]))\n",
        "  for k in range(0, len(tokenized_samples[\"input_ids\"])):\n",
        "    prev_wid = -1\n",
        "    word_ids_list = tokenized_samples.word_ids(batch_index=k)\n",
        "    existing_label_ids = all_samples_per_split[\"ner_tags\"][k]\n",
        "    i = -1\n",
        "    adjusted_label_ids = []\n",
        "   \n",
        "    for wid in word_ids_list:\n",
        "      if(wid is None):\n",
        "        adjusted_label_ids.append(-100)\n",
        "      elif(wid!=prev_wid):\n",
        "        i = i + 1\n",
        "        adjusted_label_ids.append(existing_label_ids[i])\n",
        "        prev_wid = wid\n",
        "      else:\n",
        "        label_name = label_names[existing_label_ids[i]]\n",
        "        adjusted_label_ids.append(existing_label_ids[i])\n",
        "        \n",
        "    total_adjusted_labels.append(adjusted_label_ids)\n",
        "  tokenized_samples[\"labels\"] = total_adjusted_labels\n",
        "  return tokenized_samples\n",
        "\n",
        "tokenized_dataset = dataset.map(tokenize_adjust_labels, batched=True)"
      ],
      "metadata": {
        "colab": {
          "base_uri": "https://localhost:8080/"
        },
        "id": "wGiEfsDHfPTh",
        "outputId": "a216d491-f48d-4b44-db04-507100ce31c6"
      },
      "execution_count": null,
      "outputs": [
        {
          "output_type": "stream",
          "name": "stderr",
          "text": [
            "WARNING:datasets.arrow_dataset:Loading cached processed dataset at /root/.cache/huggingface/datasets/wikiann/bn/1.1.0/4bfd4fe4468ab78bb6e096968f61fab7a888f44f9d3371c2f3fea7e74a5a354e/cache-706d3d85ff7c1a64.arrow\n",
            "WARNING:datasets.arrow_dataset:Loading cached processed dataset at /root/.cache/huggingface/datasets/wikiann/bn/1.1.0/4bfd4fe4468ab78bb6e096968f61fab7a888f44f9d3371c2f3fea7e74a5a354e/cache-73a322ab92941e0a.arrow\n",
            "WARNING:datasets.arrow_dataset:Loading cached processed dataset at /root/.cache/huggingface/datasets/wikiann/bn/1.1.0/4bfd4fe4468ab78bb6e096968f61fab7a888f44f9d3371c2f3fea7e74a5a354e/cache-3f707b36fe28748d.arrow\n"
          ]
        }
      ]
    },
    {
      "cell_type": "code",
      "source": [
        "from transformers import DataCollatorForTokenClassification\n",
        "\n",
        "data_collator = DataCollatorForTokenClassification(tokenizer)"
      ],
      "metadata": {
        "id": "XDwoYIJsfPIR"
      },
      "execution_count": null,
      "outputs": []
    },
    {
      "cell_type": "code",
      "source": [
        "#Set Up Integration for Weights and Biases\n",
        "!pip install wandb"
      ],
      "metadata": {
        "id": "cgj8jUhkfO5W",
        "colab": {
          "base_uri": "https://localhost:8080/"
        },
        "outputId": "febec1b1-5a25-4874-ea01-36a5a89ab256"
      },
      "execution_count": null,
      "outputs": [
        {
          "output_type": "stream",
          "name": "stdout",
          "text": [
            "Looking in indexes: https://pypi.org/simple, https://us-python.pkg.dev/colab-wheels/public/simple/\n",
            "Requirement already satisfied: wandb in /usr/local/lib/python3.8/dist-packages (0.13.9)\n",
            "Requirement already satisfied: protobuf!=4.21.0,<5,>=3.12.0 in /usr/local/lib/python3.8/dist-packages (from wandb) (3.19.6)\n",
            "Requirement already satisfied: docker-pycreds>=0.4.0 in /usr/local/lib/python3.8/dist-packages (from wandb) (0.4.0)\n",
            "Requirement already satisfied: appdirs>=1.4.3 in /usr/local/lib/python3.8/dist-packages (from wandb) (1.4.4)\n",
            "Requirement already satisfied: setuptools in /usr/local/lib/python3.8/dist-packages (from wandb) (57.4.0)\n",
            "Requirement already satisfied: Click!=8.0.0,>=7.0 in /usr/local/lib/python3.8/dist-packages (from wandb) (7.1.2)\n",
            "Requirement already satisfied: setproctitle in /usr/local/lib/python3.8/dist-packages (from wandb) (1.3.2)\n",
            "Requirement already satisfied: sentry-sdk>=1.0.0 in /usr/local/lib/python3.8/dist-packages (from wandb) (1.15.0)\n",
            "Requirement already satisfied: pathtools in /usr/local/lib/python3.8/dist-packages (from wandb) (0.1.2)\n",
            "Requirement already satisfied: GitPython>=1.0.0 in /usr/local/lib/python3.8/dist-packages (from wandb) (3.1.30)\n",
            "Requirement already satisfied: PyYAML in /usr/local/lib/python3.8/dist-packages (from wandb) (6.0)\n",
            "Requirement already satisfied: typing-extensions in /usr/local/lib/python3.8/dist-packages (from wandb) (4.4.0)\n",
            "Requirement already satisfied: psutil>=5.0.0 in /usr/local/lib/python3.8/dist-packages (from wandb) (5.4.8)\n",
            "Requirement already satisfied: requests<3,>=2.0.0 in /usr/local/lib/python3.8/dist-packages (from wandb) (2.25.1)\n",
            "Requirement already satisfied: six>=1.4.0 in /usr/local/lib/python3.8/dist-packages (from docker-pycreds>=0.4.0->wandb) (1.15.0)\n",
            "Requirement already satisfied: gitdb<5,>=4.0.1 in /usr/local/lib/python3.8/dist-packages (from GitPython>=1.0.0->wandb) (4.0.10)\n",
            "Requirement already satisfied: chardet<5,>=3.0.2 in /usr/local/lib/python3.8/dist-packages (from requests<3,>=2.0.0->wandb) (4.0.0)\n",
            "Requirement already satisfied: urllib3<1.27,>=1.21.1 in /usr/local/lib/python3.8/dist-packages (from requests<3,>=2.0.0->wandb) (1.26.14)\n",
            "Requirement already satisfied: idna<3,>=2.5 in /usr/local/lib/python3.8/dist-packages (from requests<3,>=2.0.0->wandb) (2.10)\n",
            "Requirement already satisfied: certifi>=2017.4.17 in /usr/local/lib/python3.8/dist-packages (from requests<3,>=2.0.0->wandb) (2022.12.7)\n",
            "Requirement already satisfied: smmap<6,>=3.0.1 in /usr/local/lib/python3.8/dist-packages (from gitdb<5,>=4.0.1->GitPython>=1.0.0->wandb) (5.0.0)\n"
          ]
        }
      ]
    },
    {
      "cell_type": "code",
      "source": [
        "import os\n",
        "import wandb\n",
        "os.environ[\"WANDB_API_KEY\"]=\"929b46c4abde3e31a2efcf8ebb022177b97c80e1\"\n",
        "os.environ[\"WANDB_ENTITY\"]=\"Suchandra\"\n",
        "os.environ[\"WANDB_PROJECT\"]=\"finetune_bert_ner\""
      ],
      "metadata": {
        "id": "0-zJxno9fOq2"
      },
      "execution_count": null,
      "outputs": []
    },
    {
      "cell_type": "code",
      "source": [
        "from transformers import AutoModelForTokenClassification, TrainingArguments, Trainer\n",
        "import numpy as np\n",
        "!pip install seqeval\n",
        "from datasets import load_metric\n",
        "metric = load_metric(path = \"seqeval\")\n",
        "def compute_metrics(p):\n",
        "    predictions, labels = p\n",
        "    predictions = np.argmax(predictions, axis=2)\n",
        "\n",
        "    # Remove ignored index (special tokens)\n",
        "    true_predictions = [\n",
        "        [label_names[p] for (p, l) in zip(prediction, label) if l != -100]\n",
        "        for prediction, label in zip(predictions, labels)\n",
        "    ]\n",
        "    true_labels = [\n",
        "        [label_names[l] for (p, l) in zip(prediction, label) if l != -100]\n",
        "        for prediction, label in zip(predictions, labels)\n",
        "    ]\n",
        "\n",
        "    results = metric.compute(predictions=true_predictions, references=true_labels)\n",
        "    flattened_results = {\n",
        "        \"overall_precision\": results[\"overall_precision\"],\n",
        "        \"overall_recall\": results[\"overall_recall\"],\n",
        "        \"overall_f1\": results[\"overall_f1\"],\n",
        "        \"overall_accuracy\": results[\"overall_accuracy\"],\n",
        "    }\n",
        "    for k in results.keys():\n",
        "      if(k not in flattened_results.keys()):\n",
        "        flattened_results[k+\"_f1\"]=results[k][\"f1\"]\n",
        "\n",
        "    return flattened_results"
      ],
      "metadata": {
        "id": "sjY1_8DOfOeo",
        "colab": {
          "base_uri": "https://localhost:8080/"
        },
        "outputId": "ea5f90ee-d8e8-4f23-ea42-32981bbc10d8"
      },
      "execution_count": null,
      "outputs": [
        {
          "output_type": "stream",
          "name": "stdout",
          "text": [
            "Looking in indexes: https://pypi.org/simple, https://us-python.pkg.dev/colab-wheels/public/simple/\n",
            "Requirement already satisfied: seqeval in /usr/local/lib/python3.8/dist-packages (1.2.2)\n",
            "Requirement already satisfied: scikit-learn>=0.21.3 in /usr/local/lib/python3.8/dist-packages (from seqeval) (1.0.2)\n",
            "Requirement already satisfied: numpy>=1.14.0 in /usr/local/lib/python3.8/dist-packages (from seqeval) (1.21.6)\n",
            "Requirement already satisfied: scipy>=1.1.0 in /usr/local/lib/python3.8/dist-packages (from scikit-learn>=0.21.3->seqeval) (1.7.3)\n",
            "Requirement already satisfied: threadpoolctl>=2.0.0 in /usr/local/lib/python3.8/dist-packages (from scikit-learn>=0.21.3->seqeval) (3.1.0)\n",
            "Requirement already satisfied: joblib>=0.11 in /usr/local/lib/python3.8/dist-packages (from scikit-learn>=0.21.3->seqeval) (1.2.0)\n"
          ]
        },
        {
          "output_type": "stream",
          "name": "stderr",
          "text": [
            "<ipython-input-9-ad78fae2fdcd>:5: FutureWarning: load_metric is deprecated and will be removed in the next major version of datasets. Use 'evaluate.load' instead, from the new library 🤗 Evaluate: https://huggingface.co/docs/evaluate\n",
            "  metric = load_metric(path = \"seqeval\")\n"
          ]
        }
      ]
    },
    {
      "cell_type": "code",
      "source": [
        "model = AutoModelForTokenClassification.from_pretrained(\"bert-base-multilingual-cased\", num_labels=len(label_names))\n",
        "training_args = TrainingArguments(\n",
        "    output_dir=\"./fine_tune_bert_output\",\n",
        "    evaluation_strategy=\"steps\",\n",
        "    learning_rate=2e-5,\n",
        "    per_device_train_batch_size=16,\n",
        "    per_device_eval_batch_size=16,\n",
        "    num_train_epochs=7,\n",
        "    weight_decay=0.01,\n",
        "    logging_steps = 1000,\n",
        "    report_to=\"wandb\",\n",
        "    run_name = \"ep_10_tokenized_11\",\n",
        "    save_strategy='no'\n",
        ")\n",
        "trainer = Trainer(\n",
        "    model=model,\n",
        "    args=training_args,\n",
        "    train_dataset=tokenized_dataset[\"train\"],\n",
        "    eval_dataset=tokenized_dataset[\"validation\"],\n",
        "    data_collator=data_collator,\n",
        "    tokenizer=tokenizer,\n",
        "    compute_metrics=compute_metrics\n",
        ")\n",
        "\n",
        "trainer.train()\n",
        "wandb.finish()"
      ],
      "metadata": {
        "id": "mjBMUFPyo7xy",
        "colab": {
          "base_uri": "https://localhost:8080/",
          "height": 1000,
          "referenced_widgets": [
            "445184c44e8744d79bf15bfddca7c00e",
            "3b97b17c54df431783d8754c0d29596e",
            "955e8e58835841558a18cfd45ec9b4d4",
            "6c4833d266664c37b45815c612dcff66",
            "78900c81be814018bfd6b029b9cdb5c2",
            "4d78c19022124c3fbab2a37fe8d7b6f7",
            "3cf3b7e12b694bf29099f0fe2a98cf00",
            "a425bb2139564133bea7133041936323",
            "68fd3ac204344aca8f8db1ee882995f4",
            "600f55f4cab240b5854d7dcfb4d937fb",
            "b245c706398d4b4381a73f8dc21b54d7",
            "e1d52ecc7dd543d5be96c7f54ff8878e",
            "d56d5c1dfc3940b2b62aa37b3007d043",
            "7ebae101dcce48edaedf0045d71e3c11",
            "08d3cd873b6c41c380bbe3500d3155b5",
            "3e10cdcea3f5430b9497fe1345c7dd7d",
            "c91167f1ee8f4584bfd0e7d65964cfcf",
            "d82c3cb0350246c5bbc44b5e02d1d0e2",
            "2ab6505e3eef472883dea4f5818ee31f"
          ]
        },
        "outputId": "3e34dfe3-bf4a-4eda-98e2-4fc15956eb4e"
      },
      "execution_count": null,
      "outputs": [
        {
          "output_type": "display_data",
          "data": {
            "text/plain": [
              "Downloading (…)\"pytorch_model.bin\";:   0%|          | 0.00/714M [00:00<?, ?B/s]"
            ],
            "application/vnd.jupyter.widget-view+json": {
              "version_major": 2,
              "version_minor": 0,
              "model_id": "445184c44e8744d79bf15bfddca7c00e"
            }
          },
          "metadata": {}
        },
        {
          "output_type": "stream",
          "name": "stderr",
          "text": [
            "Some weights of the model checkpoint at bert-base-multilingual-cased were not used when initializing BertForTokenClassification: ['cls.predictions.bias', 'cls.seq_relationship.bias', 'cls.seq_relationship.weight', 'cls.predictions.transform.dense.weight', 'cls.predictions.transform.LayerNorm.bias', 'cls.predictions.transform.LayerNorm.weight', 'cls.predictions.transform.dense.bias', 'cls.predictions.decoder.weight']\n",
            "- This IS expected if you are initializing BertForTokenClassification from the checkpoint of a model trained on another task or with another architecture (e.g. initializing a BertForSequenceClassification model from a BertForPreTraining model).\n",
            "- This IS NOT expected if you are initializing BertForTokenClassification from the checkpoint of a model that you expect to be exactly identical (initializing a BertForSequenceClassification model from a BertForSequenceClassification model).\n",
            "Some weights of BertForTokenClassification were not initialized from the model checkpoint at bert-base-multilingual-cased and are newly initialized: ['classifier.weight', 'classifier.bias']\n",
            "You should probably TRAIN this model on a down-stream task to be able to use it for predictions and inference.\n",
            "/usr/local/lib/python3.8/dist-packages/torch/cuda/__init__.py:497: UserWarning: Can't initialize NVML\n",
            "  warnings.warn(\"Can't initialize NVML\")\n",
            "The following columns in the training set don't have a corresponding argument in `BertForTokenClassification.forward` and have been ignored: spans, tokens, langs, ner_tags. If spans, tokens, langs, ner_tags are not expected by `BertForTokenClassification.forward`,  you can safely ignore this message.\n",
            "/usr/local/lib/python3.8/dist-packages/transformers/optimization.py:306: FutureWarning: This implementation of AdamW is deprecated and will be removed in a future version. Use the PyTorch implementation torch.optim.AdamW instead, or set `no_deprecation_warning=True` to disable this warning\n",
            "  warnings.warn(\n",
            "***** Running training *****\n",
            "  Num examples = 10000\n",
            "  Num Epochs = 7\n",
            "  Instantaneous batch size per device = 16\n",
            "  Total train batch size (w. parallel, distributed & accumulation) = 16\n",
            "  Gradient Accumulation steps = 1\n",
            "  Total optimization steps = 4375\n",
            "  Number of trainable parameters = 177268231\n",
            "Automatic Weights & Biases logging enabled, to disable set os.environ[\"WANDB_DISABLED\"] = \"true\"\n",
            "ERROR:wandb.jupyter:Failed to detect the name of this notebook, you can set it manually with the WANDB_NOTEBOOK_NAME environment variable to enable code saving.\n",
            "\u001b[34m\u001b[1mwandb\u001b[0m: Currently logged in as: \u001b[33mgupta99riya\u001b[0m. Use \u001b[1m`wandb login --relogin`\u001b[0m to force relogin\n"
          ]
        },
        {
          "output_type": "display_data",
          "data": {
            "text/plain": [
              "VBox(children=(Label(value='Waiting for wandb.init()...\\r'), FloatProgress(value=0.01667097840002801, max=1.0)…"
            ],
            "application/vnd.jupyter.widget-view+json": {
              "version_major": 2,
              "version_minor": 0,
              "model_id": "e1d52ecc7dd543d5be96c7f54ff8878e"
            }
          },
          "metadata": {}
        },
        {
          "output_type": "stream",
          "name": "stdout",
          "text": [
            "Problem at: /usr/local/lib/python3.8/dist-packages/transformers/integrations.py 721 setup\n"
          ]
        },
        {
          "output_type": "stream",
          "name": "stderr",
          "text": [
            "Traceback (most recent call last):\n",
            "  File \"/usr/local/lib/python3.8/dist-packages/wandb/sdk/wandb_init.py\", line 1108, in init\n",
            "    run = wi.init()\n",
            "  File \"/usr/local/lib/python3.8/dist-packages/wandb/sdk/wandb_init.py\", line 713, in init\n",
            "    result = run_init_handle.wait(\n",
            "  File \"/usr/local/lib/python3.8/dist-packages/wandb/sdk/lib/mailbox.py\", line 271, in wait\n",
            "    raise MailboxError(\"transport failed\")\n",
            "wandb.errors.MailboxError: transport failed\n",
            "\u001b[34m\u001b[1mwandb\u001b[0m: \u001b[32m\u001b[41mERROR\u001b[0m Abnormal program exit\n"
          ]
        },
        {
          "output_type": "error",
          "ename": "Exception",
          "evalue": "ignored",
          "traceback": [
            "\u001b[0;31m---------------------------------------------------------------------------\u001b[0m",
            "\u001b[0;31mMailboxError\u001b[0m                              Traceback (most recent call last)",
            "\u001b[0;32m/usr/local/lib/python3.8/dist-packages/wandb/sdk/wandb_init.py\u001b[0m in \u001b[0;36minit\u001b[0;34m(job_type, dir, config, project, entity, reinit, tags, group, name, notes, magic, config_exclude_keys, config_include_keys, anonymous, mode, allow_val_change, resume, force, tensorboard, sync_tensorboard, monitor_gym, save_code, id, settings)\u001b[0m\n\u001b[1;32m   1107\u001b[0m         \u001b[0;32mtry\u001b[0m\u001b[0;34m:\u001b[0m\u001b[0;34m\u001b[0m\u001b[0;34m\u001b[0m\u001b[0m\n\u001b[0;32m-> 1108\u001b[0;31m             \u001b[0mrun\u001b[0m \u001b[0;34m=\u001b[0m \u001b[0mwi\u001b[0m\u001b[0;34m.\u001b[0m\u001b[0minit\u001b[0m\u001b[0;34m(\u001b[0m\u001b[0;34m)\u001b[0m\u001b[0;34m\u001b[0m\u001b[0;34m\u001b[0m\u001b[0m\n\u001b[0m\u001b[1;32m   1109\u001b[0m             \u001b[0mexcept_exit\u001b[0m \u001b[0;34m=\u001b[0m \u001b[0mwi\u001b[0m\u001b[0;34m.\u001b[0m\u001b[0msettings\u001b[0m\u001b[0;34m.\u001b[0m\u001b[0m_except_exit\u001b[0m\u001b[0;34m\u001b[0m\u001b[0;34m\u001b[0m\u001b[0m\n",
            "\u001b[0;32m/usr/local/lib/python3.8/dist-packages/wandb/sdk/wandb_init.py\u001b[0m in \u001b[0;36minit\u001b[0;34m(self)\u001b[0m\n\u001b[1;32m    712\u001b[0m             \u001b[0mrun_init_handle\u001b[0m \u001b[0;34m=\u001b[0m \u001b[0mbackend\u001b[0m\u001b[0;34m.\u001b[0m\u001b[0minterface\u001b[0m\u001b[0;34m.\u001b[0m\u001b[0mdeliver_run\u001b[0m\u001b[0;34m(\u001b[0m\u001b[0mrun_proto\u001b[0m\u001b[0;34m)\u001b[0m\u001b[0;34m\u001b[0m\u001b[0;34m\u001b[0m\u001b[0m\n\u001b[0;32m--> 713\u001b[0;31m             result = run_init_handle.wait(\n\u001b[0m\u001b[1;32m    714\u001b[0m                 \u001b[0mtimeout\u001b[0m\u001b[0;34m=\u001b[0m\u001b[0mtimeout\u001b[0m\u001b[0;34m,\u001b[0m\u001b[0;34m\u001b[0m\u001b[0;34m\u001b[0m\u001b[0m\n",
            "\u001b[0;32m/usr/local/lib/python3.8/dist-packages/wandb/sdk/lib/mailbox.py\u001b[0m in \u001b[0;36mwait\u001b[0;34m(self, timeout, on_probe, on_progress, release, cancel)\u001b[0m\n\u001b[1;32m    270\u001b[0m                 \u001b[0;32mif\u001b[0m \u001b[0mself\u001b[0m\u001b[0;34m.\u001b[0m\u001b[0m_interface\u001b[0m\u001b[0;34m.\u001b[0m\u001b[0m_transport_keepalive_failed\u001b[0m\u001b[0;34m(\u001b[0m\u001b[0;34m)\u001b[0m\u001b[0;34m:\u001b[0m\u001b[0;34m\u001b[0m\u001b[0;34m\u001b[0m\u001b[0m\n\u001b[0;32m--> 271\u001b[0;31m                     \u001b[0;32mraise\u001b[0m \u001b[0mMailboxError\u001b[0m\u001b[0;34m(\u001b[0m\u001b[0;34m\"transport failed\"\u001b[0m\u001b[0;34m)\u001b[0m\u001b[0;34m\u001b[0m\u001b[0;34m\u001b[0m\u001b[0m\n\u001b[0m\u001b[1;32m    272\u001b[0m \u001b[0;34m\u001b[0m\u001b[0m\n",
            "\u001b[0;31mMailboxError\u001b[0m: transport failed",
            "\nThe above exception was the direct cause of the following exception:\n",
            "\u001b[0;31mException\u001b[0m                                 Traceback (most recent call last)",
            "\u001b[0;32m<ipython-input-10-2602c1ae58a9>\u001b[0m in \u001b[0;36m<module>\u001b[0;34m\u001b[0m\n\u001b[1;32m     23\u001b[0m )\n\u001b[1;32m     24\u001b[0m \u001b[0;34m\u001b[0m\u001b[0m\n\u001b[0;32m---> 25\u001b[0;31m \u001b[0mtrainer\u001b[0m\u001b[0;34m.\u001b[0m\u001b[0mtrain\u001b[0m\u001b[0;34m(\u001b[0m\u001b[0;34m)\u001b[0m\u001b[0;34m\u001b[0m\u001b[0;34m\u001b[0m\u001b[0m\n\u001b[0m\u001b[1;32m     26\u001b[0m \u001b[0mwandb\u001b[0m\u001b[0;34m.\u001b[0m\u001b[0mfinish\u001b[0m\u001b[0;34m(\u001b[0m\u001b[0;34m)\u001b[0m\u001b[0;34m\u001b[0m\u001b[0;34m\u001b[0m\u001b[0m\n",
            "\u001b[0;32m/usr/local/lib/python3.8/dist-packages/transformers/trainer.py\u001b[0m in \u001b[0;36mtrain\u001b[0;34m(self, resume_from_checkpoint, trial, ignore_keys_for_eval, **kwargs)\u001b[0m\n\u001b[1;32m   1541\u001b[0m             \u001b[0mself\u001b[0m\u001b[0;34m.\u001b[0m\u001b[0m_inner_training_loop\u001b[0m\u001b[0;34m,\u001b[0m \u001b[0mself\u001b[0m\u001b[0;34m.\u001b[0m\u001b[0m_train_batch_size\u001b[0m\u001b[0;34m,\u001b[0m \u001b[0margs\u001b[0m\u001b[0;34m.\u001b[0m\u001b[0mauto_find_batch_size\u001b[0m\u001b[0;34m\u001b[0m\u001b[0;34m\u001b[0m\u001b[0m\n\u001b[1;32m   1542\u001b[0m         )\n\u001b[0;32m-> 1543\u001b[0;31m         return inner_training_loop(\n\u001b[0m\u001b[1;32m   1544\u001b[0m             \u001b[0margs\u001b[0m\u001b[0;34m=\u001b[0m\u001b[0margs\u001b[0m\u001b[0;34m,\u001b[0m\u001b[0;34m\u001b[0m\u001b[0;34m\u001b[0m\u001b[0m\n\u001b[1;32m   1545\u001b[0m             \u001b[0mresume_from_checkpoint\u001b[0m\u001b[0;34m=\u001b[0m\u001b[0mresume_from_checkpoint\u001b[0m\u001b[0;34m,\u001b[0m\u001b[0;34m\u001b[0m\u001b[0;34m\u001b[0m\u001b[0m\n",
            "\u001b[0;32m/usr/local/lib/python3.8/dist-packages/transformers/trainer.py\u001b[0m in \u001b[0;36m_inner_training_loop\u001b[0;34m(self, batch_size, args, resume_from_checkpoint, trial, ignore_keys_for_eval)\u001b[0m\n\u001b[1;32m   1718\u001b[0m         \u001b[0mmodel\u001b[0m\u001b[0;34m.\u001b[0m\u001b[0mzero_grad\u001b[0m\u001b[0;34m(\u001b[0m\u001b[0;34m)\u001b[0m\u001b[0;34m\u001b[0m\u001b[0;34m\u001b[0m\u001b[0m\n\u001b[1;32m   1719\u001b[0m \u001b[0;34m\u001b[0m\u001b[0m\n\u001b[0;32m-> 1720\u001b[0;31m         \u001b[0mself\u001b[0m\u001b[0;34m.\u001b[0m\u001b[0mcontrol\u001b[0m \u001b[0;34m=\u001b[0m \u001b[0mself\u001b[0m\u001b[0;34m.\u001b[0m\u001b[0mcallback_handler\u001b[0m\u001b[0;34m.\u001b[0m\u001b[0mon_train_begin\u001b[0m\u001b[0;34m(\u001b[0m\u001b[0margs\u001b[0m\u001b[0;34m,\u001b[0m \u001b[0mself\u001b[0m\u001b[0;34m.\u001b[0m\u001b[0mstate\u001b[0m\u001b[0;34m,\u001b[0m \u001b[0mself\u001b[0m\u001b[0;34m.\u001b[0m\u001b[0mcontrol\u001b[0m\u001b[0;34m)\u001b[0m\u001b[0;34m\u001b[0m\u001b[0;34m\u001b[0m\u001b[0m\n\u001b[0m\u001b[1;32m   1721\u001b[0m \u001b[0;34m\u001b[0m\u001b[0m\n\u001b[1;32m   1722\u001b[0m         \u001b[0;31m# Skip the first epochs_trained epochs to get the random state of the dataloader at the right point.\u001b[0m\u001b[0;34m\u001b[0m\u001b[0;34m\u001b[0m\u001b[0;34m\u001b[0m\u001b[0m\n",
            "\u001b[0;32m/usr/local/lib/python3.8/dist-packages/transformers/trainer_callback.py\u001b[0m in \u001b[0;36mon_train_begin\u001b[0;34m(self, args, state, control)\u001b[0m\n\u001b[1;32m    351\u001b[0m     \u001b[0;32mdef\u001b[0m \u001b[0mon_train_begin\u001b[0m\u001b[0;34m(\u001b[0m\u001b[0mself\u001b[0m\u001b[0;34m,\u001b[0m \u001b[0margs\u001b[0m\u001b[0;34m:\u001b[0m \u001b[0mTrainingArguments\u001b[0m\u001b[0;34m,\u001b[0m \u001b[0mstate\u001b[0m\u001b[0;34m:\u001b[0m \u001b[0mTrainerState\u001b[0m\u001b[0;34m,\u001b[0m \u001b[0mcontrol\u001b[0m\u001b[0;34m:\u001b[0m \u001b[0mTrainerControl\u001b[0m\u001b[0;34m)\u001b[0m\u001b[0;34m:\u001b[0m\u001b[0;34m\u001b[0m\u001b[0;34m\u001b[0m\u001b[0m\n\u001b[1;32m    352\u001b[0m         \u001b[0mcontrol\u001b[0m\u001b[0;34m.\u001b[0m\u001b[0mshould_training_stop\u001b[0m \u001b[0;34m=\u001b[0m \u001b[0;32mFalse\u001b[0m\u001b[0;34m\u001b[0m\u001b[0;34m\u001b[0m\u001b[0m\n\u001b[0;32m--> 353\u001b[0;31m         \u001b[0;32mreturn\u001b[0m \u001b[0mself\u001b[0m\u001b[0;34m.\u001b[0m\u001b[0mcall_event\u001b[0m\u001b[0;34m(\u001b[0m\u001b[0;34m\"on_train_begin\"\u001b[0m\u001b[0;34m,\u001b[0m \u001b[0margs\u001b[0m\u001b[0;34m,\u001b[0m \u001b[0mstate\u001b[0m\u001b[0;34m,\u001b[0m \u001b[0mcontrol\u001b[0m\u001b[0;34m)\u001b[0m\u001b[0;34m\u001b[0m\u001b[0;34m\u001b[0m\u001b[0m\n\u001b[0m\u001b[1;32m    354\u001b[0m \u001b[0;34m\u001b[0m\u001b[0m\n\u001b[1;32m    355\u001b[0m     \u001b[0;32mdef\u001b[0m \u001b[0mon_train_end\u001b[0m\u001b[0;34m(\u001b[0m\u001b[0mself\u001b[0m\u001b[0;34m,\u001b[0m \u001b[0margs\u001b[0m\u001b[0;34m:\u001b[0m \u001b[0mTrainingArguments\u001b[0m\u001b[0;34m,\u001b[0m \u001b[0mstate\u001b[0m\u001b[0;34m:\u001b[0m \u001b[0mTrainerState\u001b[0m\u001b[0;34m,\u001b[0m \u001b[0mcontrol\u001b[0m\u001b[0;34m:\u001b[0m \u001b[0mTrainerControl\u001b[0m\u001b[0;34m)\u001b[0m\u001b[0;34m:\u001b[0m\u001b[0;34m\u001b[0m\u001b[0;34m\u001b[0m\u001b[0m\n",
            "\u001b[0;32m/usr/local/lib/python3.8/dist-packages/transformers/trainer_callback.py\u001b[0m in \u001b[0;36mcall_event\u001b[0;34m(self, event, args, state, control, **kwargs)\u001b[0m\n\u001b[1;32m    395\u001b[0m     \u001b[0;32mdef\u001b[0m \u001b[0mcall_event\u001b[0m\u001b[0;34m(\u001b[0m\u001b[0mself\u001b[0m\u001b[0;34m,\u001b[0m \u001b[0mevent\u001b[0m\u001b[0;34m,\u001b[0m \u001b[0margs\u001b[0m\u001b[0;34m,\u001b[0m \u001b[0mstate\u001b[0m\u001b[0;34m,\u001b[0m \u001b[0mcontrol\u001b[0m\u001b[0;34m,\u001b[0m \u001b[0;34m**\u001b[0m\u001b[0mkwargs\u001b[0m\u001b[0;34m)\u001b[0m\u001b[0;34m:\u001b[0m\u001b[0;34m\u001b[0m\u001b[0;34m\u001b[0m\u001b[0m\n\u001b[1;32m    396\u001b[0m         \u001b[0;32mfor\u001b[0m \u001b[0mcallback\u001b[0m \u001b[0;32min\u001b[0m \u001b[0mself\u001b[0m\u001b[0;34m.\u001b[0m\u001b[0mcallbacks\u001b[0m\u001b[0;34m:\u001b[0m\u001b[0;34m\u001b[0m\u001b[0;34m\u001b[0m\u001b[0m\n\u001b[0;32m--> 397\u001b[0;31m             result = getattr(callback, event)(\n\u001b[0m\u001b[1;32m    398\u001b[0m                 \u001b[0margs\u001b[0m\u001b[0;34m,\u001b[0m\u001b[0;34m\u001b[0m\u001b[0;34m\u001b[0m\u001b[0m\n\u001b[1;32m    399\u001b[0m                 \u001b[0mstate\u001b[0m\u001b[0;34m,\u001b[0m\u001b[0;34m\u001b[0m\u001b[0;34m\u001b[0m\u001b[0m\n",
            "\u001b[0;32m/usr/local/lib/python3.8/dist-packages/transformers/integrations.py\u001b[0m in \u001b[0;36mon_train_begin\u001b[0;34m(self, args, state, control, model, **kwargs)\u001b[0m\n\u001b[1;32m    745\u001b[0m             \u001b[0margs\u001b[0m\u001b[0;34m.\u001b[0m\u001b[0mrun_name\u001b[0m \u001b[0;34m=\u001b[0m \u001b[0;32mNone\u001b[0m\u001b[0;34m\u001b[0m\u001b[0;34m\u001b[0m\u001b[0m\n\u001b[1;32m    746\u001b[0m         \u001b[0;32mif\u001b[0m \u001b[0;32mnot\u001b[0m \u001b[0mself\u001b[0m\u001b[0;34m.\u001b[0m\u001b[0m_initialized\u001b[0m\u001b[0;34m:\u001b[0m\u001b[0;34m\u001b[0m\u001b[0;34m\u001b[0m\u001b[0m\n\u001b[0;32m--> 747\u001b[0;31m             \u001b[0mself\u001b[0m\u001b[0;34m.\u001b[0m\u001b[0msetup\u001b[0m\u001b[0;34m(\u001b[0m\u001b[0margs\u001b[0m\u001b[0;34m,\u001b[0m \u001b[0mstate\u001b[0m\u001b[0;34m,\u001b[0m \u001b[0mmodel\u001b[0m\u001b[0;34m,\u001b[0m \u001b[0;34m**\u001b[0m\u001b[0mkwargs\u001b[0m\u001b[0;34m)\u001b[0m\u001b[0;34m\u001b[0m\u001b[0;34m\u001b[0m\u001b[0m\n\u001b[0m\u001b[1;32m    748\u001b[0m \u001b[0;34m\u001b[0m\u001b[0m\n\u001b[1;32m    749\u001b[0m     \u001b[0;32mdef\u001b[0m \u001b[0mon_train_end\u001b[0m\u001b[0;34m(\u001b[0m\u001b[0mself\u001b[0m\u001b[0;34m,\u001b[0m \u001b[0margs\u001b[0m\u001b[0;34m,\u001b[0m \u001b[0mstate\u001b[0m\u001b[0;34m,\u001b[0m \u001b[0mcontrol\u001b[0m\u001b[0;34m,\u001b[0m \u001b[0mmodel\u001b[0m\u001b[0;34m=\u001b[0m\u001b[0;32mNone\u001b[0m\u001b[0;34m,\u001b[0m \u001b[0mtokenizer\u001b[0m\u001b[0;34m=\u001b[0m\u001b[0;32mNone\u001b[0m\u001b[0;34m,\u001b[0m \u001b[0;34m**\u001b[0m\u001b[0mkwargs\u001b[0m\u001b[0;34m)\u001b[0m\u001b[0;34m:\u001b[0m\u001b[0;34m\u001b[0m\u001b[0;34m\u001b[0m\u001b[0m\n",
            "\u001b[0;32m/usr/local/lib/python3.8/dist-packages/transformers/integrations.py\u001b[0m in \u001b[0;36msetup\u001b[0;34m(self, args, state, model, **kwargs)\u001b[0m\n\u001b[1;32m    719\u001b[0m             \u001b[0;32mif\u001b[0m \u001b[0mself\u001b[0m\u001b[0;34m.\u001b[0m\u001b[0m_wandb\u001b[0m\u001b[0;34m.\u001b[0m\u001b[0mrun\u001b[0m \u001b[0;32mis\u001b[0m \u001b[0;32mNone\u001b[0m\u001b[0;34m:\u001b[0m\u001b[0;34m\u001b[0m\u001b[0;34m\u001b[0m\u001b[0m\n\u001b[1;32m    720\u001b[0m \u001b[0;34m\u001b[0m\u001b[0m\n\u001b[0;32m--> 721\u001b[0;31m                 self._wandb.init(\n\u001b[0m\u001b[1;32m    722\u001b[0m                     \u001b[0mproject\u001b[0m\u001b[0;34m=\u001b[0m\u001b[0mos\u001b[0m\u001b[0;34m.\u001b[0m\u001b[0mgetenv\u001b[0m\u001b[0;34m(\u001b[0m\u001b[0;34m\"WANDB_PROJECT\"\u001b[0m\u001b[0;34m,\u001b[0m \u001b[0;34m\"huggingface\"\u001b[0m\u001b[0;34m)\u001b[0m\u001b[0;34m,\u001b[0m\u001b[0;34m\u001b[0m\u001b[0;34m\u001b[0m\u001b[0m\n\u001b[1;32m    723\u001b[0m                     \u001b[0;34m**\u001b[0m\u001b[0minit_args\u001b[0m\u001b[0;34m,\u001b[0m\u001b[0;34m\u001b[0m\u001b[0;34m\u001b[0m\u001b[0m\n",
            "\u001b[0;32m/usr/local/lib/python3.8/dist-packages/wandb/sdk/wandb_init.py\u001b[0m in \u001b[0;36minit\u001b[0;34m(job_type, dir, config, project, entity, reinit, tags, group, name, notes, magic, config_exclude_keys, config_include_keys, anonymous, mode, allow_val_change, resume, force, tensorboard, sync_tensorboard, monitor_gym, save_code, id, settings)\u001b[0m\n\u001b[1;32m   1143\u001b[0m             \u001b[0;32mif\u001b[0m \u001b[0mexcept_exit\u001b[0m\u001b[0;34m:\u001b[0m\u001b[0;34m\u001b[0m\u001b[0;34m\u001b[0m\u001b[0m\n\u001b[1;32m   1144\u001b[0m                 \u001b[0mos\u001b[0m\u001b[0;34m.\u001b[0m\u001b[0m_exit\u001b[0m\u001b[0;34m(\u001b[0m\u001b[0;36m1\u001b[0m\u001b[0;34m)\u001b[0m\u001b[0;34m\u001b[0m\u001b[0;34m\u001b[0m\u001b[0m\n\u001b[0;32m-> 1145\u001b[0;31m             \u001b[0;32mraise\u001b[0m \u001b[0mException\u001b[0m\u001b[0;34m(\u001b[0m\u001b[0;34m\"problem\"\u001b[0m\u001b[0;34m)\u001b[0m \u001b[0;32mfrom\u001b[0m \u001b[0merror_seen\u001b[0m\u001b[0;34m\u001b[0m\u001b[0;34m\u001b[0m\u001b[0m\n\u001b[0m\u001b[1;32m   1146\u001b[0m     \u001b[0;32mreturn\u001b[0m \u001b[0mrun\u001b[0m\u001b[0;34m\u001b[0m\u001b[0;34m\u001b[0m\u001b[0m\n",
            "\u001b[0;31mException\u001b[0m: problem"
          ]
        }
      ]
    },
    {
      "cell_type": "markdown",
      "source": [
        "## option 2\n",
        "https://towardsdatascience.com/19-entities-for-104-languages-a-new-era-of-ner-with-the-deeppavlov-multilingual-bert-1bfa6d413ea6"
      ],
      "metadata": {
        "id": "aqtAVlPgs_Vz"
      }
    },
    {
      "cell_type": "code",
      "source": [
        "import sys\n",
        "!{sys.executable} -m pip install --user deeppavlov"
      ],
      "metadata": {
        "id": "OSZNdoD4o7lk"
      },
      "execution_count": null,
      "outputs": []
    },
    {
      "cell_type": "code",
      "source": [
        "!pip install pytorch-crf"
      ],
      "metadata": {
        "id": "5ySyYD2Ns0NV"
      },
      "execution_count": null,
      "outputs": []
    },
    {
      "cell_type": "code",
      "source": [
        "from torchcrf import CRF"
      ],
      "metadata": {
        "id": "cQXwEUEHtgpM"
      },
      "execution_count": null,
      "outputs": []
    },
    {
      "cell_type": "code",
      "source": [
        "from deeppavlov import configs, build_model\n",
        "\n",
        "ner_model = build_model(configs.ner.ner_ontonotes_bert_mult, download=True)"
      ],
      "metadata": {
        "id": "ZZxIhgNgo7Vy"
      },
      "execution_count": null,
      "outputs": []
    },
    {
      "cell_type": "code",
      "source": [
        "ner_model(['Business Publications \\n Le Contrat de Vente International '])"
      ],
      "metadata": {
        "id": "iJnvEXphyeFj"
      },
      "execution_count": null,
      "outputs": []
    },
    {
      "cell_type": "code",
      "source": [
        "ner_model([\"Business Publications \\n Le Contrat de Vente International est utilisé par des sociétés implantées dans différents pays pour la vente et l’achat de marchandises. L’exportateur (vendeur) s'engage à livrer certains produits et l’importateur (acheteur) s'engage à les acquérir dans les conditions de paiement\" ])"
      ],
      "metadata": {
        "id": "yQBBfJSxvPvj"
      },
      "execution_count": null,
      "outputs": []
    },
    {
      "cell_type": "markdown",
      "source": [
        "![Capture.PNG](data:image/png;base64,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)"
      ],
      "metadata": {
        "id": "nF3_NK00ypVV"
      }
    },
    {
      "cell_type": "code",
      "source": [],
      "metadata": {
        "id": "e-x4kteZ8U-b"
      },
      "execution_count": null,
      "outputs": []
    },
    {
      "cell_type": "markdown",
      "source": [
        "## Option 3\n",
        "https://medium.com/@andrewmarmon/fine-tuned-named-entity-recognition-with-hugging-face-bert-d51d4cb3d7b5"
      ],
      "metadata": {
        "id": "JNC3mO_M8V8L"
      }
    },
    {
      "cell_type": "code",
      "source": [
        "!git clone https://github.com/leslie-huang/UN-named-entity-recognition"
      ],
      "metadata": {
        "id": "ajPX6I368Ym6"
      },
      "execution_count": null,
      "outputs": []
    },
    {
      "cell_type": "code",
      "source": [
        "directory= '/content/UN-named-entity-recognition/tagged-training'\n",
        "df = pd.concat([get_tokens_and_ner_tags(os.path.join(directory, filename)) for filename in os.listdir(directory)]).reset_index().drop('index', axis=1)\n",
        "df.head()"
      ],
      "metadata": {
        "id": "HRF-vHX8JTz9"
      },
      "execution_count": null,
      "outputs": []
    },
    {
      "cell_type": "code",
      "source": [
        "!pip install transformers\n",
        "!pip install datasets\n",
        "!pip install seqeval"
      ],
      "metadata": {
        "id": "9CYrU2HFNiCU"
      },
      "execution_count": null,
      "outputs": []
    },
    {
      "cell_type": "code",
      "source": [
        "import os\n",
        "import itertools\n",
        "import pandas as pd\n",
        "import numpy as np\n",
        "from datasets import Dataset\n",
        "from datasets import load_metric\n",
        "from transformers import AutoTokenizer\n",
        "from transformers import AutoModelForTokenClassification, TrainingArguments, Trainer\n",
        "from transformers import DataCollatorForTokenClassification\n",
        "import torch\n",
        "\n",
        "label_list = ['O','B-MISC','I-MISC','B-PER','I-PER','B-ORG','I-ORG','B-LOC','I-LOC']\n",
        "label_encoding_dict = {'I-PRG': 2,'I-I-MISC': 2, 'I-OR': 6, 'O': 0, 'I-': 0, 'VMISC': 0, 'B-PER': 3, 'I-PER': 4, 'B-ORG': 5, 'I-ORG': 6, 'B-LOC': 7, 'I-LOC': 8, 'B-MISC': 1, 'I-MISC': 2}\n",
        "\n",
        "task = \"ner\" \n",
        "model_checkpoint = \"distilbert-base-uncased\"\n",
        "batch_size = 16\n",
        "    \n",
        "tokenizer = AutoTokenizer.from_pretrained(model_checkpoint)\n",
        "\n",
        "def get_all_tokens_and_ner_tags(directory):\n",
        "    return pd.concat([get_tokens_and_ner_tags(os.path.join(directory, filename)) for filename in os.listdir(directory)]).reset_index().drop('index', axis=1)\n",
        "    \n",
        "def get_tokens_and_ner_tags(filename):\n",
        "    with open(filename, 'r', encoding=\"utf8\") as f:\n",
        "        lines = f.readlines()\n",
        "        split_list = [list(y) for x, y in itertools.groupby(lines, lambda z: z == '\\n') if not x]\n",
        "        tokens = [[x.split('\\t')[0] for x in y] for y in split_list]\n",
        "        entities = [[x.split('\\t')[1][:-1] for x in y] for y in split_list] \n",
        "    return pd.DataFrame({'tokens': tokens, 'ner_tags': entities})\n",
        "  \n",
        "def get_un_token_dataset(train_directory, test_directory):\n",
        "    train_df = get_all_tokens_and_ner_tags(train_directory)\n",
        "    test_df = get_all_tokens_and_ner_tags(test_directory)\n",
        "    train_dataset = Dataset.from_pandas(train_df)\n",
        "    test_dataset = Dataset.from_pandas(test_df)\n",
        "\n",
        "    return (train_dataset, test_dataset)\n",
        "\n",
        "train_dataset, test_dataset = get_un_token_dataset('./UN-named-entity-recognition/tagged-training/', './UN-named-entity-recognition/tagged-test/')"
      ],
      "metadata": {
        "id": "jAqz0ws4PtFN"
      },
      "execution_count": null,
      "outputs": []
    },
    {
      "cell_type": "code",
      "source": [
        "train_dataset"
      ],
      "metadata": {
        "id": "0zo43caWQF-g"
      },
      "execution_count": null,
      "outputs": []
    },
    {
      "cell_type": "code",
      "source": [
        "def tokenize_and_align_labels(examples):\n",
        "    label_all_tokens = True\n",
        "    tokenized_inputs = tokenizer(list(examples[\"tokens\"]), truncation=True, is_split_into_words=True)\n",
        "\n",
        "    labels = []\n",
        "    for i, label in enumerate(examples[f\"{task}_tags\"]):\n",
        "        word_ids = tokenized_inputs.word_ids(batch_index=i)\n",
        "        previous_word_idx = None\n",
        "        label_ids = []\n",
        "        for word_idx in word_ids:\n",
        "            if word_idx is None:\n",
        "                label_ids.append(-100)\n",
        "            elif label[word_idx] == '0':\n",
        "                label_ids.append(0)\n",
        "            elif word_idx != previous_word_idx:\n",
        "                label_ids.append(label_encoding_dict[label[word_idx]])\n",
        "            else:\n",
        "                label_ids.append(label_encoding_dict[label[word_idx]] if label_all_tokens else -100)\n",
        "            previous_word_idx = word_idx\n",
        "        labels.append(label_ids)\n",
        "        \n",
        "    tokenized_inputs[\"labels\"] = labels\n",
        "    return tokenized_inputs\n",
        "\n",
        "\n",
        "train_tokenized_datasets = train_dataset.map(tokenize_and_align_labels, batched=True)\n",
        "test_tokenized_datasets = test_dataset.map(tokenize_and_align_labels, batched=True)"
      ],
      "metadata": {
        "id": "1jo5Y5VzQ16Z"
      },
      "execution_count": null,
      "outputs": []
    },
    {
      "cell_type": "code",
      "source": [
        "train_tokenized_datasets"
      ],
      "metadata": {
        "id": "8ynxIwCAQ5FP"
      },
      "execution_count": null,
      "outputs": []
    },
    {
      "cell_type": "markdown",
      "source": [
        "Each token has now been transformed into a numeric representation and each label has been mapped to those used in upstream training, all in Hugging Face data format."
      ],
      "metadata": {
        "id": "F9UyN1WjRNCj"
      }
    },
    {
      "cell_type": "code",
      "source": [
        "model = AutoModelForTokenClassification.from_pretrained(model_checkpoint, num_labels=len(label_list))\n",
        "\n",
        "args = TrainingArguments(\n",
        "    f\"test-{task}\",\n",
        "    evaluation_strategy = \"epoch\",\n",
        "    learning_rate=1e-4,\n",
        "    per_device_train_batch_size=batch_size,\n",
        "    per_device_eval_batch_size=batch_size,\n",
        "    num_train_epochs=3,\n",
        "    weight_decay=1e-5,\n",
        ")\n",
        "\n",
        "data_collator = DataCollatorForTokenClassification(tokenizer)\n",
        "metric = load_metric(\"seqeval\")\n",
        "\n",
        "\n",
        "def compute_metrics(p):\n",
        "    predictions, labels = p\n",
        "    predictions = np.argmax(predictions, axis=2)\n",
        "\n",
        "    true_predictions = [[label_list[p] for (p, l) in zip(prediction, label) if l != -100] for prediction, label in zip(predictions, labels)]\n",
        "    true_labels = [[label_list[l] for (p, l) in zip(prediction, label) if l != -100] for prediction, label in zip(predictions, labels)]\n",
        "\n",
        "    results = metric.compute(predictions=true_predictions, references=true_labels)\n",
        "    return {\"precision\": results[\"overall_precision\"], \"recall\": results[\"overall_recall\"], \"f1\": results[\"overall_f1\"], \"accuracy\": results[\"overall_accuracy\"]}\n",
        "    \n",
        "trainer = Trainer(\n",
        "    model,\n",
        "    args,\n",
        "    train_dataset=train_tokenized_datasets,\n",
        "    eval_dataset=test_tokenized_datasets,\n",
        "    data_collator=data_collator,\n",
        "    tokenizer=tokenizer,\n",
        "    compute_metrics=compute_metrics\n",
        ")\n",
        "\n",
        "trainer.train()\n",
        "trainer.evaluate()\n",
        "trainer.save_model('un-ner.model')"
      ],
      "metadata": {
        "id": "BHuxaI9zQ-LJ"
      },
      "execution_count": null,
      "outputs": []
    },
    {
      "cell_type": "code",
      "source": [
        "!wandb login --relogin '929b46c4abde3e31a2efcf8ebb022177b97c80e1'"
      ],
      "metadata": {
        "id": "GfXKkzubQ9-O"
      },
      "execution_count": null,
      "outputs": []
    },
    {
      "cell_type": "code",
      "source": [
        "tokenizer = AutoTokenizer.from_pretrained('./un-ner.model/')\n",
        "\n",
        "paragraph = '''Before proceeding further, I should like to inform members that action on draft resolution iv, entitled situation of human rights of Rohingya Muslims and other minorities in Myanmar is postponed to a later date to allow time for the review of its programme budget implications by the fifth committee. The assembly will take action on draft resolution iv as soon as the report of the fifth committee on the programme budget implications is available. I now give the floor to delegations wishing to deliver explanations of vote or position before voting or adoption.'''\n",
        "tokens = tokenizer(paragraph)\n",
        "torch.tensor(tokens['input_ids']).unsqueeze(0).size()\n",
        "\n",
        "model = AutoModelForTokenClassification.from_pretrained('./un-ner.model/', num_labels=len(label_list))\n",
        "preds = model.forward(input_ids=torch.tensor(tokens['input_ids']).unsqueeze(0), attention_mask=torch.tensor(tokens['attention_mask']).unsqueeze(0))\n",
        "preds = torch.argmax(preds.logits.squeeze(), axis=1)\n",
        "predictions = [label_list[i] for i in preds]\n",
        "\n",
        "words = tokenizer.batch_decode(tokens['input_ids'])\n",
        "pd.DataFrame({'ner': predictions, 'words': words}).to_csv('un_ner.csv')"
      ],
      "metadata": {
        "id": "Cum6HaHfluEN"
      },
      "execution_count": null,
      "outputs": []
    }
  ]
}