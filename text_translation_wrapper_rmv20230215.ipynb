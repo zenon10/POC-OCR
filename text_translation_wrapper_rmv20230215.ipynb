{
  "nbformat": 4,
  "nbformat_minor": 0,
  "metadata": {
    "colab": {
      "provenance": [],
      "mount_file_id": "1DG5SgQmvQtZfjVlKkK_BMvA0kP81Y0L-",
      "authorship_tag": "ABX9TyPRvIGWbdSkk3Ya78/keAaA",
      "include_colab_link": true
    },
    "kernelspec": {
      "name": "python3",
      "display_name": "Python 3"
    },
    "language_info": {
      "name": "python"
    }
  },
  "cells": [
    {
      "cell_type": "markdown",
      "metadata": {
        "id": "view-in-github",
        "colab_type": "text"
      },
      "source": [
        "<a href=\"https://colab.research.google.com/github/zenon10/POC-OCR/blob/main/text_translation_wrapper_rmv20230215.ipynb\" target=\"_parent\"><img src=\"https://colab.research.google.com/assets/colab-badge.svg\" alt=\"Open In Colab\"/></a>"
      ]
    },
    {
      "cell_type": "markdown",
      "source": [
        "## Installation"
      ],
      "metadata": {
        "id": "38rAByjdLnX8"
      }
    },
    {
      "cell_type": "code",
      "execution_count": null,
      "metadata": {
        "id": "1E1DMKogDOYM"
      },
      "outputs": [],
      "source": [
        "!python3 -m spacy download fr_core_news_sm\n",
        "\n",
        "!pip install transformers[sentencepiece]"
      ]
    },
    {
      "cell_type": "code",
      "source": [
        "import pandas as pd\n",
        "import os\n",
        "import spacy\n",
        "\n",
        "import fr_core_news_sm\n",
        "\n",
        "from transformers import pipeline"
      ],
      "metadata": {
        "id": "i3fx_c6mD4XI"
      },
      "execution_count": 7,
      "outputs": []
    },
    {
      "cell_type": "code",
      "source": [
        "spacy_model = fr_core_news_sm.load()\n",
        "translation_model = pipeline(\"text2text-generation\", model='Helsinki-NLP/opus-mt-fr-en')"
      ],
      "metadata": {
        "id": "XQRo5OtsEG3H"
      },
      "execution_count": null,
      "outputs": []
    },
    {
      "cell_type": "markdown",
      "source": [
        "## Functions"
      ],
      "metadata": {
        "id": "uPVhwW4RLzCK"
      }
    },
    {
      "cell_type": "code",
      "source": [
        "def text_translation(input_file_path, output_folder_path):\n",
        "    \n",
        "\n",
        "    if not os.path.exists(output_folder_path):\n",
        "        os.makedirs(output_folder_path )\n",
        "\n",
        "    if os.path.exists(input_file_path):\n",
        "        # print(\"Text extraction process starting for...\",input_file_path)\n",
        "        \n",
        "        file_name = os.path.basename(input_file_path).split('.')[0]\n",
        "        print('File_name: ', file_name)\n",
        "\n",
        "        text_file_name = output_folder_path + file_name + \".txt\"\n",
        "        print('tex_file_name: ', text_file_name)\n",
        "\n",
        "        with open(input_file_path,encoding=\"utf8\") as f:\n",
        "            txt=f.read()\n",
        "\n",
        "        doc = spacy_model(txt)\n",
        "        translated_string = ''\n",
        "        \n",
        "        for sentence in doc.sents:\n",
        "            # print(sentence.text)\n",
        "            # print(translation_model(sentence.text), '\\n')\n",
        "            # print(\"End of sentence...\", '\\n')\n",
        "            translated_string = translated_string + '\\n' + translation_model(sentence.text)[0]['generated_text']\n",
        "            \n",
        "            with open(text_file_name, 'w',encoding=\"utf8\") as f:\n",
        "                f.write(translated_string)\n",
        "    else:\n",
        "        raise ValueError(\"File does not exist!!\")\n",
        "\n",
        "    return text_file_name"
      ],
      "metadata": {
        "id": "EmgY9AdYEJ-W"
      },
      "execution_count": 9,
      "outputs": []
    },
    {
      "cell_type": "code",
      "source": [
        "def text_translation_wrapper(metadata_file_path, output_folder_path):\n",
        "    \n",
        "    metadata = pd.read_csv(metadata_file_path)\n",
        "    # print(metadata.head())\n",
        "    print(metadata.columns)\n",
        "\n",
        "    # # ## When metadata file does not have any column by the name 'doc_text_file_path', we will proceed with all the files \n",
        "    if 'translated_text_file_path' not in metadata.columns:\n",
        "        print(\"translated_text_file_path not present in metadata...proceeding with all the files\")\n",
        "\n",
        "        metadata.loc[:,'translated_text_file_path'] = metadata[\"text_file_path\"].apply(lambda x: text_translation(x, output_folder_path))\n",
        "    \n",
        "    # When metadata file has column by the name 'doc_text_file_path', we with process with only those files for which we dont have value in doc_text_file_path \n",
        "    else:\n",
        "        print(\"text_file_path present in metadata...proceeding with only those files for which text_file_path is missing\")\n",
        "        metadata_fil = metadata[(metadata['text_file_path']=='') | (metadata['text_file_path'].isnull())]\n",
        "        metadata_fil.loc[:,'translated_text_file_path'] = metadata_fil[\"text_file_path\"].apply(lambda x: text_translation(x, output_folder_path))\n",
        "        metadata = pd.concat([metadata[(metadata['translated_text_file_path']!='') & (metadata['translated_text_file_path'].notnull())], metadata_fil], ignore_index=True)\n",
        "\n",
        "    metadata.to_csv(metadata_file_path, index=False)\n"
      ],
      "metadata": {
        "id": "HkRiJilIENUS"
      },
      "execution_count": 10,
      "outputs": []
    },
    {
      "cell_type": "markdown",
      "source": [
        "## Testing"
      ],
      "metadata": {
        "id": "MxM_5ZbrMBFN"
      }
    },
    {
      "cell_type": "code",
      "source": [
        "metadata_file_path = r\"/content/drive/MyDrive/Zenon_POC_OCR/metadata.csv\"\n",
        "output_folder_path = \"/content/drive/MyDrive/Zenon_POC_OCR/2_output/\"\n",
        "text_translation_wrapper(metadata_file_path, output_folder_path)\n"
      ],
      "metadata": {
        "id": "mn-RrTKPERYo",
        "colab": {
          "base_uri": "https://localhost:8080/"
        },
        "outputId": "e377d0cd-f6e2-4a98-adb8-b707bf3355c5"
      },
      "execution_count": 11,
      "outputs": [
        {
          "output_type": "stream",
          "name": "stdout",
          "text": [
            "Index(['Unnamed: 0', 'Unnamed: 0.1', 'Unnamed: 0.1.1', 'input_file_path',\n",
            "       'text_file_path', 'confidence', 'translated_text_file_path'],\n",
            "      dtype='object')\n",
            "text_file_path present in metadata...proceeding with only those files for which text_file_path is missing\n"
          ]
        }
      ]
    },
    {
      "cell_type": "code",
      "source": [],
      "metadata": {
        "id": "uPzyqEeUoxsZ"
      },
      "execution_count": null,
      "outputs": []
    },
    {
      "cell_type": "code",
      "source": [],
      "metadata": {
        "id": "F0H5gSaKoxo1"
      },
      "execution_count": null,
      "outputs": []
    },
    {
      "cell_type": "code",
      "source": [],
      "metadata": {
        "id": "vjoRl45zoxmJ"
      },
      "execution_count": null,
      "outputs": []
    },
    {
      "cell_type": "code",
      "source": [],
      "metadata": {
        "id": "MMXyqv3RoxjT"
      },
      "execution_count": null,
      "outputs": []
    },
    {
      "cell_type": "code",
      "source": [
        "# #for matching 1 word\n",
        "# def match(word,clause):\n",
        "#     count = 0\n",
        "#     if '&' in word:\n",
        "#         words = word.split('&')\n",
        "#         for j in words: \n",
        "#             #print(doc[0].lemma_)\n",
        "#             if clause.__contains__(lem_word(j)):\n",
        "#                 count = count + 1\n",
        "#         flag = 1 if count == len(words) else 0\n",
        "#     else:\n",
        "#         flag = 1 if clause.__contains__(lem_word(word)) else 0\n",
        "#     return flag\n",
        "\n",
        "# #Matching a keywords list from clause \n",
        "# def match_keyword(string,clause):\n",
        "#     a = string.lower().split(',')\n",
        "#     keyword = [j.strip() for j in a]\n",
        "#     key_match = []\n",
        "#     for i in keyword:\n",
        "#         key_match.append(match(i,clause))\n",
        "#     print(key_match)"
      ],
      "metadata": {
        "id": "3bnooOKiEUsZ"
      },
      "execution_count": null,
      "outputs": []
    },
    {
      "cell_type": "code",
      "source": [
        "# a = \"\"\"Dans le délai de paiement sont incluses les phases de réception de la commande et de certification du \n",
        "#                     service fait par le service gestionnaire, de visa de la dépense (appelé aussi le mandatement) et de \n",
        "#                     règlement par le comptable public. En cas de dépassement du délai de paiement, des intérêts moratoires \n",
        "#                     sont versés au titulaire, calculés par application de la formule suivante : IM = M x J/365 x Taux IM + F ; \n",
        "#                     Dans laquelle : IM : montant des intérêts moratoires - M : montant TTC de la demande de paiement - Taux IM :\n",
        "#                     taux de la Banque Centrale Européenne en vigueur majoré de 8 points - J : nombre de jours calendaires entre \n",
        "#                     la date limite et la date réelle de paiement - F : forfait de 40 € de frais de recouvrement\"\"\"\n"
      ],
      "metadata": {
        "id": "qxLj1OrWP23b"
      },
      "execution_count": 14,
      "outputs": []
    },
    {
      "cell_type": "code",
      "source": [
        "# a=a.split(',')"
      ],
      "metadata": {
        "id": "_TaqljtMQup7"
      },
      "execution_count": 17,
      "outputs": []
    },
    {
      "cell_type": "code",
      "source": [
        "# for j in a:\n",
        "#     print(j)"
      ],
      "metadata": {
        "id": "QDrt43l9QnRf"
      },
      "execution_count": null,
      "outputs": []
    },
    {
      "cell_type": "code",
      "source": [
        "# import pandas as pd"
      ],
      "metadata": {
        "id": "dZsCmgdgtNo-"
      },
      "execution_count": 4,
      "outputs": []
    },
    {
      "cell_type": "code",
      "source": [
        "# df = pd.read_csv('/content/drive/MyDrive/Zenon_POC_OCR/std and non std classif.csv')"
      ],
      "metadata": {
        "id": "UMVSXO1os8yx"
      },
      "execution_count": 19,
      "outputs": []
    },
    {
      "cell_type": "code",
      "source": [
        "df"
      ],
      "metadata": {
        "id": "hgnIDEOzxAoK"
      },
      "execution_count": null,
      "outputs": []
    },
    {
      "cell_type": "code",
      "source": [
        "# df=df.fillna('')"
      ],
      "metadata": {
        "id": "QQO3fERB753j"
      },
      "execution_count": 21,
      "outputs": []
    },
    {
      "cell_type": "code",
      "source": [
        "# df['std/non-std'][1]"
      ],
      "metadata": {
        "colab": {
          "base_uri": "https://localhost:8080/",
          "height": 36
        },
        "id": "VOP67yUOTGVA",
        "outputId": "422edf73-4b7a-4fa6-88b2-efbf39c16092"
      },
      "execution_count": 22,
      "outputs": [
        {
          "output_type": "execute_result",
          "data": {
            "text/plain": [
              "'std'"
            ],
            "application/vnd.google.colaboratory.intrinsic+json": {
              "type": "string"
            }
          },
          "metadata": {},
          "execution_count": 22
        }
      ]
    },
    {
      "cell_type": "code",
      "source": [
        "# clause = \"\"\"Dans le délai de paiement sont incluses les phases de réception de la commande et de certification du \n",
        "#                     service fait par le service gestionnaire, de visa de la dépense (appelé aussi le mandatement) et de \n",
        "#                     règlement par le comptable public. En cas de dépassement du délai de paiement, des intérêts moratoires \n",
        "#                     sont versés au titulaire, calculés par application de la formule suivante : IM = M x J/365 x Taux IM + F ; \n",
        "#                     Dans laquelle : IM : montant des intérêts moratoires - M : montant TTC de la demande de paiement - Taux IM :\n",
        "#                     taux de la Banque Centrale Européenne en vigueur majoré de 8 points - J : nombre de jours calendaires entre \n",
        "#                     la date limite et la date réelle de paiement - F : forfait de 40 € de frais de recouvrement\"\"\"\n"
      ],
      "metadata": {
        "id": "2yPwNKKwTT2q"
      },
      "execution_count": 28,
      "outputs": []
    },
    {
      "cell_type": "code",
      "source": [
        "# def std/non-std_classifier(path_of_excel_file, clause):\n",
        "#     std = [clause]\n",
        "#     df = pd.read_csv(path_of_excel_file)\n",
        "#     for i in df['list of keywords for std/non-std']:\n",
        "\n",
        "\n"
      ],
      "metadata": {
        "id": "AvSwcDqcWwVQ"
      },
      "execution_count": null,
      "outputs": []
    },
    {
      "cell_type": "code",
      "source": [
        "# std = []\n",
        "# for i in df['list of keywords for std/non-std']:\n",
        "#     i = (i.split(','))\n",
        "#     if len(i) > 1:\n",
        "#         if i[-1] == 'or':\n",
        "#             count = 0\n",
        "#             if clause.__contains__('intérêts moratoires'):\n",
        "#                  count = count + 1\n",
        "#                  if count >= 1:\n",
        "#                      std.append(df['std/non-std'][1])\n",
        "\n",
        "#         elif i[-1] == 'and':\n",
        "#             count = 0\n",
        "#             if clause.__contains__('intérêts moratoires'):\n",
        "#                  count = count + 1\n",
        "#                  if count == len(i[:-1]):\n",
        "#                      std.append(df['std/non-std'][1])\n",
        "\n",
        "\n",
        "#     #  print((i[-1]))"
      ],
      "metadata": {
        "id": "lnRNanyDtKHG"
      },
      "execution_count": 31,
      "outputs": []
    },
    {
      "cell_type": "code",
      "source": [],
      "metadata": {
        "id": "NdZyKOvZ3_xe"
      },
      "execution_count": null,
      "outputs": []
    }
  ]
}