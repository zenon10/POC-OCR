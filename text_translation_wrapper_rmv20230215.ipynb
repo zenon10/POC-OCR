{
  "nbformat": 4,
  "nbformat_minor": 0,
  "metadata": {
    "colab": {
      "provenance": [],
      "authorship_tag": "ABX9TyOesoJAZBK/TNVdUvs9Wmzw",
      "include_colab_link": true
    },
    "kernelspec": {
      "name": "python3",
      "display_name": "Python 3"
    },
    "language_info": {
      "name": "python"
    }
  },
  "cells": [
    {
      "cell_type": "markdown",
      "metadata": {
        "id": "view-in-github",
        "colab_type": "text"
      },
      "source": [
        "<a href=\"https://colab.research.google.com/github/zenon10/POC-OCR/blob/main/text_translation_wrapper_rmv20230215.ipynb\" target=\"_parent\"><img src=\"https://colab.research.google.com/assets/colab-badge.svg\" alt=\"Open In Colab\"/></a>"
      ]
    },
    {
      "cell_type": "code",
      "execution_count": null,
      "metadata": {
        "id": "1E1DMKogDOYM"
      },
      "outputs": [],
      "source": [
        "!python3 -m spacy download fr_core_news_md\n",
        "\n",
        "!pip install transformers[sentencepiece]\n",
        "\n",
        "\n"
      ]
    },
    {
      "cell_type": "code",
      "source": [
        "import pandas as pd\n",
        "import os\n",
        "import spacy\n",
        "\n",
        "import fr_core_news_md\n",
        "\n",
        "from transformers import pipeline"
      ],
      "metadata": {
        "id": "i3fx_c6mD4XI"
      },
      "execution_count": null,
      "outputs": []
    },
    {
      "cell_type": "code",
      "source": [
        "spacy_model = fr_core_news_md.load()\n",
        "translation_model = pipeline(\"text2text-generation\", model='Helsinki-NLP/opus-mt-fr-en')"
      ],
      "metadata": {
        "id": "XQRo5OtsEG3H"
      },
      "execution_count": null,
      "outputs": []
    },
    {
      "cell_type": "code",
      "source": [
        "def text_translation(input_file_path, output_folder_path):\n",
        "    \n",
        "\n",
        "    if not os.path.exists(output_folder_path):\n",
        "        os.makedirs(output_folder_path )\n",
        "\n",
        "    if os.path.exists(input_file_path):\n",
        "        print(\"Text extraction process starting for...\",input_file_path)\n",
        "        \n",
        "        file_name = os.path.basename(input_file_path).split('.')[0]\n",
        "        print('File_name: ', file_name)\n",
        "\n",
        "        text_file_name = output_folder_path + file_name + \".txt\"\n",
        "        print('tex_file_name: ', text_file_name)\n",
        "\n",
        "        with open(input_file_path,encoding=\"utf8\") as f:\n",
        "            txt=f.read()\n",
        "\n",
        "        doc = spacy_model(txt)\n",
        "        translated_string = ''\n",
        "        \n",
        "        for sentence in doc.sents:\n",
        "            print(sentence.text)\n",
        "            print(translation_model(sentence.text), '\\n')\n",
        "            print(\"End of sentence...\", '\\n')\n",
        "            translated_string = translated_string + '\\n' + translation_model(sentence.text)[0]['generated_text']\n",
        "            \n",
        "            with open(text_file_name, 'w',encoding=\"utf8\") as f:\n",
        "                f.write(translated_string)\n",
        "    else:\n",
        "        raise ValueError(\"File does not exist!!\")\n",
        "\n",
        "    return text_file_name"
      ],
      "metadata": {
        "id": "EmgY9AdYEJ-W"
      },
      "execution_count": 1,
      "outputs": []
    },
    {
      "cell_type": "code",
      "source": [
        "def text_translation_wrapper(metadata_file_path, output_folder_path):\n",
        "    \n",
        "    metadata = pd.read_csv(metadata_file_path)\n",
        "    # print(metadata.head())\n",
        "    print(metadata.columns)\n",
        "\n",
        "    # # ## When metadata file does not have any column by the name 'doc_text_file_path', we will proceed with all the files \n",
        "    if 'translated_text_file_path' not in metadata.columns:\n",
        "        print(\"translated_text_file_path not present in metadata...proceeding with all the files\")\n",
        "\n",
        "        metadata.loc[:,'translated_text_file_path'] = metadata[\"text_file_path\"].apply(lambda x: text_translation(x, output_folder_path))\n",
        "    \n",
        "    # When metadata file has column by the name 'doc_text_file_path', we with process with only those files for which we dont have value in doc_text_file_path \n",
        "    else:\n",
        "        print(\"text_file_path present in metadata...proceeding with only those files for which text_file_path is missing\")\n",
        "        metadata_fil = metadata[(metadata['text_file_path']=='') | (metadata['text_file_path'].isnull())]\n",
        "        metadata_fil.loc[:,'translated_text_file_path'] = metadata_fil[\"text_file_path\"].apply(lambda x: text_translation(x, output_folder_path))\n",
        "        metadata = pd.concat([metadata[(metadata['translated_text_file_path']!='') & (metadata['translated_text_file_path'].notnull())], metadata_fil], ignore_index=True)\n",
        "\n",
        "    metadata.to_csv(metadata_file_path, index=False)\n"
      ],
      "metadata": {
        "id": "HkRiJilIENUS"
      },
      "execution_count": 2,
      "outputs": []
    },
    {
      "cell_type": "code",
      "source": [
        "metadata_file_path = r\"/content/drive/MyDrive/Zenon_POC_OCR/metadata.csv\"\n",
        "output_folder_path = \"/content/drive/MyDrive/Zenon_POC_OCR/2_output/\"\n",
        "text_translation(metadata_file_path, output_folder_path)\n"
      ],
      "metadata": {
        "id": "mn-RrTKPERYo"
      },
      "execution_count": null,
      "outputs": []
    },
    {
      "cell_type": "code",
      "source": [],
      "metadata": {
        "id": "3bnooOKiEUsZ"
      },
      "execution_count": null,
      "outputs": []
    }
  ]
}