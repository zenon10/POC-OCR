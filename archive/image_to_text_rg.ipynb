{
  "cells": [
    {
      "cell_type": "markdown",
      "metadata": {
        "id": "view-in-github",
        "colab_type": "text"
      },
      "source": [
        "<a href=\"https://colab.research.google.com/github/zenon10/POC-OCR/blob/main/image_to_text.ipynb\" target=\"_parent\"><img src=\"https://colab.research.google.com/assets/colab-badge.svg\" alt=\"Open In Colab\"/></a>"
      ]
    },
    {
      "cell_type": "code",
      "execution_count": null,
      "id": "964f6aef-7910-4e3b-901f-7d4dab4a4596",
      "metadata": {
        "id": "964f6aef-7910-4e3b-901f-7d4dab4a4596"
      },
      "outputs": [],
      "source": [
        "import os\n",
        "import glob\n",
        "import pandas as pd\n",
        "from PIL import Image\n",
        "import pytesseract\n",
        "\n",
        "# If you don't have tesseract executable in your PATH, include the following:\n",
        "pytesseract.pytesseract.tesseract_cmd = r'C:\\Users\\RiyaGupta\\AppData\\Local\\Programs\\Tesseract-OCR\\tesseract.exe'"
      ]
    },
    {
      "cell_type": "code",
      "execution_count": null,
      "id": "d63a9c26-caf9-44c1-a02e-5dbbc675ac6c",
      "metadata": {
        "id": "d63a9c26-caf9-44c1-a02e-5dbbc675ac6c"
      },
      "outputs": [],
      "source": [
        "def image_to_txt(image_path, language, txt_path):\n",
        "    path = glob.glob(image_path + \"/*.jpg\")\n",
        "    df = pd.DataFrame(columns=['Image_path','txt_path', 'Language'])\n",
        "    \n",
        "    for img in path:\n",
        "        file_name = os.path.basename(img)[:-4]\n",
        "        text = pytesseract.image_to_string(Image.open(img), lang=language)\n",
        "        with open(txt_path + file_name +'.txt', \"w\",encoding=\"utf8\") as f:\n",
        "            f.write(text)\n",
        "        df.loc[len(df.index)] = [img, txt_path + file_name +'.txt', language]\n",
        "        # Open a file with access mode 'a'\n",
        "        file_object = open('result.txt', 'a',encoding=\"utf8\")\n",
        "        file_object.write(text+'\\t\\t')\n",
        "    file_object.close()\n",
        "    return df"
      ]
    },
    {
      "cell_type": "code",
      "execution_count": null,
      "id": "1d953ac2-9953-4f25-8b4e-0a6a5399dc77",
      "metadata": {
        "id": "1d953ac2-9953-4f25-8b4e-0a6a5399dc77",
        "outputId": "fabf9b31-ccb8-440f-8ddd-0cee398a2db8"
      },
      "outputs": [
        {
          "data": {
            "text/html": [
              "<div>\n",
              "<style scoped>\n",
              "    .dataframe tbody tr th:only-of-type {\n",
              "        vertical-align: middle;\n",
              "    }\n",
              "\n",
              "    .dataframe tbody tr th {\n",
              "        vertical-align: top;\n",
              "    }\n",
              "\n",
              "    .dataframe thead th {\n",
              "        text-align: right;\n",
              "    }\n",
              "</style>\n",
              "<table border=\"1\" class=\"dataframe\">\n",
              "  <thead>\n",
              "    <tr style=\"text-align: right;\">\n",
              "      <th></th>\n",
              "      <th>Image_path</th>\n",
              "      <th>txt_path</th>\n",
              "      <th>Language</th>\n",
              "    </tr>\n",
              "  </thead>\n",
              "  <tbody>\n",
              "    <tr>\n",
              "      <th>0</th>\n",
              "      <td>images/it1\\it1_page-0001.jpg</td>\n",
              "      <td>text/it1/it1_page-0001.txt</td>\n",
              "      <td>ita</td>\n",
              "    </tr>\n",
              "    <tr>\n",
              "      <th>1</th>\n",
              "      <td>images/it1\\it1_page-0002.jpg</td>\n",
              "      <td>text/it1/it1_page-0002.txt</td>\n",
              "      <td>ita</td>\n",
              "    </tr>\n",
              "    <tr>\n",
              "      <th>2</th>\n",
              "      <td>images/it1\\it1_page-0003.jpg</td>\n",
              "      <td>text/it1/it1_page-0003.txt</td>\n",
              "      <td>ita</td>\n",
              "    </tr>\n",
              "    <tr>\n",
              "      <th>3</th>\n",
              "      <td>images/it1\\it1_page-0004.jpg</td>\n",
              "      <td>text/it1/it1_page-0004.txt</td>\n",
              "      <td>ita</td>\n",
              "    </tr>\n",
              "    <tr>\n",
              "      <th>4</th>\n",
              "      <td>images/it1\\it1_page-0005.jpg</td>\n",
              "      <td>text/it1/it1_page-0005.txt</td>\n",
              "      <td>ita</td>\n",
              "    </tr>\n",
              "    <tr>\n",
              "      <th>5</th>\n",
              "      <td>images/it1\\it1_page-0006.jpg</td>\n",
              "      <td>text/it1/it1_page-0006.txt</td>\n",
              "      <td>ita</td>\n",
              "    </tr>\n",
              "  </tbody>\n",
              "</table>\n",
              "</div>"
            ],
            "text/plain": [
              "                     Image_path                    txt_path Language\n",
              "0  images/it1\\it1_page-0001.jpg  text/it1/it1_page-0001.txt      ita\n",
              "1  images/it1\\it1_page-0002.jpg  text/it1/it1_page-0002.txt      ita\n",
              "2  images/it1\\it1_page-0003.jpg  text/it1/it1_page-0003.txt      ita\n",
              "3  images/it1\\it1_page-0004.jpg  text/it1/it1_page-0004.txt      ita\n",
              "4  images/it1\\it1_page-0005.jpg  text/it1/it1_page-0005.txt      ita\n",
              "5  images/it1\\it1_page-0006.jpg  text/it1/it1_page-0006.txt      ita"
            ]
          },
          "execution_count": 6,
          "metadata": {},
          "output_type": "execute_result"
        }
      ],
      "source": [
        "image_path = 'images/it1'\n",
        "language = 'ita'\n",
        "txt_path = 'text/it1/'\n",
        "df = image_to_txt(image_path, language, txt_path) ; df"
      ]
    }
  ],
  "metadata": {
    "kernelspec": {
      "display_name": "Python 3 (ipykernel)",
      "language": "python",
      "name": "python3"
    },
    "language_info": {
      "codemirror_mode": {
        "name": "ipython",
        "version": 3
      },
      "file_extension": ".py",
      "mimetype": "text/x-python",
      "name": "python",
      "nbconvert_exporter": "python",
      "pygments_lexer": "ipython3",
      "version": "3.9.13"
    },
    "colab": {
      "provenance": [],
      "include_colab_link": true
    }
  },
  "nbformat": 4,
  "nbformat_minor": 5
}
