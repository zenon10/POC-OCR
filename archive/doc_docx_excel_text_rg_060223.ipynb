{
  "nbformat": 4,
  "nbformat_minor": 0,
  "metadata": {
    "colab": {
      "provenance": [],
      "authorship_tag": "ABX9TyNVYpninPx/QM3VI066ccOF",
      "include_colab_link": true
    },
    "kernelspec": {
      "name": "python3",
      "display_name": "Python 3"
    },
    "language_info": {
      "name": "python"
    }
  },
  "cells": [
    {
      "cell_type": "markdown",
      "metadata": {
        "id": "view-in-github",
        "colab_type": "text"
      },
      "source": [
        "<a href=\"https://colab.research.google.com/github/zenon10/POC-OCR/blob/main/doc_docx_excel_text_rg_060223.ipynb\" target=\"_parent\"><img src=\"https://colab.research.google.com/assets/colab-badge.svg\" alt=\"Open In Colab\"/></a>"
      ]
    },
    {
      "cell_type": "code",
      "execution_count": null,
      "metadata": {
        "id": "m9LbBdhNxAFJ"
      },
      "outputs": [],
      "source": [
        "from google.colab import drive\n",
        "drive.mount('/content/drive')"
      ]
    },
    {
      "cell_type": "code",
      "source": [
        "! git clone https://github.com/zenon10/POC-OCR"
      ],
      "metadata": {
        "id": "VcVVpbYoxS01"
      },
      "execution_count": null,
      "outputs": []
    },
    {
      "cell_type": "code",
      "source": [],
      "metadata": {
        "id": "F5VPO6z4UJlb"
      },
      "execution_count": null,
      "outputs": []
    },
    {
      "cell_type": "markdown",
      "source": [
        "##textract"
      ],
      "metadata": {
        "id": "r4bgGL4JX3BQ"
      }
    },
    {
      "cell_type": "code",
      "source": [
        "!apt-get install python-dev libxml2-dev libxslt1-dev antiword unrtf poppler-utils \\\n",
        "     pstotext tesseract-ocr \\\n",
        "     flac ffmpeg lame libmad0 libsox-fmt-mp3 sox libjpeg-dev swig libasound2-dev libpulse-dev\n",
        "!pip install git+https://github.com/deanmalmgren/textract"
      ],
      "metadata": {
        "id": "2m5KYaSXW2mN"
      },
      "execution_count": null,
      "outputs": []
    },
    {
      "cell_type": "code",
      "source": [
        "import textract\n",
        "#from bs4 import BeautifulSoup\n",
        "# soup = BeautifulSoup(docx_text)\n",
        "# print(soup.get_text())"
      ],
      "metadata": {
        "id": "5GW4UW5Sjm8p"
      },
      "execution_count": null,
      "outputs": []
    },
    {
      "cell_type": "markdown",
      "source": [
        "### Docx"
      ],
      "metadata": {
        "id": "KFFRMLOtk6Qn"
      }
    },
    {
      "cell_type": "code",
      "source": [
        "docx_text = textract.process(\"/content/POC-OCR/raw_data/french/f2.docx\") \n",
        "print(docx_text.decode('utf8', 'strict'))\n",
        "with open('docx.txt', \"w\") as f:\n",
        "  f.write(docx_text.decode('utf8', 'strict'))"
      ],
      "metadata": {
        "id": "9Y0aMfU22arl"
      },
      "execution_count": null,
      "outputs": []
    },
    {
      "cell_type": "markdown",
      "source": [
        "### Doc"
      ],
      "metadata": {
        "id": "IGlv0OwLlL-7"
      }
    },
    {
      "cell_type": "code",
      "source": [
        "doc_text = textract.process(\"/content/POC-OCR/raw_data/french/f2.doc\") \n",
        "print(doc_text.decode('utf8', 'strict'))\n",
        "with open('doc.txt', \"w\") as f:\n",
        "  f.write(doc_text.decode('utf8', 'strict'))"
      ],
      "metadata": {
        "id": "VxZQuTZJQyLY"
      },
      "execution_count": null,
      "outputs": []
    },
    {
      "cell_type": "markdown",
      "source": [
        "### excel"
      ],
      "metadata": {
        "id": "rjxes5xmlWI8"
      }
    },
    {
      "cell_type": "code",
      "source": [
        "excel_text = textract.process(\"/content/POC-OCR/raw_data/french/f2.xlsx\") \n",
        "print(excel_text.decode('utf8', 'strict'))\n",
        "with open('excel.txt', \"w\") as f:\n",
        "  f.write(excel_text.decode('utf8', 'strict'))"
      ],
      "metadata": {
        "id": "sfGD-aBTcB7a"
      },
      "execution_count": null,
      "outputs": []
    }
  ]
}
