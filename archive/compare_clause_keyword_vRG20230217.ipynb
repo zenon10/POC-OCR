{
  "cells": [
    {
      "cell_type": "markdown",
      "metadata": {
        "id": "view-in-github",
        "colab_type": "text"
      },
      "source": [
        "<a href=\"https://colab.research.google.com/github/zenon10/POC-OCR/blob/main/compare_clause_keyword_vRG20230217.ipynb\" target=\"_parent\"><img src=\"https://colab.research.google.com/assets/colab-badge.svg\" alt=\"Open In Colab\"/></a>"
      ]
    },
    {
      "cell_type": "code",
      "execution_count": null,
      "metadata": {
        "id": "eiW5Dw3POKzr"
      },
      "outputs": [],
      "source": [
        "import pandas as pd\n",
        "import numpy as np\n",
        "import string\n",
        "import re\n",
        "import spacy\n",
        "def lem_word(word):\n",
        "    spacy_model = spacy.load(\"fr_core_news_sm\")\n",
        "    doc = spacy_model(word)\n",
        "    return doc[0].lemma_"
      ]
    },
    {
      "cell_type": "code",
      "execution_count": null,
      "metadata": {
        "id": "hk0ohjguOKz4"
      },
      "outputs": [],
      "source": [
        "#for matching 1 word\n",
        "def match(word,clause):\n",
        "    count = 0\n",
        "    if '&' in word:\n",
        "        words = word.split('&')\n",
        "        for j in words: \n",
        "            #print(doc[0].lemma_)\n",
        "            if clause.__contains__(lem_word(j)):\n",
        "                count = count + 1\n",
        "        flag = 1 if count == len(words) else 0\n",
        "    else:\n",
        "        flag = 1 if clause.__contains__(lem_word(word)) else 0\n",
        "    return flag\n",
        "\n",
        "#Matching a keywords list from clause \n",
        "def match_keyword(string,clause):\n",
        "    a = string.lower().split(',')\n",
        "    keyword = [j.strip() for j in a]\n",
        "    key_match = []\n",
        "    for i in keyword:\n",
        "        key_match.append(match(i,clause))\n",
        "    print(key_match)"
      ]
    },
    {
      "cell_type": "code",
      "execution_count": null,
      "metadata": {
        "id": "SCFhvqAgOKz6"
      },
      "outputs": [],
      "source": [
        "delay_penalty_fr = \"\"\"Dans le délai de paiement sont incluses les phases de réception de la commande et de certification du \n",
        "                    service fait par le service gestionnaire, de visa de la dépense (appelé aussi le mandatement) et de \n",
        "                    règlement par le comptable public. En cas de dépassement du délai de paiement, des intérêts moratoires \n",
        "                    sont versés au titulaire, calculés par application de la formule suivante : IM = M x J/365 x Taux IM + F ; \n",
        "                    Dans laquelle : IM : montant des intérêts moratoires - M : montant TTC de la demande de paiement - Taux IM :\n",
        "                    taux de la Banque Centrale Européenne en vigueur majoré de 8 points - J : nombre de jours calendaires entre \n",
        "                    la date limite et la date réelle de paiement - F : forfait de 40 € de frais de recouvrement\"\"\"\n",
        "delay_penalty_fr = delay_penalty_fr.lower()"
      ]
    },
    {
      "cell_type": "code",
      "execution_count": null,
      "metadata": {
        "id": "qO7Ebtz7OKz8"
      },
      "outputs": [],
      "source": [
        "delivery_terms_fr= \"\"\"Le fournisseur retenu devra prévoir 2 dépôts : un sur le site du C.H., avenue de Verdun 36000 Châteauroux,\n",
        "                    et un autre sur le site du Blanc. Dans le cas où la pose d’implants nécessite l’utilisation d’un ancillaire,\n",
        "                    le fournisseur s’engage à sa mise à disposition gratuite, soit en prêt ponctuel, soit en dépôt permanent, \n",
        "                    tel que défini dans le tableau des lots annexé au présent CCTP. Le fournisseur devra préciser ses conditions \n",
        "                    de reprise et d’échange d’ancillaire en dépôt ou en prêt qui se révèlerait défectueux. Dans son offre, le \n",
        "                    candidat précisera la possibilité de mise à disposition d’armoires de stockage des dépôts le temps du \n",
        "                    marché Le cas échéant, une convention de prêt de matériel ancillaire et de mise à disposition d’implant \n",
        "                    sera établie entre le fournisseur et le Centre Hospitalier de Châteauroux-Le Blanc. La liste des articles \n",
        "                    déposés et leur valeur y seront jointes, de préférence sous format « Excel ». Ce dépôt fera l’objet d’un \n",
        "                    inventaire annuel contradictoire. Le fournisseur reste propriétaire du dépôt et demeure responsable de sa gestion, \n",
        "                    dont la gestion des péremptions. Toute mise en prêt ou dépôt, sans autorisation préalable de l’acheteur engage la \n",
        "                    responsabilité directe du fournisseur en matière de traçabilité et de matériovigilance, et ne pourra donner lieu à \n",
        "                    aucun paiement. Le renouvellement du dépôt et la facturation du dispositif médical sont effectués après émission d’un \n",
        "                    bon de commande par le Centre Hospitalier.\"\"\"\n",
        "delivery_terms_fr = delivery_terms_fr.lower()"
      ]
    },
    {
      "cell_type": "code",
      "execution_count": null,
      "metadata": {
        "id": "VbBIiKwwOKz_"
      },
      "outputs": [],
      "source": [
        "keyword_fr = \"pénalité, pénalités, pénalités&de&retard, interêts&moratoires, indemnité&forfaitaire, délai&contractuel, \\\n",
        "            mise&en&demeure, jours&de&retard, retard&paiement, dépassement&du&délai, dépassement&des&délais, pénalité&forfaitaire\"\n",
        "keyword1_fr = \"Dépôt&implants, dépôt&de&longue&durée, prêt&temporaire, mise&en&dépôt, dépôt&vente, mise&disposition, \\\n",
        "                contrat&de&mise&à&disposition, ancillaire, ancillaires\""
      ]
    },
    {
      "cell_type": "code",
      "execution_count": null,
      "metadata": {
        "id": "tJ1EsP2FOK0B"
      },
      "outputs": [],
      "source": [
        "match_keyword(keyword_fr,delay_penalty_fr)"
      ]
    }
  ],
  "metadata": {
    "language_info": {
      "name": "python"
    },
    "orig_nbformat": 4,
    "colab": {
      "provenance": [],
      "include_colab_link": true
    }
  },
  "nbformat": 4,
  "nbformat_minor": 0
}
