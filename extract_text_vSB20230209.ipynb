{
  "nbformat": 4,
  "nbformat_minor": 0,
  "metadata": {
    "colab": {
      "provenance": [],
      "include_colab_link": true
    },
    "kernelspec": {
      "name": "python3",
      "display_name": "Python 3"
    },
    "language_info": {
      "name": "python"
    }
  },
  "cells": [
    {
      "cell_type": "markdown",
      "metadata": {
        "id": "view-in-github",
        "colab_type": "text"
      },
      "source": [
        "<a href=\"https://colab.research.google.com/github/zenon10/POC-OCR/blob/main/extract_text_vSB20230209.ipynb\" target=\"_parent\"><img src=\"https://colab.research.google.com/assets/colab-badge.svg\" alt=\"Open In Colab\"/></a>"
      ]
    },
    {
      "cell_type": "markdown",
      "source": [
        "##**Installations**"
      ],
      "metadata": {
        "id": "fPlE02oDv9Te"
      }
    },
    {
      "cell_type": "code",
      "source": [
        "from google.colab import drive\n",
        "drive.mount('/content/drive')"
      ],
      "metadata": {
        "id": "84WW5hegkv2q",
        "colab": {
          "base_uri": "https://localhost:8080/"
        },
        "outputId": "d1d65279-4208-40cc-a6f2-3368367ec7bb"
      },
      "execution_count": 15,
      "outputs": [
        {
          "output_type": "stream",
          "name": "stdout",
          "text": [
            "Drive already mounted at /content/drive; to attempt to forcibly remount, call drive.mount(\"/content/drive\", force_remount=True).\n"
          ]
        }
      ]
    },
    {
      "cell_type": "code",
      "source": [
        "## For pdf\n",
        "! pip install pypdfium2"
      ],
      "metadata": {
        "id": "iiL2tzxOv8iT",
        "colab": {
          "base_uri": "https://localhost:8080/"
        },
        "outputId": "b0a60ae5-a125-4691-81f7-31eab810d82b"
      },
      "execution_count": 1,
      "outputs": [
        {
          "output_type": "stream",
          "name": "stdout",
          "text": [
            "Looking in indexes: https://pypi.org/simple, https://us-python.pkg.dev/colab-wheels/public/simple/\n",
            "Requirement already satisfied: pypdfium2 in /usr/local/lib/python3.8/dist-packages (3.20.1)\n"
          ]
        }
      ]
    },
    {
      "cell_type": "code",
      "source": [
        "!sudo apt install tesseract-ocr\n",
        "!pip install pytesseract\n",
        "\n",
        "#Explicitly for french language\n",
        "! sudo apt-get install tesseract-ocr-fra"
      ],
      "metadata": {
        "id": "7E6Zc4PnOXKQ",
        "colab": {
          "base_uri": "https://localhost:8080/"
        },
        "outputId": "a73fafe7-72ec-4631-c112-1e8c25101b03"
      },
      "execution_count": 2,
      "outputs": [
        {
          "output_type": "stream",
          "name": "stdout",
          "text": [
            "Reading package lists... Done\n",
            "Building dependency tree       \n",
            "Reading state information... Done\n",
            "tesseract-ocr is already the newest version (4.1.1-2build2).\n",
            "The following package was automatically installed and is no longer required:\n",
            "  libnvidia-common-510\n",
            "Use 'sudo apt autoremove' to remove it.\n",
            "0 upgraded, 0 newly installed, 0 to remove and 28 not upgraded.\n",
            "Looking in indexes: https://pypi.org/simple, https://us-python.pkg.dev/colab-wheels/public/simple/\n",
            "Requirement already satisfied: pytesseract in /usr/local/lib/python3.8/dist-packages (0.3.10)\n",
            "Requirement already satisfied: packaging>=21.3 in /usr/local/lib/python3.8/dist-packages (from pytesseract) (23.0)\n",
            "Requirement already satisfied: Pillow>=8.0.0 in /usr/local/lib/python3.8/dist-packages (from pytesseract) (9.4.0)\n",
            "Reading package lists... Done\n",
            "Building dependency tree       \n",
            "Reading state information... Done\n",
            "tesseract-ocr-fra is already the newest version (1:4.00~git30-7274cfa-1).\n",
            "The following package was automatically installed and is no longer required:\n",
            "  libnvidia-common-510\n",
            "Use 'sudo apt autoremove' to remove it.\n",
            "0 upgraded, 0 newly installed, 0 to remove and 28 not upgraded.\n"
          ]
        }
      ]
    },
    {
      "cell_type": "code",
      "source": [
        "## For textract \n",
        "!apt-get install python-dev libxml2-dev libxslt1-dev antiword unrtf poppler-utils \\\n",
        "     pstotext tesseract-ocr \\\n",
        "     flac ffmpeg lame libmad0 libsox-fmt-mp3 sox libjpeg-dev swig libasound2-dev libpulse-dev\n",
        "!pip install git+https://github.com/deanmalmgren/textract"
      ],
      "metadata": {
        "id": "7L-dCPMev4ck",
        "colab": {
          "base_uri": "https://localhost:8080/"
        },
        "outputId": "f2a52956-f260-42da-f764-c9f61cbfe9df"
      },
      "execution_count": 3,
      "outputs": [
        {
          "output_type": "stream",
          "name": "stdout",
          "text": [
            "Reading package lists... Done\n",
            "Building dependency tree       \n",
            "Reading state information... Done\n",
            "Note, selecting 'python-dev-is-python2' instead of 'python-dev'\n",
            "libjpeg-dev is already the newest version (8c-2ubuntu8).\n",
            "antiword is already the newest version (0.37-16).\n",
            "lame is already the newest version (3.100-3).\n",
            "libmad0 is already the newest version (0.15.1b-10ubuntu1).\n",
            "libsox-fmt-mp3 is already the newest version (14.4.2+git20190427-2).\n",
            "pstotext is already the newest version (1.9-6build1).\n",
            "python-dev-is-python2 is already the newest version (2.7.17-4).\n",
            "sox is already the newest version (14.4.2+git20190427-2).\n",
            "swig is already the newest version (4.0.1-5build1).\n",
            "tesseract-ocr is already the newest version (4.1.1-2build2).\n",
            "unrtf is already the newest version (0.21.10-clean-1).\n",
            "libasound2-dev is already the newest version (1.2.2-2.1ubuntu2.5).\n",
            "libpulse-dev is already the newest version (1:13.99.1-1ubuntu3.13).\n",
            "libxml2-dev is already the newest version (2.9.10+dfsg-5ubuntu0.20.04.5).\n",
            "libxslt1-dev is already the newest version (1.1.34-4ubuntu0.20.04.1).\n",
            "poppler-utils is already the newest version (0.86.1-0ubuntu1.1).\n",
            "ffmpeg is already the newest version (7:4.2.7-0ubuntu0.1).\n",
            "flac is already the newest version (1.3.3-1ubuntu0.1).\n",
            "The following package was automatically installed and is no longer required:\n",
            "  libnvidia-common-510\n",
            "Use 'apt autoremove' to remove it.\n",
            "0 upgraded, 0 newly installed, 0 to remove and 28 not upgraded.\n",
            "Looking in indexes: https://pypi.org/simple, https://us-python.pkg.dev/colab-wheels/public/simple/\n",
            "Collecting git+https://github.com/deanmalmgren/textract\n",
            "  Cloning https://github.com/deanmalmgren/textract to /tmp/pip-req-build-x0njw0vp\n",
            "  Running command git clone --filter=blob:none --quiet https://github.com/deanmalmgren/textract /tmp/pip-req-build-x0njw0vp\n",
            "  Resolved https://github.com/deanmalmgren/textract to commit 102a58418283fbc833ae1d6dad84e741e09eff66\n",
            "  Preparing metadata (setup.py) ... \u001b[?25l\u001b[?25hdone\n",
            "Requirement already satisfied: argcomplete~=1.10.0 in /usr/local/lib/python3.8/dist-packages (from textract==1.6.5) (1.10.3)\n",
            "Requirement already satisfied: beautifulsoup4~=4.8.0 in /usr/local/lib/python3.8/dist-packages (from textract==1.6.5) (4.8.2)\n",
            "Requirement already satisfied: chardet==3.* in /usr/local/lib/python3.8/dist-packages (from textract==1.6.5) (3.0.4)\n",
            "Requirement already satisfied: docx2txt~=0.8 in /usr/local/lib/python3.8/dist-packages (from textract==1.6.5) (0.8)\n",
            "Requirement already satisfied: extract-msg<=0.29.* in /usr/local/lib/python3.8/dist-packages (from textract==1.6.5) (0.28.7)\n",
            "Requirement already satisfied: pdfminer.six==20191110 in /usr/local/lib/python3.8/dist-packages (from textract==1.6.5) (20191110)\n",
            "Requirement already satisfied: python-pptx~=0.6.18 in /usr/local/lib/python3.8/dist-packages (from textract==1.6.5) (0.6.21)\n",
            "Requirement already satisfied: six~=1.12.0 in /usr/local/lib/python3.8/dist-packages (from textract==1.6.5) (1.12.0)\n",
            "Requirement already satisfied: SpeechRecognition~=3.8.1 in /usr/local/lib/python3.8/dist-packages (from textract==1.6.5) (3.8.1)\n",
            "Requirement already satisfied: xlrd~=1.2.0 in /usr/local/lib/python3.8/dist-packages (from textract==1.6.5) (1.2.0)\n",
            "Requirement already satisfied: sortedcontainers in /usr/local/lib/python3.8/dist-packages (from pdfminer.six==20191110->textract==1.6.5) (2.4.0)\n",
            "Requirement already satisfied: pycryptodome in /usr/local/lib/python3.8/dist-packages (from pdfminer.six==20191110->textract==1.6.5) (3.17)\n",
            "Requirement already satisfied: soupsieve>=1.2 in /usr/local/lib/python3.8/dist-packages (from beautifulsoup4~=4.8.0->textract==1.6.5) (2.3.2.post1)\n",
            "Requirement already satisfied: tzlocal>=2.1 in /usr/local/lib/python3.8/dist-packages (from extract-msg<=0.29.*->textract==1.6.5) (4.2)\n",
            "Requirement already satisfied: olefile>=0.46 in /usr/local/lib/python3.8/dist-packages (from extract-msg<=0.29.*->textract==1.6.5) (0.46)\n",
            "Requirement already satisfied: imapclient==2.1.0 in /usr/local/lib/python3.8/dist-packages (from extract-msg<=0.29.*->textract==1.6.5) (2.1.0)\n",
            "Requirement already satisfied: ebcdic>=1.1.1 in /usr/local/lib/python3.8/dist-packages (from extract-msg<=0.29.*->textract==1.6.5) (1.1.1)\n",
            "Requirement already satisfied: compressed-rtf>=1.0.6 in /usr/local/lib/python3.8/dist-packages (from extract-msg<=0.29.*->textract==1.6.5) (1.0.6)\n",
            "Requirement already satisfied: XlsxWriter>=0.5.7 in /usr/local/lib/python3.8/dist-packages (from python-pptx~=0.6.18->textract==1.6.5) (3.0.8)\n",
            "Requirement already satisfied: lxml>=3.1.0 in /usr/local/lib/python3.8/dist-packages (from python-pptx~=0.6.18->textract==1.6.5) (4.9.2)\n",
            "Requirement already satisfied: Pillow>=3.3.2 in /usr/local/lib/python3.8/dist-packages (from python-pptx~=0.6.18->textract==1.6.5) (9.4.0)\n",
            "Requirement already satisfied: backports.zoneinfo in /usr/local/lib/python3.8/dist-packages (from tzlocal>=2.1->extract-msg<=0.29.*->textract==1.6.5) (0.2.1)\n",
            "Requirement already satisfied: pytz-deprecation-shim in /usr/local/lib/python3.8/dist-packages (from tzlocal>=2.1->extract-msg<=0.29.*->textract==1.6.5) (0.1.0.post0)\n",
            "Requirement already satisfied: tzdata in /usr/local/lib/python3.8/dist-packages (from pytz-deprecation-shim->tzlocal>=2.1->extract-msg<=0.29.*->textract==1.6.5) (2022.7)\n"
          ]
        }
      ]
    },
    {
      "cell_type": "markdown",
      "source": [
        "##**Libraries**"
      ],
      "metadata": {
        "id": "Jg3ia-a75oh4"
      }
    },
    {
      "cell_type": "code",
      "source": [
        "# Library to work with Operating Syatem\n",
        "import os\n",
        "\n",
        "# Library to create PDF, inspection, manupulation and rendering(turning into images)\n",
        "import pypdfium2 as pdfium\n",
        "\n",
        "# Regex lirary to manipulate string\n",
        "import re\n",
        "\n",
        "from PIL import Image\n",
        "\n",
        "import textract"
      ],
      "metadata": {
        "id": "Xm-Sy6Kzhm6u"
      },
      "execution_count": 4,
      "outputs": []
    },
    {
      "cell_type": "code",
      "source": [
        "import os\n",
        "import glob\n",
        "import pandas as pd\n",
        "import pytesseract\n",
        "import shutil\n",
        "import os\n",
        "import random\n",
        "try:\n",
        "    from PIL import Image\n",
        "except ImportError:\n",
        "    import Image"
      ],
      "metadata": {
        "id": "1PJS1srzOF9c"
      },
      "execution_count": 5,
      "outputs": []
    },
    {
      "cell_type": "markdown",
      "source": [
        "##**Defining Function**"
      ],
      "metadata": {
        "id": "oq7Zjjp85xvI"
      }
    },
    {
      "cell_type": "code",
      "source": [
        "def pdf_to_img(input_file_path, output_folder_path):\n",
        "    \n",
        "    input_file_name = os.path.split(input_file_path)[-1]\n",
        "    print('Extracting text from {}'.format(input_file_name))\n",
        "    \n",
        "    # PdfDocument (supports file path strings, bytes, and byte buffers)\n",
        "    pdf_info = pdfium.PdfDocument(input_file_path)\n",
        "    \n",
        "    # get the number of pages in the document\n",
        "    n_pages = len(pdf_info)\n",
        "    print('Number of pages {}'.format(n_pages))\n",
        "    \n",
        "    page_indices = [i for i in range(n_pages)]    \n",
        "    renderer = pdf_info.render_to(pdfium.BitmapConv.pil_image, page_indices = page_indices, scale = 300/72)\n",
        "\n",
        "    page_number = 1\n",
        "    \n",
        "    print(\"Saving images...\")\n",
        "    for images in renderer:\n",
        "      images.save(output_folder_path + \"/\" + str(page_number)  + \".jpeg\")\n",
        "      page_number +=1"
      ],
      "metadata": {
        "id": "9CKIjLRQTxfa"
      },
      "execution_count": 6,
      "outputs": []
    },
    {
      "cell_type": "code",
      "source": [
        "def img_to_txt(input_img_path, output_txt_path):\n",
        "    \n",
        "    try:\n",
        "        path = sorted(glob.glob(input_img_path + \"/*.jpeg\"))\n",
        "        print(\"Images present in input image folder\", [i for i in path])\n",
        "    except:\n",
        "        raise ValueError('Image not in jpeg')\n",
        "    \n",
        "        \n",
        "    ## Blank string to concatenate all text string outputs from ocr for each image\n",
        "    combined_text = ''\n",
        "\n",
        "    l = len(path)\n",
        "\n",
        "    for i in range(l):\n",
        "      i = i + 1\n",
        "\n",
        "      img = input_img_path + '/' + str(i) + '.jpeg'\n",
        "      ## Extracting text from image\n",
        "      text = pytesseract.image_to_string(Image.open(img), lang='fra')\n",
        "      \n",
        "      ## Concatenating text-string outputs from each image into one master text-string\n",
        "      combined_text = (\"\\n**\" + str(i) + \" **\\n\").join([combined_text, text])\n",
        "        \n",
        "    \n",
        "    ## Open a file with access mode 'w'\n",
        "    file_object2 = open(output_txt_path, 'w', encoding=\"utf8\")\n",
        "    file_object2.write(combined_text)\n",
        "    file_object2.close()"
      ],
      "metadata": {
        "id": "F67eGMwyT1oN"
      },
      "execution_count": 7,
      "outputs": []
    },
    {
      "cell_type": "code",
      "execution_count": 8,
      "metadata": {
        "id": "GdvuDqbACvRa"
      },
      "outputs": [],
      "source": [
        "def extract_text(input_file_path, output_file_path, extra_dir=None):\n",
        "    '''\n",
        "    This function takes French PDFs, doc, docx, excels, \n",
        "    extract text and save it in a txt file.\n",
        "\n",
        "    Input parameters\n",
        "        input_file_path: Input file location\n",
        "        output_file_path: Output file location\n",
        "        extra_dir: Directory to save additional output files for PDFs\n",
        "    Output\n",
        "        For PDF files, the extra_dir will have jpeg files and output_file_path will have txt files\n",
        "        For doc, docx and the excel, output_file_path will be only txt files\n",
        "    '''\n",
        "    \n",
        "    if os.path.exists(input_file_path):\n",
        "      print(\"Text extraction process starting for...\",input_file_path)\n",
        "      \n",
        "      ## Storing extension of input_file_path\n",
        "      file_name_extn = os.path.basename(input_file_path).split('.')[1]\n",
        "      \n",
        "      ## Keeping a list of acceptable extensions\n",
        "      pdf_extension = ['PDF']\n",
        "      non_pdf_extension = ['DOC', 'DOCX', 'XLSX']\n",
        "\n",
        "      ## Applying text extraction process based on formats\n",
        "      if file_name_extn.upper() in pdf_extension:\n",
        "        \n",
        "        ## Converting each page of PDF to an image and saving image to extra_dir\n",
        "        pdf_to_img(input_file_path, extra_dir)\n",
        "\n",
        "        ## Extracting text from each image and storing combined text in output_file_path\n",
        "        img_to_txt(extra_dir, output_file_path)\n",
        "\n",
        "      elif file_name_extn.upper() in non_pdf_extension:\n",
        "        text_file = textract.process(input_file_path)\n",
        "        \n",
        "        ## Saving text in output_file_path\n",
        "        with open(output_file_path, 'w') as f:\n",
        "                    f.write(text_file.decode('utf8', 'strict'))\n",
        "      \n",
        "      else:\n",
        "        raise ValueError(\"File does not match required formats - PDF, doc, docx, xlsx\")\n",
        "    else:\n",
        "      raise ValueError(\"File does not exist!!\")"
      ]
    },
    {
      "cell_type": "markdown",
      "source": [
        "##**Testing**"
      ],
      "metadata": {
        "id": "pSBNzyWw6QZB"
      }
    },
    {
      "cell_type": "code",
      "source": [
        "input_file_path = '/content/drive/MyDrive/f1.pdf'\n",
        "output_file_path = '/content/drive/MyDrive/extract_text_extra_dir_checking/f1.txt'\n",
        "extra_dir= '/content/drive/MyDrive/extract_text_extra_dir_checking'\n",
        "extract_text(input_file_path, output_file_path, extra_dir)"
      ],
      "metadata": {
        "id": "kYJNMD6fXeaD",
        "colab": {
          "base_uri": "https://localhost:8080/"
        },
        "outputId": "f639d405-358d-4baf-e902-d1589d6183cd"
      },
      "execution_count": 10,
      "outputs": [
        {
          "output_type": "stream",
          "name": "stdout",
          "text": [
            "Text extraction process starting for... /content/drive/MyDrive/f1.pdf\n",
            "Extracting text from f1.pdf\n",
            "Number of pages 6\n",
            "Saving images...\n",
            "Images present in input image folder ['/content/drive/MyDrive/extract_text_extra_dir_checking/1.jpeg', '/content/drive/MyDrive/extract_text_extra_dir_checking/2.jpeg', '/content/drive/MyDrive/extract_text_extra_dir_checking/3.jpeg', '/content/drive/MyDrive/extract_text_extra_dir_checking/4.jpeg', '/content/drive/MyDrive/extract_text_extra_dir_checking/5.jpeg', '/content/drive/MyDrive/extract_text_extra_dir_checking/6.jpeg']\n"
          ]
        }
      ]
    },
    {
      "cell_type": "markdown",
      "source": [
        "Calling .py file"
      ],
      "metadata": {
        "id": "FBTZJt20GKlh"
      }
    },
    {
      "cell_type": "code",
      "source": [
        "!python /content/drive/MyDrive/pyCheck/copy_of_extract_text_v20230207_vf.py"
      ],
      "metadata": {
        "colab": {
          "base_uri": "https://localhost:8080/"
        },
        "id": "1z0apQVkDmDW",
        "outputId": "a973506d-ca40-4eb9-abf1-d5ec084ccf8a"
      },
      "execution_count": 15,
      "outputs": [
        {
          "output_type": "stream",
          "name": "stdout",
          "text": [
            "Installing pypdfium2...\n",
            "Looking in indexes: https://pypi.org/simple, https://us-python.pkg.dev/colab-wheels/public/simple/\n",
            "Requirement already satisfied: pypdfium2 in /usr/local/lib/python3.8/dist-packages (3.20.1)\n",
            "Installation done...\n",
            "Installing pytesseract...\n",
            "Looking in indexes: https://pypi.org/simple, https://us-python.pkg.dev/colab-wheels/public/simple/\n",
            "Requirement already satisfied: pytesseract in /usr/local/lib/python3.8/dist-packages (0.3.10)\n",
            "Requirement already satisfied: Pillow>=8.0.0 in /usr/local/lib/python3.8/dist-packages (from pytesseract) (9.4.0)\n",
            "Requirement already satisfied: packaging>=21.3 in /usr/local/lib/python3.8/dist-packages (from pytesseract) (23.0)\n",
            "Installation done...\n",
            "Text extraction process starting for... /content/drive/MyDrive/f1.pdf\n",
            "Extracting text from f1.pdf\n",
            "Number of pages 6\n",
            "Saving images...\n",
            "Images present in input image folder ['/content/drive/MyDrive/extract_text_extra_dir_checking/1.jpeg', '/content/drive/MyDrive/extract_text_extra_dir_checking/2.jpeg', '/content/drive/MyDrive/extract_text_extra_dir_checking/3.jpeg', '/content/drive/MyDrive/extract_text_extra_dir_checking/4.jpeg', '/content/drive/MyDrive/extract_text_extra_dir_checking/5.jpeg', '/content/drive/MyDrive/extract_text_extra_dir_checking/6.jpeg']\n"
          ]
        }
      ]
    }
  ]
}