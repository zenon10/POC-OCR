{
  "nbformat": 4,
  "nbformat_minor": 0,
  "metadata": {
    "colab": {
      "provenance": [],
      "collapsed_sections": [
        "_Yd4Bm7z8Zcr"
      ],
      "include_colab_link": true
    },
    "kernelspec": {
      "name": "python3",
      "display_name": "Python 3"
    },
    "language_info": {
      "name": "python"
    }
  },
  "cells": [
    {
      "cell_type": "markdown",
      "metadata": {
        "id": "view-in-github",
        "colab_type": "text"
      },
      "source": [
        "<a href=\"https://colab.research.google.com/github/zenon10/POC-OCR/blob/main/pdf_img_text_trans_fr_en_rg_02012023.ipynb\" target=\"_parent\"><img src=\"https://colab.research.google.com/assets/colab-badge.svg\" alt=\"Open In Colab\"/></a>"
      ]
    },
    {
      "cell_type": "code",
      "execution_count": 1,
      "metadata": {
        "id": "ktVpdmYDLGqv",
        "colab": {
          "base_uri": "https://localhost:8080/"
        },
        "outputId": "7617c84d-65d8-479a-fe84-815e2365ec7a"
      },
      "outputs": [
        {
          "output_type": "stream",
          "name": "stdout",
          "text": [
            "Mounted at /content/drive\n"
          ]
        }
      ],
      "source": [
        "from google.colab import drive\n",
        "drive.mount('/content/drive')"
      ]
    },
    {
      "cell_type": "markdown",
      "source": [
        "**Githup SetUp**"
      ],
      "metadata": {
        "id": "pef0s4MuNect"
      }
    },
    {
      "cell_type": "code",
      "source": [
        "! git clone https://github.com/zenon10/POC-OCR"
      ],
      "metadata": {
        "id": "bRxJQGF6NoLg",
        "colab": {
          "base_uri": "https://localhost:8080/"
        },
        "outputId": "18b2b540-5ec3-4ad6-971e-04e911bd19b6"
      },
      "execution_count": 2,
      "outputs": [
        {
          "output_type": "stream",
          "name": "stdout",
          "text": [
            "Cloning into 'POC-OCR'...\n",
            "remote: Enumerating objects: 164, done.\u001b[K\n",
            "remote: Counting objects: 100% (94/94), done.\u001b[K\n",
            "remote: Compressing objects: 100% (69/69), done.\u001b[K\n",
            "remote: Total 164 (delta 56), reused 21 (delta 21), pack-reused 70\u001b[K\n",
            "Receiving objects: 100% (164/164), 21.36 MiB | 19.75 MiB/s, done.\n",
            "Resolving deltas: 100% (74/74), done.\n"
          ]
        }
      ]
    },
    {
      "cell_type": "markdown",
      "source": [
        "### Remove files from a folder"
      ],
      "metadata": {
        "id": "_Yd4Bm7z8Zcr"
      }
    },
    {
      "cell_type": "code",
      "source": [
        "# import glob\n",
        "# files = glob.glob('/content/drive/MyDrive/Visa/text/it2/*')\n",
        "# for f in files:\n",
        "#     os.remove(f)"
      ],
      "metadata": {
        "id": "cG_mSn9E8SPf"
      },
      "execution_count": null,
      "outputs": []
    },
    {
      "cell_type": "markdown",
      "source": [
        "## Converting PDF to IMAGE"
      ],
      "metadata": {
        "id": "jTQGEC_2NF8R"
      }
    },
    {
      "cell_type": "code",
      "source": [
        "! pip install pypdfium2"
      ],
      "metadata": {
        "id": "cT-Pu76RM1ud",
        "colab": {
          "base_uri": "https://localhost:8080/"
        },
        "outputId": "b67d7ec1-5c2d-403f-f13f-9742cc80dae3"
      },
      "execution_count": 3,
      "outputs": [
        {
          "output_type": "stream",
          "name": "stdout",
          "text": [
            "Looking in indexes: https://pypi.org/simple, https://us-python.pkg.dev/colab-wheels/public/simple/\n",
            "Collecting pypdfium2\n",
            "  Downloading pypdfium2-3.20.0-py3-none-manylinux_2_17_x86_64.manylinux2014_x86_64.whl (2.8 MB)\n",
            "\u001b[2K     \u001b[90m━━━━━━━━━━━━━━━━━━━━━━━━━━━━━━━━━━━━━━━━\u001b[0m \u001b[32m2.8/2.8 MB\u001b[0m \u001b[31m26.0 MB/s\u001b[0m eta \u001b[36m0:00:00\u001b[0m\n",
            "\u001b[?25hInstalling collected packages: pypdfium2\n",
            "Successfully installed pypdfium2-3.20.0\n"
          ]
        }
      ]
    },
    {
      "cell_type": "markdown",
      "source": [
        "### Importing Required Libraries"
      ],
      "metadata": {
        "id": "CExSUWk_NQAu"
      }
    },
    {
      "cell_type": "code",
      "source": [
        "# Library to work with Operating Syatem\n",
        "import os\n",
        "\n",
        "# Library to create PDF, inspection, manupulation and rendering(turning into images)\n",
        "import pypdfium2 as pdfium\n",
        "\n",
        "# Regex lirary to manipulate string\n",
        "import re\n",
        "\n",
        "from PIL import Image"
      ],
      "metadata": {
        "id": "2mY0PbUlNJC_"
      },
      "execution_count": 4,
      "outputs": []
    },
    {
      "cell_type": "code",
      "source": [
        "def pdf_to_img(input_file_path, output_folder_path):\n",
        "    \n",
        "    if not os.path.exists(output_folder_path):\n",
        "        os.makedirs(output_folder_path)\n",
        "\n",
        "    input_file_name = os.path.split(input_file_path)[-1].replace('.pdf','')    \n",
        "    print('Extracting text from {}'.format(input_file_name))\n",
        "    \n",
        "    # PdfDocument (supports file path strings, bytes, and byte buffers)\n",
        "    pdf_info = pdfium.PdfDocument(input_file_path)\n",
        "    \n",
        "    # get the number of pages in the document\n",
        "    n_pages = len(pdf_info)\n",
        "    print(n_pages)\n",
        "    \n",
        "    page_indices = [i for i in range(n_pages)]\n",
        "    \n",
        "    # Render multiple pages concurrently(converting into images).\n",
        "    # A bitmap is a type of memory organization or image file format used to store digital images.\n",
        "    # PIL python imaging Library and it's the original library that enabled Python to deal with images.\n",
        "    # Scale is the resolution of the image.\n",
        "    \n",
        "    renderer = pdf_info.render_to(pdfium.BitmapConv.pil_image, page_indices = page_indices, scale = 300/72)\n",
        "\n",
        "    page_number = 1\n",
        "    for images in renderer:\n",
        "#         print(images.show())\n",
        "\n",
        "        images.save(output_folder_path + \"/\" + str(page_number)  + '.jpeg')\n",
        "        page_number +=1"
      ],
      "metadata": {
        "id": "WNmT18lwR1X9"
      },
      "execution_count": 5,
      "outputs": []
    },
    {
      "cell_type": "markdown",
      "source": [
        "- format like : it2_page-0001.jpeg\n",
        "- https://stackoverflow.com/questions/37796598/how-to-sort-file-names-in-a-particular-order-using-python"
      ],
      "metadata": {
        "id": "Jr9CjrDZrVIY"
      }
    },
    {
      "cell_type": "code",
      "source": [
        "# paths for function(pdf to img)\n",
        "input_file_path = r\"/content/POC-OCR/raw_data/f2.pdf\"\n",
        "output_folder_path =\"/content/drive/MyDrive/Zenon/images/f2\"\n",
        "\n",
        "## calling the function\n",
        "pdf_to_img(input_file_path, output_folder_path)"
      ],
      "metadata": {
        "id": "ah3DWhDpR5-Y",
        "colab": {
          "base_uri": "https://localhost:8080/"
        },
        "outputId": "e7f8ce3d-40f9-454f-ecac-9f8702fbfa9e"
      },
      "execution_count": 6,
      "outputs": [
        {
          "output_type": "stream",
          "name": "stdout",
          "text": [
            "Extracting text from f2\n",
            "4\n"
          ]
        }
      ]
    },
    {
      "cell_type": "markdown",
      "source": [
        "## Extracting Img To text"
      ],
      "metadata": {
        "id": "JK0VUQ4bSjj8"
      }
    },
    {
      "cell_type": "code",
      "source": [
        "!sudo apt install tesseract-ocr\n",
        "!pip install pytesseract\n",
        "\n",
        "#Explicitly for italian language\n",
        "! sudo apt-get install tesseract-ocr-fra"
      ],
      "metadata": {
        "id": "2nRdEwr2R8Iz",
        "colab": {
          "base_uri": "https://localhost:8080/"
        },
        "outputId": "671f1456-753c-4d0e-c4b9-aa58867144b4"
      },
      "execution_count": 11,
      "outputs": [
        {
          "output_type": "stream",
          "name": "stdout",
          "text": [
            "Reading package lists... Done\n",
            "Building dependency tree       \n",
            "Reading state information... Done\n",
            "tesseract-ocr is already the newest version (4.1.1-2build2).\n",
            "0 upgraded, 0 newly installed, 0 to remove and 27 not upgraded.\n",
            "Looking in indexes: https://pypi.org/simple, https://us-python.pkg.dev/colab-wheels/public/simple/\n",
            "Requirement already satisfied: pytesseract in /usr/local/lib/python3.8/dist-packages (0.3.10)\n",
            "Requirement already satisfied: Pillow>=8.0.0 in /usr/local/lib/python3.8/dist-packages (from pytesseract) (9.4.0)\n",
            "Requirement already satisfied: packaging>=21.3 in /usr/local/lib/python3.8/dist-packages (from pytesseract) (21.3)\n",
            "Requirement already satisfied: pyparsing!=3.0.5,>=2.0.2 in /usr/local/lib/python3.8/dist-packages (from packaging>=21.3->pytesseract) (3.0.9)\n",
            "Reading package lists... Done\n",
            "Building dependency tree       \n",
            "Reading state information... Done\n",
            "The following NEW packages will be installed:\n",
            "  tesseract-ocr-fra\n",
            "0 upgraded, 1 newly installed, 0 to remove and 27 not upgraded.\n",
            "Need to get 528 kB of archives.\n",
            "After this operation, 1,145 kB of additional disk space will be used.\n",
            "Get:1 http://archive.ubuntu.com/ubuntu focal/universe amd64 tesseract-ocr-fra all 1:4.00~git30-7274cfa-1 [528 kB]\n",
            "Fetched 528 kB in 4s (118 kB/s)\n",
            "debconf: unable to initialize frontend: Dialog\n",
            "debconf: (No usable dialog-like program is installed, so the dialog based frontend cannot be used. at /usr/share/perl5/Debconf/FrontEnd/Dialog.pm line 76, <> line 1.)\n",
            "debconf: falling back to frontend: Readline\n",
            "debconf: unable to initialize frontend: Readline\n",
            "debconf: (This frontend requires a controlling tty.)\n",
            "debconf: falling back to frontend: Teletype\n",
            "dpkg-preconfigure: unable to re-open stdin: \n",
            "Selecting previously unselected package tesseract-ocr-fra.\n",
            "(Reading database ... 129550 files and directories currently installed.)\n",
            "Preparing to unpack .../tesseract-ocr-fra_1%3a4.00~git30-7274cfa-1_all.deb ...\n",
            "Unpacking tesseract-ocr-fra (1:4.00~git30-7274cfa-1) ...\n",
            "Setting up tesseract-ocr-fra (1:4.00~git30-7274cfa-1) ...\n"
          ]
        }
      ]
    },
    {
      "cell_type": "code",
      "source": [
        "import os\n",
        "import glob\n",
        "import pandas as pd\n",
        "import pytesseract\n",
        "import shutil\n",
        "import os\n",
        "import random\n",
        "try:\n",
        "    from PIL import Image\n",
        "except ImportError:\n",
        "    import Image"
      ],
      "metadata": {
        "id": "ZKPiaVQQSnOl"
      },
      "execution_count": 12,
      "outputs": []
    },
    {
      "cell_type": "code",
      "source": [
        "def img_to_txt(image_path, language, output_folder_path):\n",
        "    \n",
        "    if not os.path.exists(output_folder_path):\n",
        "        os.makedirs(output_folder_path)\n",
        "    \n",
        "    try:\n",
        "        path = glob.glob(image_path + \"/*.jpeg\")\n",
        "        # print(path)\n",
        "    except:\n",
        "        print('image not in jpeg')\n",
        "    \n",
        "    \n",
        "    df = pd.DataFrame(columns=['Image_path','output_folder_path', 'Language'])\n",
        "        \n",
        "    ## Blank string to concatenate all text string outputs from ocr for each image\n",
        "    combined_text = ''\n",
        "    \n",
        "    for img in path:\n",
        "        \n",
        "        file_name = os.path.basename(img).replace('.jpeg','')\n",
        "        print(\"File name:\", file_name)\n",
        "        \n",
        "        ## Extracting text from image\n",
        "        text = pytesseract.image_to_string(Image.open(img), lang=language)\n",
        "        \n",
        "        ## Concatenating text-string outputs from each image into one master text-string\n",
        "        combined_text = (\"** \" + file_name + \" **\\n\").join([combined_text, text])\n",
        "        \n",
        "        ## Creating separate text files for each image\n",
        "        with open(output_folder_path + \"/\" + file_name +'.txt', \"w\",encoding=\"utf8\") as f:\n",
        "            f.write(text)\n",
        "        \n",
        "        ## Writing in a pandas dataframe\n",
        "        df.loc[len(df.index)] = [img, output_folder_path + file_name +'.txt', language]\n",
        "        \n",
        "    ## Open a file with access mode 'a'\n",
        "    file_object2 = open(output_folder_path + \"/\" + 'Combined_text.txt', 'a',encoding=\"utf8\")\n",
        "    file_object2.write(combined_text)\n",
        "    file_object2.close()\n",
        "    \n",
        "    return df"
      ],
      "metadata": {
        "id": "KnOKNdz5SvZX"
      },
      "execution_count": 13,
      "outputs": []
    },
    {
      "cell_type": "code",
      "source": [
        "# Paths for function(img to text)\n",
        "image_path = '/content/drive/MyDrive/Zenon/images/f2'\n",
        "language = 'fra'\n",
        "output_folder_path = '/content/drive/MyDrive/Zenon/text/f2'\n",
        "\n",
        "# Calling the function\n",
        "df = img_to_txt(image_path, language, output_folder_path) ; df"
      ],
      "metadata": {
        "id": "iTXFBGa2SzyF",
        "colab": {
          "base_uri": "https://localhost:8080/",
          "height": 244
        },
        "outputId": "74c5540c-6ca5-401e-df6c-07fa97ea01a5"
      },
      "execution_count": 14,
      "outputs": [
        {
          "output_type": "stream",
          "name": "stdout",
          "text": [
            "File name: 1\n",
            "File name: 2\n",
            "File name: 3\n",
            "File name: 4\n"
          ]
        },
        {
          "output_type": "execute_result",
          "data": {
            "text/plain": [
              "                                     Image_path  \\\n",
              "0  /content/drive/MyDrive/Visa/images/f2/1.jpeg   \n",
              "1  /content/drive/MyDrive/Visa/images/f2/2.jpeg   \n",
              "2  /content/drive/MyDrive/Visa/images/f2/3.jpeg   \n",
              "3  /content/drive/MyDrive/Visa/images/f2/4.jpeg   \n",
              "\n",
              "                         output_folder_path Language  \n",
              "0  /content/drive/MyDrive/Visa/text/f21.txt      fra  \n",
              "1  /content/drive/MyDrive/Visa/text/f22.txt      fra  \n",
              "2  /content/drive/MyDrive/Visa/text/f23.txt      fra  \n",
              "3  /content/drive/MyDrive/Visa/text/f24.txt      fra  "
            ],
            "text/html": [
              "\n",
              "  <div id=\"df-6d62ec04-894b-4319-95bd-7ec8a92c96d4\">\n",
              "    <div class=\"colab-df-container\">\n",
              "      <div>\n",
              "<style scoped>\n",
              "    .dataframe tbody tr th:only-of-type {\n",
              "        vertical-align: middle;\n",
              "    }\n",
              "\n",
              "    .dataframe tbody tr th {\n",
              "        vertical-align: top;\n",
              "    }\n",
              "\n",
              "    .dataframe thead th {\n",
              "        text-align: right;\n",
              "    }\n",
              "</style>\n",
              "<table border=\"1\" class=\"dataframe\">\n",
              "  <thead>\n",
              "    <tr style=\"text-align: right;\">\n",
              "      <th></th>\n",
              "      <th>Image_path</th>\n",
              "      <th>output_folder_path</th>\n",
              "      <th>Language</th>\n",
              "    </tr>\n",
              "  </thead>\n",
              "  <tbody>\n",
              "    <tr>\n",
              "      <th>0</th>\n",
              "      <td>/content/drive/MyDrive/Visa/images/f2/1.jpeg</td>\n",
              "      <td>/content/drive/MyDrive/Visa/text/f21.txt</td>\n",
              "      <td>fra</td>\n",
              "    </tr>\n",
              "    <tr>\n",
              "      <th>1</th>\n",
              "      <td>/content/drive/MyDrive/Visa/images/f2/2.jpeg</td>\n",
              "      <td>/content/drive/MyDrive/Visa/text/f22.txt</td>\n",
              "      <td>fra</td>\n",
              "    </tr>\n",
              "    <tr>\n",
              "      <th>2</th>\n",
              "      <td>/content/drive/MyDrive/Visa/images/f2/3.jpeg</td>\n",
              "      <td>/content/drive/MyDrive/Visa/text/f23.txt</td>\n",
              "      <td>fra</td>\n",
              "    </tr>\n",
              "    <tr>\n",
              "      <th>3</th>\n",
              "      <td>/content/drive/MyDrive/Visa/images/f2/4.jpeg</td>\n",
              "      <td>/content/drive/MyDrive/Visa/text/f24.txt</td>\n",
              "      <td>fra</td>\n",
              "    </tr>\n",
              "  </tbody>\n",
              "</table>\n",
              "</div>\n",
              "      <button class=\"colab-df-convert\" onclick=\"convertToInteractive('df-6d62ec04-894b-4319-95bd-7ec8a92c96d4')\"\n",
              "              title=\"Convert this dataframe to an interactive table.\"\n",
              "              style=\"display:none;\">\n",
              "        \n",
              "  <svg xmlns=\"http://www.w3.org/2000/svg\" height=\"24px\"viewBox=\"0 0 24 24\"\n",
              "       width=\"24px\">\n",
              "    <path d=\"M0 0h24v24H0V0z\" fill=\"none\"/>\n",
              "    <path d=\"M18.56 5.44l.94 2.06.94-2.06 2.06-.94-2.06-.94-.94-2.06-.94 2.06-2.06.94zm-11 1L8.5 8.5l.94-2.06 2.06-.94-2.06-.94L8.5 2.5l-.94 2.06-2.06.94zm10 10l.94 2.06.94-2.06 2.06-.94-2.06-.94-.94-2.06-.94 2.06-2.06.94z\"/><path d=\"M17.41 7.96l-1.37-1.37c-.4-.4-.92-.59-1.43-.59-.52 0-1.04.2-1.43.59L10.3 9.45l-7.72 7.72c-.78.78-.78 2.05 0 2.83L4 21.41c.39.39.9.59 1.41.59.51 0 1.02-.2 1.41-.59l7.78-7.78 2.81-2.81c.8-.78.8-2.07 0-2.86zM5.41 20L4 18.59l7.72-7.72 1.47 1.35L5.41 20z\"/>\n",
              "  </svg>\n",
              "      </button>\n",
              "      \n",
              "  <style>\n",
              "    .colab-df-container {\n",
              "      display:flex;\n",
              "      flex-wrap:wrap;\n",
              "      gap: 12px;\n",
              "    }\n",
              "\n",
              "    .colab-df-convert {\n",
              "      background-color: #E8F0FE;\n",
              "      border: none;\n",
              "      border-radius: 50%;\n",
              "      cursor: pointer;\n",
              "      display: none;\n",
              "      fill: #1967D2;\n",
              "      height: 32px;\n",
              "      padding: 0 0 0 0;\n",
              "      width: 32px;\n",
              "    }\n",
              "\n",
              "    .colab-df-convert:hover {\n",
              "      background-color: #E2EBFA;\n",
              "      box-shadow: 0px 1px 2px rgba(60, 64, 67, 0.3), 0px 1px 3px 1px rgba(60, 64, 67, 0.15);\n",
              "      fill: #174EA6;\n",
              "    }\n",
              "\n",
              "    [theme=dark] .colab-df-convert {\n",
              "      background-color: #3B4455;\n",
              "      fill: #D2E3FC;\n",
              "    }\n",
              "\n",
              "    [theme=dark] .colab-df-convert:hover {\n",
              "      background-color: #434B5C;\n",
              "      box-shadow: 0px 1px 3px 1px rgba(0, 0, 0, 0.15);\n",
              "      filter: drop-shadow(0px 1px 2px rgba(0, 0, 0, 0.3));\n",
              "      fill: #FFFFFF;\n",
              "    }\n",
              "  </style>\n",
              "\n",
              "      <script>\n",
              "        const buttonEl =\n",
              "          document.querySelector('#df-6d62ec04-894b-4319-95bd-7ec8a92c96d4 button.colab-df-convert');\n",
              "        buttonEl.style.display =\n",
              "          google.colab.kernel.accessAllowed ? 'block' : 'none';\n",
              "\n",
              "        async function convertToInteractive(key) {\n",
              "          const element = document.querySelector('#df-6d62ec04-894b-4319-95bd-7ec8a92c96d4');\n",
              "          const dataTable =\n",
              "            await google.colab.kernel.invokeFunction('convertToInteractive',\n",
              "                                                     [key], {});\n",
              "          if (!dataTable) return;\n",
              "\n",
              "          const docLinkHtml = 'Like what you see? Visit the ' +\n",
              "            '<a target=\"_blank\" href=https://colab.research.google.com/notebooks/data_table.ipynb>data table notebook</a>'\n",
              "            + ' to learn more about interactive tables.';\n",
              "          element.innerHTML = '';\n",
              "          dataTable['output_type'] = 'display_data';\n",
              "          await google.colab.output.renderOutput(dataTable, element);\n",
              "          const docLink = document.createElement('div');\n",
              "          docLink.innerHTML = docLinkHtml;\n",
              "          element.appendChild(docLink);\n",
              "        }\n",
              "      </script>\n",
              "    </div>\n",
              "  </div>\n",
              "  "
            ]
          },
          "metadata": {},
          "execution_count": 14
        }
      ]
    },
    {
      "cell_type": "code",
      "source": [
        "##GPU - Graphics processing unit\n",
        "##TPU - Tensor processing unit"
      ],
      "metadata": {
        "id": "_queizb8uUMV"
      },
      "execution_count": null,
      "outputs": []
    },
    {
      "cell_type": "markdown",
      "source": [
        "## Translation"
      ],
      "metadata": {
        "id": "H-MonU4ST8OT"
      }
    },
    {
      "cell_type": "code",
      "source": [
        "!pip install transformers[sentencepiece]"
      ],
      "metadata": {
        "id": "5G33cSsxTQNd"
      },
      "execution_count": null,
      "outputs": []
    },
    {
      "cell_type": "code",
      "source": [
        "from transformers import pipeline\n",
        "\n",
        "qa = pipeline(\"text2text-generation\", model='Helsinki-NLP/opus-mt-fr-en')\n"
      ],
      "metadata": {
        "id": "3UZ7lIT-UBpV"
      },
      "execution_count": null,
      "outputs": []
    },
    {
      "cell_type": "code",
      "source": [
        "!pip install sacremoses\n"
      ],
      "metadata": {
        "id": "QyfrW8YrUF0f"
      },
      "execution_count": null,
      "outputs": []
    },
    {
      "cell_type": "code",
      "source": [
        "## loading txt file\n",
        "d = '/content/drive/MyDrive/Zenon_POC_OCR/2_img_to_text/it_1'"
      ],
      "metadata": {
        "id": "49b5l2Q6ULBX"
      },
      "execution_count": null,
      "outputs": []
    },
    {
      "cell_type": "code",
      "source": [
        "# def txt_to_trans(txt_path,output_trans_path):\n",
        "\n",
        "#     if not os.path.exists(output_folder_path):\n",
        "#         os.makedirs(output_folder_path)\n",
        "\n",
        "#     path = glob.glob(txt_path + \"/*.txt\")\n",
        "#     print(path)\n",
        "\n",
        "#     df = pd.DataFrame(columns=['txt_path','output_trans_path'])\n",
        "\n",
        "    \n"
      ],
      "metadata": {
        "id": "8lmIKhSWVv72"
      },
      "execution_count": null,
      "outputs": []
    },
    {
      "cell_type": "code",
      "source": [
        "## Reading text from .txt file and storing in a string\n",
        "x = ''\n",
        "with open(d) as f:\n",
        "  for line in f:\n",
        "    # print(line.strip())\n",
        "    # print('STOP')\n",
        "    x = x + line"
      ],
      "metadata": {
        "id": "TPYEBqnFUNDk"
      },
      "execution_count": null,
      "outputs": []
    },
    {
      "cell_type": "code",
      "source": [
        "x"
      ],
      "metadata": {
        "id": "4CRHud9NUN1u"
      },
      "execution_count": null,
      "outputs": []
    },
    {
      "cell_type": "code",
      "source": [
        "## Splitting line/paragraph, translating one by one and saving to a master string\n",
        "translated_master = ''\n",
        "\n",
        "for i in range(x.count('\\n\\n')+1):\n",
        "  print(i)\n",
        "  # print(x.split('\\n\\n')[i])\n",
        "  \n",
        "  ## Splitting string by double line terminator\n",
        "  y = x.split('\\n\\n')[i]\n",
        "  \n",
        "  ## Translating string\n",
        "  trans = qa(y)\n",
        "  # print(\"Translated is:\", qa(y)[0]['generated_text'])\n",
        "  \n",
        "  translated_master = translated_master + '\\n\\n'+ trans[0]['generated_text']\n"
      ],
      "metadata": {
        "id": "LmRo6riQUQ7r"
      },
      "execution_count": null,
      "outputs": []
    },
    {
      "cell_type": "code",
      "source": [
        "## Saving translated text to a .txt file\n",
        "with open('/content/drive/MyDrive/translated.txt', 'w') as f:\n",
        "  f.write(translated_master)\n",
        "  f.close()"
      ],
      "metadata": {
        "id": "bk2woHf-UVYo"
      },
      "execution_count": null,
      "outputs": []
    }
  ]
}