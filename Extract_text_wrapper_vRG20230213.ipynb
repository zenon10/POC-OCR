{
  "cells": [
    {
      "cell_type": "markdown",
      "metadata": {
        "id": "view-in-github",
        "colab_type": "text"
      },
      "source": [
        "<a href=\"https://colab.research.google.com/github/zenon10/POC-OCR/blob/main/Extract_text_wrapper_vRG20230213.ipynb\" target=\"_parent\"><img src=\"https://colab.research.google.com/assets/colab-badge.svg\" alt=\"Open In Colab\"/></a>"
      ]
    },
    {
      "cell_type": "raw",
      "id": "0b1e8abf",
      "metadata": {
        "id": "0b1e8abf",
        "jupyter": {
          "outputs_hidden": true
        },
        "tags": []
      },
      "source": [
        "## For pdf\n",
        "! pip install pypdfium2\n",
        "## For textract \n",
        "!apt-get install python-dev libxml2-dev libxslt1-dev antiword unrtf poppler-utils \\\n",
        "     pstotext tesseract-ocr \\\n",
        "     flac ffmpeg lame libmad0 libsox-fmt-mp3 sox libjpeg-dev swig libasound2-dev libpulse-dev\n",
        "!pip install textract"
      ]
    },
    {
      "cell_type": "code",
      "execution_count": null,
      "id": "74bb61bb-f125-4061-b944-ba75a3960de7",
      "metadata": {
        "id": "74bb61bb-f125-4061-b944-ba75a3960de7"
      },
      "outputs": [],
      "source": [
        "# Library to work with Operating System\n",
        "import os\n",
        "import glob\n",
        "import pandas as pd\n",
        "from PIL import Image\n",
        "import pytesseract\n",
        "import shutil\n",
        "import textract\n",
        "import random\n",
        "from statistics import mean\n",
        "\n",
        "# Library to create PDF, inspection, manupulation and rendering(turning into images)\n",
        "import pypdfium2 as pdfium\n",
        "\n",
        "# If you don't have tesseract executable in your PATH, include the following:\n",
        "#pytesseract.pytesseract.tesseract_cmd = r'C:\\Users\\RiyaGupta\\AppData\\Local\\Programs\\Tesseract-OCR\\tesseract.exe'"
      ]
    },
    {
      "cell_type": "code",
      "execution_count": null,
      "id": "5706e9e5-92b9-49e6-8c5f-417aad70491f",
      "metadata": {
        "id": "5706e9e5-92b9-49e6-8c5f-417aad70491f",
        "jupyter": {
          "source_hidden": true
        },
        "tags": []
      },
      "outputs": [],
      "source": [
        "path = glob.glob(\"1_input/*\")\n",
        "metadata = pd.DataFrame({\"input_file_path\":path});metadata\n",
        "metadata.to_csv(\"metadata.csv\")"
      ]
    },
    {
      "cell_type": "code",
      "execution_count": null,
      "id": "8b0830fe-7a77-4e40-b822-43031865ce33",
      "metadata": {
        "id": "8b0830fe-7a77-4e40-b822-43031865ce33",
        "jupyter": {
          "source_hidden": true
        },
        "tags": []
      },
      "outputs": [],
      "source": []
    },
    {
      "cell_type": "code",
      "execution_count": null,
      "id": "c482a4cb-57d0-47fd-b092-205d19e797b0",
      "metadata": {
        "id": "c482a4cb-57d0-47fd-b092-205d19e797b0"
      },
      "outputs": [],
      "source": [
        "def pdf_to_txt(input_file_path, text_file_name, output_folder_path):\n",
        "    \n",
        "    pdf_info = pdfium.PdfDocument(input_file_path)\n",
        "        \n",
        "    # get the number of pages in the document\n",
        "    n_pages = len(pdf_info)\n",
        "    print('Number of pages {}'.format(n_pages))\n",
        "    \n",
        "    page_indices = [i for i in range(n_pages)]    \n",
        "    renderer = pdf_info.render_to(pdfium.BitmapConv.pil_image, page_indices = page_indices, scale = 300/72)\n",
        "    \n",
        "    combined_text = ''\n",
        "    ocr_conf = []\n",
        "    page = 0\n",
        "    for i in renderer:\n",
        "        page += 1\n",
        "        text = pytesseract.image_to_string(i, lang='fra')\n",
        "        ## Concatenating text-string outputs from each image into one master text-string\n",
        "        combined_text = (\"\\n**********\\n\"+str(page)+\"\\n**********\\n\").join([combined_text, text])\n",
        "        #confidence score—pytesseract\n",
        "        conf_score = pytesseract.image_to_data(i,output_type = 'data.frame')\n",
        "        conf_score = conf_score[conf_score.conf != -1]\n",
        "        ocr_conf.append(conf_score.conf.mean())\n",
        "    \n",
        "    ## Open a file with access mode 'w'\n",
        "    file_object2 = open(text_file_name, 'w', encoding=\"utf8\")\n",
        "    file_object2.write(combined_text)\n",
        "    file_object2.close()\n",
        "    return mean(ocr_conf)"
      ]
    },
    {
      "cell_type": "code",
      "execution_count": null,
      "id": "acaf192a-36f9-4877-a76a-1f16f52fd29d",
      "metadata": {
        "id": "acaf192a-36f9-4877-a76a-1f16f52fd29d",
        "tags": []
      },
      "outputs": [],
      "source": [
        "def extract_text(input_file_path, output_folder_path):\n",
        "    '''\n",
        "    This function takes French PDFs, doc, docx, excels, \n",
        "    extract text and save it in a txt file.\n",
        "\n",
        "    Input parameters\n",
        "        input_file_path: Input file location\n",
        "        output_file_path: Output file location\n",
        "        extra_dir: Directory to save additional output files for PDFs\n",
        "    Output\n",
        "        For PDF files, the extra_dir will have jpeg files and output_file_path will have txt files\n",
        "        For doc, docx and the excel, output_file_path will be only txt files\n",
        "    '''\n",
        "    file_name = os.path.basename(input_file_path).split('.')[0]\n",
        "    \n",
        "    if not os.path.exists(output_folder_path):\n",
        "        os.makedirs(output_folder_path )\n",
        "        \n",
        "    if os.path.exists(input_file_path):\n",
        "        print(\"Text extraction process starting for...\",input_file_path)\n",
        "        \n",
        "        ## Storing extension of input_file_path\n",
        "        file_name_extn = os.path.basename(input_file_path).split('.')[1]\n",
        "        \n",
        "        ## Keeping a list of acceptable extensions\n",
        "        pdf_extension = ['PDF']\n",
        "        non_pdf_extension = ['DOC', 'DOCX', 'XLSX']\n",
        "        \n",
        "        text_file_name = output_folder_path + file_name + \".txt\"\n",
        "        \n",
        "        ## Applying text extraction process based on formats\n",
        "        if file_name_extn.upper() in pdf_extension:\n",
        "            \n",
        "            ## Converting each page of PDF to combined text file\n",
        "            ocr_conf = pdf_to_txt(input_file_path, text_file_name, output_folder_path)\n",
        "            \n",
        "        elif file_name_extn.upper() in non_pdf_extension:\n",
        "            text_file = textract.process(input_file_path)\n",
        "            ocr_conf = 100\n",
        "            ## Saving text in output_file_path\n",
        "            with open(text_file_name, 'w') as f:\n",
        "                f.write(text_file.decode('utf8', 'strict'))\n",
        "        else:\n",
        "            raise ValueError(\"File does not match required formats - PDF, doc, docx, xlsx\")\n",
        "    else:\n",
        "        raise ValueError(\"File does not exist!!\")\n",
        "    return text_file_name, ocr_conf"
      ]
    },
    {
      "cell_type": "code",
      "execution_count": null,
      "id": "2618f3c7-76b7-45a6-a590-fbf45af8f5d8",
      "metadata": {
        "id": "2618f3c7-76b7-45a6-a590-fbf45af8f5d8"
      },
      "outputs": [],
      "source": [
        "def extract_text_wrapper(metadata_file_path, output_folder_path):\n",
        "    metadata = pd.read_csv(metadata_file_path)\n",
        "    metadata.loc[:,['text_file_path','confidence']] = metadata[\"input_file_path\"].apply(lambda x: extract_text(x, output_folder_path)).tolist()\n",
        "    metadata.to_csv(\"metadata.csv\")"
      ]
    },
    {
      "cell_type": "code",
      "execution_count": null,
      "id": "83b5614f-4f9f-44c8-bab4-407f0cdb4c5a",
      "metadata": {
        "id": "83b5614f-4f9f-44c8-bab4-407f0cdb4c5a",
        "outputId": "ce37f4f2-de0a-4068-991e-24808a41fcc5"
      },
      "outputs": [
        {
          "name": "stdout",
          "output_type": "stream",
          "text": [
            "Text extraction process starting for... 1_input\\f1.pdf\n",
            "Number of pages 6\n",
            "Text extraction process starting for... 1_input\\f2.docx\n",
            "Text extraction process starting for... 1_input\\f2.pdf\n",
            "Number of pages 4\n",
            "Text extraction process starting for... 1_input\\f3.docx\n"
          ]
        }
      ],
      "source": [
        "metadata_file_path = \"metadata.csv\"\n",
        "output_folder_path = \"2_output/\"\n",
        "extract_text_wrapper(metadata_file_path, output_folder_path)\n"
      ]
    }
  ],
  "metadata": {
    "colab": {
      "provenance": [],
      "include_colab_link": true
    },
    "kernelspec": {
      "display_name": "Python 3 (ipykernel)",
      "language": "python",
      "name": "python3"
    },
    "language_info": {
      "codemirror_mode": {
        "name": "ipython",
        "version": 3
      },
      "file_extension": ".py",
      "mimetype": "text/x-python",
      "name": "python",
      "nbconvert_exporter": "python",
      "pygments_lexer": "ipython3",
      "version": "3.9.13"
    }
  },
  "nbformat": 4,
  "nbformat_minor": 5
}